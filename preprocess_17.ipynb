{
 "cells": [
  {
   "cell_type": "code",
   "execution_count": 194,
   "metadata": {},
   "outputs": [],
   "source": [
    "import glob\n",
    "from PIL import Image\n",
    "from torchvision import transforms\n",
    "import torch\n",
    "import numpy as np\n",
    "import matplotlib.pyplot as plt\n",
    "import json"
   ]
  },
  {
   "cell_type": "code",
   "execution_count": 195,
   "metadata": {},
   "outputs": [
    {
     "data": {
      "text/plain": [
       "['bike-packing',\n",
       " 'blackswan',\n",
       " 'bmx-trees',\n",
       " 'breakdance',\n",
       " 'camel',\n",
       " 'car-roundabout',\n",
       " 'car-shadow',\n",
       " 'cows',\n",
       " 'dance-twirl',\n",
       " 'dog',\n",
       " 'dogs-jump',\n",
       " 'drift-chicane',\n",
       " 'drift-straight',\n",
       " 'goat',\n",
       " 'gold-fish',\n",
       " 'horsejump-high',\n",
       " 'india',\n",
       " 'judo',\n",
       " 'kite-surf',\n",
       " 'lab-coat',\n",
       " 'libby',\n",
       " 'loading',\n",
       " 'mbike-trick',\n",
       " 'motocross-jump',\n",
       " 'paragliding-launch',\n",
       " 'parkour',\n",
       " 'pigs',\n",
       " 'scooter-black',\n",
       " 'shooting',\n",
       " 'soapbox']"
      ]
     },
     "execution_count": 195,
     "metadata": {},
     "output_type": "execute_result"
    }
   ],
   "source": [
    "# set_type = \"train\"\n",
    "set_type = \"val\"\n",
    "root_path = \"./2017\"\n",
    "video_names_path = f\"{root_path}/ImageSets/2017/{set_type}.txt\"\n",
    "# load the video names\n",
    "with open(video_names_path, \"r\") as f:\n",
    "    video_names = f.readlines()\n",
    "video_names = [x.strip() for x in video_names]\n",
    "video_names"
   ]
  },
  {
   "cell_type": "code",
   "execution_count": 196,
   "metadata": {},
   "outputs": [
    {
     "data": {
      "text/plain": [
       "['./2017/JPEGImages/480p/bear/00021.jpg',\n",
       " './2017/JPEGImages/480p/bear/00015.jpg',\n",
       " './2017/JPEGImages/480p/bear/00042.jpg',\n",
       " './2017/JPEGImages/480p/bear/00022.jpg',\n",
       " './2017/JPEGImages/480p/bear/00036.jpg',\n",
       " './2017/JPEGImages/480p/bear/00007.jpg',\n",
       " './2017/JPEGImages/480p/bear/00055.jpg',\n",
       " './2017/JPEGImages/480p/bear/00013.jpg',\n",
       " './2017/JPEGImages/480p/bear/00020.jpg',\n",
       " './2017/JPEGImages/480p/bear/00071.jpg',\n",
       " './2017/JPEGImages/480p/bear/00029.jpg',\n",
       " './2017/JPEGImages/480p/bear/00032.jpg',\n",
       " './2017/JPEGImages/480p/bear/00011.jpg',\n",
       " './2017/JPEGImages/480p/bear/00026.jpg',\n",
       " './2017/JPEGImages/480p/bear/00010.jpg',\n",
       " './2017/JPEGImages/480p/bear/00041.jpg',\n",
       " './2017/JPEGImages/480p/bear/00016.jpg',\n",
       " './2017/JPEGImages/480p/bear/00014.jpg',\n",
       " './2017/JPEGImages/480p/bear/00034.jpg',\n",
       " './2017/JPEGImages/480p/bear/00038.jpg',\n",
       " './2017/JPEGImages/480p/bear/00004.jpg',\n",
       " './2017/JPEGImages/480p/bear/00000.jpg',\n",
       " './2017/JPEGImages/480p/bear/00073.jpg',\n",
       " './2017/JPEGImages/480p/bear/00068.jpg',\n",
       " './2017/JPEGImages/480p/bear/00024.jpg',\n",
       " './2017/JPEGImages/480p/bear/00044.jpg',\n",
       " './2017/JPEGImages/480p/bear/00037.jpg',\n",
       " './2017/JPEGImages/480p/bear/00031.jpg',\n",
       " './2017/JPEGImages/480p/bear/00006.jpg',\n",
       " './2017/JPEGImages/480p/bear/00067.jpg',\n",
       " './2017/JPEGImages/480p/bear/00080.jpg',\n",
       " './2017/JPEGImages/480p/bear/00075.jpg',\n",
       " './2017/JPEGImages/480p/bear/00077.jpg',\n",
       " './2017/JPEGImages/480p/bear/00076.jpg',\n",
       " './2017/JPEGImages/480p/bear/00001.jpg',\n",
       " './2017/JPEGImages/480p/bear/00070.jpg',\n",
       " './2017/JPEGImages/480p/bear/00072.jpg',\n",
       " './2017/JPEGImages/480p/bear/00028.jpg',\n",
       " './2017/JPEGImages/480p/bear/00081.jpg',\n",
       " './2017/JPEGImages/480p/bear/00056.jpg',\n",
       " './2017/JPEGImages/480p/bear/00017.jpg',\n",
       " './2017/JPEGImages/480p/bear/00039.jpg',\n",
       " './2017/JPEGImages/480p/bear/00074.jpg',\n",
       " './2017/JPEGImages/480p/bear/00048.jpg',\n",
       " './2017/JPEGImages/480p/bear/00027.jpg',\n",
       " './2017/JPEGImages/480p/bear/00064.jpg',\n",
       " './2017/JPEGImages/480p/bear/00019.jpg',\n",
       " './2017/JPEGImages/480p/bear/00065.jpg',\n",
       " './2017/JPEGImages/480p/bear/00043.jpg',\n",
       " './2017/JPEGImages/480p/bear/00045.jpg',\n",
       " './2017/JPEGImages/480p/bear/00058.jpg',\n",
       " './2017/JPEGImages/480p/bear/00025.jpg',\n",
       " './2017/JPEGImages/480p/bear/00066.jpg',\n",
       " './2017/JPEGImages/480p/bear/00061.jpg',\n",
       " './2017/JPEGImages/480p/bear/00005.jpg',\n",
       " './2017/JPEGImages/480p/bear/00054.jpg',\n",
       " './2017/JPEGImages/480p/bear/00062.jpg',\n",
       " './2017/JPEGImages/480p/bear/00079.jpg',\n",
       " './2017/JPEGImages/480p/bear/00053.jpg',\n",
       " './2017/JPEGImages/480p/bear/00003.jpg',\n",
       " './2017/JPEGImages/480p/bear/00050.jpg',\n",
       " './2017/JPEGImages/480p/bear/00008.jpg',\n",
       " './2017/JPEGImages/480p/bear/00046.jpg',\n",
       " './2017/JPEGImages/480p/bear/00049.jpg',\n",
       " './2017/JPEGImages/480p/bear/00033.jpg',\n",
       " './2017/JPEGImages/480p/bear/00052.jpg',\n",
       " './2017/JPEGImages/480p/bear/00051.jpg',\n",
       " './2017/JPEGImages/480p/bear/00002.jpg',\n",
       " './2017/JPEGImages/480p/bear/00012.jpg',\n",
       " './2017/JPEGImages/480p/bear/00060.jpg',\n",
       " './2017/JPEGImages/480p/bear/00009.jpg',\n",
       " './2017/JPEGImages/480p/bear/00040.jpg',\n",
       " './2017/JPEGImages/480p/bear/00030.jpg',\n",
       " './2017/JPEGImages/480p/bear/00069.jpg',\n",
       " './2017/JPEGImages/480p/bear/00063.jpg',\n",
       " './2017/JPEGImages/480p/bear/00023.jpg',\n",
       " './2017/JPEGImages/480p/bear/00018.jpg',\n",
       " './2017/JPEGImages/480p/bear/00059.jpg',\n",
       " './2017/JPEGImages/480p/bear/00047.jpg',\n",
       " './2017/JPEGImages/480p/bear/00057.jpg',\n",
       " './2017/JPEGImages/480p/bear/00035.jpg',\n",
       " './2017/JPEGImages/480p/bear/00078.jpg']"
      ]
     },
     "execution_count": 196,
     "metadata": {},
     "output_type": "execute_result"
    }
   ],
   "source": [
    "glob.glob(f\"{root_path}/JPEGImages/480p/bear/*.jpg\")"
   ]
  },
  {
   "cell_type": "code",
   "execution_count": 197,
   "metadata": {},
   "outputs": [
    {
     "data": {
      "text/plain": [
       "{'video_paths': ['./2017/JPEGImages/480p/bike-packing/00000.jpg',\n",
       "  './2017/JPEGImages/480p/bike-packing/00001.jpg',\n",
       "  './2017/JPEGImages/480p/bike-packing/00002.jpg',\n",
       "  './2017/JPEGImages/480p/bike-packing/00003.jpg',\n",
       "  './2017/JPEGImages/480p/bike-packing/00004.jpg',\n",
       "  './2017/JPEGImages/480p/bike-packing/00005.jpg',\n",
       "  './2017/JPEGImages/480p/bike-packing/00006.jpg',\n",
       "  './2017/JPEGImages/480p/bike-packing/00007.jpg',\n",
       "  './2017/JPEGImages/480p/bike-packing/00008.jpg',\n",
       "  './2017/JPEGImages/480p/bike-packing/00009.jpg',\n",
       "  './2017/JPEGImages/480p/bike-packing/00010.jpg',\n",
       "  './2017/JPEGImages/480p/bike-packing/00011.jpg',\n",
       "  './2017/JPEGImages/480p/bike-packing/00012.jpg',\n",
       "  './2017/JPEGImages/480p/bike-packing/00013.jpg',\n",
       "  './2017/JPEGImages/480p/bike-packing/00014.jpg',\n",
       "  './2017/JPEGImages/480p/bike-packing/00015.jpg',\n",
       "  './2017/JPEGImages/480p/bike-packing/00016.jpg',\n",
       "  './2017/JPEGImages/480p/bike-packing/00017.jpg',\n",
       "  './2017/JPEGImages/480p/bike-packing/00018.jpg',\n",
       "  './2017/JPEGImages/480p/bike-packing/00019.jpg',\n",
       "  './2017/JPEGImages/480p/bike-packing/00020.jpg',\n",
       "  './2017/JPEGImages/480p/bike-packing/00021.jpg',\n",
       "  './2017/JPEGImages/480p/bike-packing/00022.jpg',\n",
       "  './2017/JPEGImages/480p/bike-packing/00023.jpg',\n",
       "  './2017/JPEGImages/480p/bike-packing/00024.jpg',\n",
       "  './2017/JPEGImages/480p/bike-packing/00025.jpg',\n",
       "  './2017/JPEGImages/480p/bike-packing/00026.jpg',\n",
       "  './2017/JPEGImages/480p/bike-packing/00027.jpg',\n",
       "  './2017/JPEGImages/480p/bike-packing/00028.jpg',\n",
       "  './2017/JPEGImages/480p/bike-packing/00029.jpg',\n",
       "  './2017/JPEGImages/480p/bike-packing/00030.jpg',\n",
       "  './2017/JPEGImages/480p/bike-packing/00031.jpg',\n",
       "  './2017/JPEGImages/480p/bike-packing/00032.jpg',\n",
       "  './2017/JPEGImages/480p/bike-packing/00033.jpg',\n",
       "  './2017/JPEGImages/480p/bike-packing/00034.jpg',\n",
       "  './2017/JPEGImages/480p/bike-packing/00035.jpg',\n",
       "  './2017/JPEGImages/480p/bike-packing/00036.jpg',\n",
       "  './2017/JPEGImages/480p/bike-packing/00037.jpg',\n",
       "  './2017/JPEGImages/480p/bike-packing/00038.jpg',\n",
       "  './2017/JPEGImages/480p/bike-packing/00039.jpg',\n",
       "  './2017/JPEGImages/480p/bike-packing/00040.jpg',\n",
       "  './2017/JPEGImages/480p/bike-packing/00041.jpg',\n",
       "  './2017/JPEGImages/480p/bike-packing/00042.jpg',\n",
       "  './2017/JPEGImages/480p/bike-packing/00043.jpg',\n",
       "  './2017/JPEGImages/480p/bike-packing/00044.jpg',\n",
       "  './2017/JPEGImages/480p/bike-packing/00045.jpg',\n",
       "  './2017/JPEGImages/480p/bike-packing/00046.jpg',\n",
       "  './2017/JPEGImages/480p/bike-packing/00047.jpg',\n",
       "  './2017/JPEGImages/480p/bike-packing/00048.jpg',\n",
       "  './2017/JPEGImages/480p/bike-packing/00049.jpg',\n",
       "  './2017/JPEGImages/480p/bike-packing/00050.jpg',\n",
       "  './2017/JPEGImages/480p/bike-packing/00051.jpg',\n",
       "  './2017/JPEGImages/480p/bike-packing/00052.jpg',\n",
       "  './2017/JPEGImages/480p/bike-packing/00053.jpg',\n",
       "  './2017/JPEGImages/480p/bike-packing/00054.jpg',\n",
       "  './2017/JPEGImages/480p/bike-packing/00055.jpg',\n",
       "  './2017/JPEGImages/480p/bike-packing/00056.jpg',\n",
       "  './2017/JPEGImages/480p/bike-packing/00057.jpg',\n",
       "  './2017/JPEGImages/480p/bike-packing/00058.jpg',\n",
       "  './2017/JPEGImages/480p/bike-packing/00059.jpg',\n",
       "  './2017/JPEGImages/480p/bike-packing/00060.jpg',\n",
       "  './2017/JPEGImages/480p/bike-packing/00061.jpg',\n",
       "  './2017/JPEGImages/480p/bike-packing/00062.jpg',\n",
       "  './2017/JPEGImages/480p/bike-packing/00063.jpg',\n",
       "  './2017/JPEGImages/480p/bike-packing/00064.jpg',\n",
       "  './2017/JPEGImages/480p/bike-packing/00065.jpg',\n",
       "  './2017/JPEGImages/480p/bike-packing/00066.jpg',\n",
       "  './2017/JPEGImages/480p/bike-packing/00067.jpg',\n",
       "  './2017/JPEGImages/480p/bike-packing/00068.jpg'],\n",
       " 'annotation_paths': ['./2017/Annotations/480p/bike-packing/00000.png',\n",
       "  './2017/Annotations/480p/bike-packing/00001.png',\n",
       "  './2017/Annotations/480p/bike-packing/00002.png',\n",
       "  './2017/Annotations/480p/bike-packing/00003.png',\n",
       "  './2017/Annotations/480p/bike-packing/00004.png',\n",
       "  './2017/Annotations/480p/bike-packing/00005.png',\n",
       "  './2017/Annotations/480p/bike-packing/00006.png',\n",
       "  './2017/Annotations/480p/bike-packing/00007.png',\n",
       "  './2017/Annotations/480p/bike-packing/00008.png',\n",
       "  './2017/Annotations/480p/bike-packing/00009.png',\n",
       "  './2017/Annotations/480p/bike-packing/00010.png',\n",
       "  './2017/Annotations/480p/bike-packing/00011.png',\n",
       "  './2017/Annotations/480p/bike-packing/00012.png',\n",
       "  './2017/Annotations/480p/bike-packing/00013.png',\n",
       "  './2017/Annotations/480p/bike-packing/00014.png',\n",
       "  './2017/Annotations/480p/bike-packing/00015.png',\n",
       "  './2017/Annotations/480p/bike-packing/00016.png',\n",
       "  './2017/Annotations/480p/bike-packing/00017.png',\n",
       "  './2017/Annotations/480p/bike-packing/00018.png',\n",
       "  './2017/Annotations/480p/bike-packing/00019.png',\n",
       "  './2017/Annotations/480p/bike-packing/00020.png',\n",
       "  './2017/Annotations/480p/bike-packing/00021.png',\n",
       "  './2017/Annotations/480p/bike-packing/00022.png',\n",
       "  './2017/Annotations/480p/bike-packing/00023.png',\n",
       "  './2017/Annotations/480p/bike-packing/00024.png',\n",
       "  './2017/Annotations/480p/bike-packing/00025.png',\n",
       "  './2017/Annotations/480p/bike-packing/00026.png',\n",
       "  './2017/Annotations/480p/bike-packing/00027.png',\n",
       "  './2017/Annotations/480p/bike-packing/00028.png',\n",
       "  './2017/Annotations/480p/bike-packing/00029.png',\n",
       "  './2017/Annotations/480p/bike-packing/00030.png',\n",
       "  './2017/Annotations/480p/bike-packing/00031.png',\n",
       "  './2017/Annotations/480p/bike-packing/00032.png',\n",
       "  './2017/Annotations/480p/bike-packing/00033.png',\n",
       "  './2017/Annotations/480p/bike-packing/00034.png',\n",
       "  './2017/Annotations/480p/bike-packing/00035.png',\n",
       "  './2017/Annotations/480p/bike-packing/00036.png',\n",
       "  './2017/Annotations/480p/bike-packing/00037.png',\n",
       "  './2017/Annotations/480p/bike-packing/00038.png',\n",
       "  './2017/Annotations/480p/bike-packing/00039.png',\n",
       "  './2017/Annotations/480p/bike-packing/00040.png',\n",
       "  './2017/Annotations/480p/bike-packing/00041.png',\n",
       "  './2017/Annotations/480p/bike-packing/00042.png',\n",
       "  './2017/Annotations/480p/bike-packing/00043.png',\n",
       "  './2017/Annotations/480p/bike-packing/00044.png',\n",
       "  './2017/Annotations/480p/bike-packing/00045.png',\n",
       "  './2017/Annotations/480p/bike-packing/00046.png',\n",
       "  './2017/Annotations/480p/bike-packing/00047.png',\n",
       "  './2017/Annotations/480p/bike-packing/00048.png',\n",
       "  './2017/Annotations/480p/bike-packing/00049.png',\n",
       "  './2017/Annotations/480p/bike-packing/00050.png',\n",
       "  './2017/Annotations/480p/bike-packing/00051.png',\n",
       "  './2017/Annotations/480p/bike-packing/00052.png',\n",
       "  './2017/Annotations/480p/bike-packing/00053.png',\n",
       "  './2017/Annotations/480p/bike-packing/00054.png',\n",
       "  './2017/Annotations/480p/bike-packing/00055.png',\n",
       "  './2017/Annotations/480p/bike-packing/00056.png',\n",
       "  './2017/Annotations/480p/bike-packing/00057.png',\n",
       "  './2017/Annotations/480p/bike-packing/00058.png',\n",
       "  './2017/Annotations/480p/bike-packing/00059.png',\n",
       "  './2017/Annotations/480p/bike-packing/00060.png',\n",
       "  './2017/Annotations/480p/bike-packing/00061.png',\n",
       "  './2017/Annotations/480p/bike-packing/00062.png',\n",
       "  './2017/Annotations/480p/bike-packing/00063.png',\n",
       "  './2017/Annotations/480p/bike-packing/00064.png',\n",
       "  './2017/Annotations/480p/bike-packing/00065.png',\n",
       "  './2017/Annotations/480p/bike-packing/00066.png',\n",
       "  './2017/Annotations/480p/bike-packing/00067.png',\n",
       "  './2017/Annotations/480p/bike-packing/00068.png']}"
      ]
     },
     "execution_count": 197,
     "metadata": {},
     "output_type": "execute_result"
    }
   ],
   "source": [
    "video_datas = {}\n",
    "for video_name in video_names:\n",
    "    tmp_data = {}\n",
    "    tmp_data[\"video_paths\"] = sorted(glob.glob(f\"{root_path}/JPEGImages/480p/{video_name}/*.jpg\"))\n",
    "    tmp_data[\"annotation_paths\"] = sorted(glob.glob(f\"{root_path}/Annotations/480p/{video_name}/*.png\"))\n",
    "    video_datas[video_name] = tmp_data\n",
    "video_datas[video_names[0]]"
   ]
  },
  {
   "cell_type": "code",
   "execution_count": 198,
   "metadata": {},
   "outputs": [],
   "source": [
    "anno_transform = transforms.Compose(\n",
    "    [\n",
    "        transforms.Resize((224, 224)),\n",
    "        transforms.ToTensor(),\n",
    "        # transforms.Normalize(mean=[0.485, 0.456, 0.406], std=[0.229, 0.224, 0.225]),\n",
    "    ]\n",
    ")"
   ]
  },
  {
   "cell_type": "code",
   "execution_count": 199,
   "metadata": {},
   "outputs": [
    {
     "data": {
      "image/jpeg": "[encoded data removed]",
      "image/png": "[encoded data removed]",
      "text/plain": [
       "<PIL.Image.Image image mode=RGB size=854x480>"
      ]
     },
     "execution_count": 199,
     "metadata": {},
     "output_type": "execute_result"
    }
   ],
   "source": [
    "anno_path = video_datas[video_names[3]][\"annotation_paths\"][0]\n",
    "anno_img = Image.open(anno_path).convert(\"RGB\")\n",
    "anno_img"
   ]
  },
  {
   "cell_type": "code",
   "execution_count": 200,
   "metadata": {},
   "outputs": [
    {
     "data": {
      "text/plain": [
       "array([[  0,   0,   0],\n",
       "       [128,   0,   0]])"
      ]
     },
     "execution_count": 200,
     "metadata": {},
     "output_type": "execute_result"
    }
   ],
   "source": [
    "anno_colors = anno_img.getcolors()\n",
    "anno_colors = [x[1] for x in anno_colors]\n",
    "anno_colors = sorted(anno_colors)\n",
    "anno_colors = np.array(anno_colors)\n",
    "anno_colors"
   ]
  },
  {
   "cell_type": "code",
   "execution_count": 201,
   "metadata": {},
   "outputs": [],
   "source": [
    "assert (anno_colors[0] == np.array([0, 0, 0])).all()"
   ]
  },
  {
   "cell_type": "code",
   "execution_count": 202,
   "metadata": {},
   "outputs": [
    {
     "data": {
      "text/plain": [
       "(480, 854, 3)"
      ]
     },
     "execution_count": 202,
     "metadata": {},
     "output_type": "execute_result"
    }
   ],
   "source": [
    "anno_array = np.array(anno_img)\n",
    "anno_array.shape"
   ]
  },
  {
   "cell_type": "code",
   "execution_count": 203,
   "metadata": {},
   "outputs": [
    {
     "data": {
      "image/jpeg": "[encoded data removed]",
      "image/png": "[encoded data removed]",
      "text/plain": [
       "<PIL.Image.Image image mode=1 size=854x480>"
      ]
     },
     "execution_count": 203,
     "metadata": {},
     "output_type": "execute_result"
    }
   ],
   "source": [
    "def reserve_color(anno_array: np.ndarray, color: np.ndarray) -> np.ndarray:\n",
    "    # anno_array = anno_array.copy()\n",
    "    mask = np.all(anno_array == color, axis=-1)\n",
    "    # anno_array[mask] = (255, 255, 255)\n",
    "    # anno_array[~mask] = (0, 0, 0)\n",
    "    return mask\n",
    "one_anno_array = reserve_color(anno_array, anno_colors[1])\n",
    "one_anno_image = Image.fromarray(one_anno_array)\n",
    "one_anno_image"
   ]
  },
  {
   "cell_type": "code",
   "execution_count": 204,
   "metadata": {},
   "outputs": [
    {
     "name": "stdout",
     "output_type": "stream",
     "text": [
      "torch.Size([224, 224])\n"
     ]
    },
    {
     "data": {
      "text/plain": [
       "<matplotlib.image.AxesImage at 0x7f3d50455cd0>"
      ]
     },
     "execution_count": 204,
     "metadata": {},
     "output_type": "execute_result"
    },
    {
     "data": {
      "image/png": "[encoded data removed]",
      "text/plain": [
       "<Figure size 640x480 with 1 Axes>"
      ]
     },
     "metadata": {},
     "output_type": "display_data"
    }
   ],
   "source": [
    "one_anno_tensor = anno_transform(one_anno_image).squeeze(0)\n",
    "print(one_anno_tensor.shape)\n",
    "plt.imshow(one_anno_tensor.numpy(), cmap=\"gray\")"
   ]
  },
  {
   "cell_type": "code",
   "execution_count": 205,
   "metadata": {},
   "outputs": [
    {
     "data": {
      "text/plain": [
       "[[128, 0, 0]]"
      ]
     },
     "execution_count": 205,
     "metadata": {},
     "output_type": "execute_result"
    }
   ],
   "source": [
    "def get_colors(anno_img: Image.Image) -> np.ndarray:\n",
    "    anno_colors = anno_img.getcolors()\n",
    "    anno_colors = [x[1] for x in anno_colors]\n",
    "    anno_colors = sorted(anno_colors)\n",
    "    anno_colors = np.array(anno_colors)\n",
    "    assert (anno_colors[0] == np.array([0, 0, 0])).all()\n",
    "    return anno_colors[1:].tolist()\n",
    "get_colors(anno_img)"
   ]
  },
  {
   "cell_type": "code",
   "execution_count": 206,
   "metadata": {},
   "outputs": [
    {
     "data": {
      "text/plain": [
       "{'img_paths': ['./2017/JPEGImages/480p/bike-packing/00000.jpg',\n",
       "  './2017/JPEGImages/480p/bike-packing/00001.jpg',\n",
       "  './2017/JPEGImages/480p/bike-packing/00002.jpg',\n",
       "  './2017/JPEGImages/480p/bike-packing/00003.jpg',\n",
       "  './2017/JPEGImages/480p/bike-packing/00004.jpg',\n",
       "  './2017/JPEGImages/480p/bike-packing/00005.jpg',\n",
       "  './2017/JPEGImages/480p/bike-packing/00006.jpg',\n",
       "  './2017/JPEGImages/480p/bike-packing/00007.jpg',\n",
       "  './2017/JPEGImages/480p/bike-packing/00008.jpg',\n",
       "  './2017/JPEGImages/480p/bike-packing/00009.jpg',\n",
       "  './2017/JPEGImages/480p/bike-packing/00010.jpg',\n",
       "  './2017/JPEGImages/480p/bike-packing/00011.jpg',\n",
       "  './2017/JPEGImages/480p/bike-packing/00012.jpg',\n",
       "  './2017/JPEGImages/480p/bike-packing/00013.jpg',\n",
       "  './2017/JPEGImages/480p/bike-packing/00014.jpg',\n",
       "  './2017/JPEGImages/480p/bike-packing/00015.jpg',\n",
       "  './2017/JPEGImages/480p/bike-packing/00016.jpg',\n",
       "  './2017/JPEGImages/480p/bike-packing/00017.jpg',\n",
       "  './2017/JPEGImages/480p/bike-packing/00018.jpg',\n",
       "  './2017/JPEGImages/480p/bike-packing/00019.jpg',\n",
       "  './2017/JPEGImages/480p/bike-packing/00020.jpg',\n",
       "  './2017/JPEGImages/480p/bike-packing/00021.jpg',\n",
       "  './2017/JPEGImages/480p/bike-packing/00022.jpg',\n",
       "  './2017/JPEGImages/480p/bike-packing/00023.jpg',\n",
       "  './2017/JPEGImages/480p/bike-packing/00024.jpg',\n",
       "  './2017/JPEGImages/480p/bike-packing/00025.jpg',\n",
       "  './2017/JPEGImages/480p/bike-packing/00026.jpg',\n",
       "  './2017/JPEGImages/480p/bike-packing/00027.jpg',\n",
       "  './2017/JPEGImages/480p/bike-packing/00028.jpg',\n",
       "  './2017/JPEGImages/480p/bike-packing/00029.jpg',\n",
       "  './2017/JPEGImages/480p/bike-packing/00030.jpg',\n",
       "  './2017/JPEGImages/480p/bike-packing/00031.jpg',\n",
       "  './2017/JPEGImages/480p/bike-packing/00032.jpg',\n",
       "  './2017/JPEGImages/480p/bike-packing/00033.jpg',\n",
       "  './2017/JPEGImages/480p/bike-packing/00034.jpg',\n",
       "  './2017/JPEGImages/480p/bike-packing/00035.jpg',\n",
       "  './2017/JPEGImages/480p/bike-packing/00036.jpg',\n",
       "  './2017/JPEGImages/480p/bike-packing/00037.jpg',\n",
       "  './2017/JPEGImages/480p/bike-packing/00038.jpg',\n",
       "  './2017/JPEGImages/480p/bike-packing/00039.jpg',\n",
       "  './2017/JPEGImages/480p/bike-packing/00040.jpg',\n",
       "  './2017/JPEGImages/480p/bike-packing/00041.jpg',\n",
       "  './2017/JPEGImages/480p/bike-packing/00042.jpg',\n",
       "  './2017/JPEGImages/480p/bike-packing/00043.jpg',\n",
       "  './2017/JPEGImages/480p/bike-packing/00044.jpg',\n",
       "  './2017/JPEGImages/480p/bike-packing/00045.jpg',\n",
       "  './2017/JPEGImages/480p/bike-packing/00046.jpg',\n",
       "  './2017/JPEGImages/480p/bike-packing/00047.jpg',\n",
       "  './2017/JPEGImages/480p/bike-packing/00048.jpg',\n",
       "  './2017/JPEGImages/480p/bike-packing/00049.jpg',\n",
       "  './2017/JPEGImages/480p/bike-packing/00050.jpg',\n",
       "  './2017/JPEGImages/480p/bike-packing/00051.jpg',\n",
       "  './2017/JPEGImages/480p/bike-packing/00052.jpg',\n",
       "  './2017/JPEGImages/480p/bike-packing/00053.jpg',\n",
       "  './2017/JPEGImages/480p/bike-packing/00054.jpg',\n",
       "  './2017/JPEGImages/480p/bike-packing/00055.jpg',\n",
       "  './2017/JPEGImages/480p/bike-packing/00056.jpg',\n",
       "  './2017/JPEGImages/480p/bike-packing/00057.jpg',\n",
       "  './2017/JPEGImages/480p/bike-packing/00058.jpg',\n",
       "  './2017/JPEGImages/480p/bike-packing/00059.jpg',\n",
       "  './2017/JPEGImages/480p/bike-packing/00060.jpg',\n",
       "  './2017/JPEGImages/480p/bike-packing/00061.jpg',\n",
       "  './2017/JPEGImages/480p/bike-packing/00062.jpg',\n",
       "  './2017/JPEGImages/480p/bike-packing/00063.jpg',\n",
       "  './2017/JPEGImages/480p/bike-packing/00064.jpg',\n",
       "  './2017/JPEGImages/480p/bike-packing/00065.jpg',\n",
       "  './2017/JPEGImages/480p/bike-packing/00066.jpg',\n",
       "  './2017/JPEGImages/480p/bike-packing/00067.jpg',\n",
       "  './2017/JPEGImages/480p/bike-packing/00068.jpg'],\n",
       " 'anno_paths': ['./2017/Annotations/480p/bike-packing/00000.png',\n",
       "  './2017/Annotations/480p/bike-packing/00001.png',\n",
       "  './2017/Annotations/480p/bike-packing/00002.png',\n",
       "  './2017/Annotations/480p/bike-packing/00003.png',\n",
       "  './2017/Annotations/480p/bike-packing/00004.png',\n",
       "  './2017/Annotations/480p/bike-packing/00005.png',\n",
       "  './2017/Annotations/480p/bike-packing/00006.png',\n",
       "  './2017/Annotations/480p/bike-packing/00007.png',\n",
       "  './2017/Annotations/480p/bike-packing/00008.png',\n",
       "  './2017/Annotations/480p/bike-packing/00009.png',\n",
       "  './2017/Annotations/480p/bike-packing/00010.png',\n",
       "  './2017/Annotations/480p/bike-packing/00011.png',\n",
       "  './2017/Annotations/480p/bike-packing/00012.png',\n",
       "  './2017/Annotations/480p/bike-packing/00013.png',\n",
       "  './2017/Annotations/480p/bike-packing/00014.png',\n",
       "  './2017/Annotations/480p/bike-packing/00015.png',\n",
       "  './2017/Annotations/480p/bike-packing/00016.png',\n",
       "  './2017/Annotations/480p/bike-packing/00017.png',\n",
       "  './2017/Annotations/480p/bike-packing/00018.png',\n",
       "  './2017/Annotations/480p/bike-packing/00019.png',\n",
       "  './2017/Annotations/480p/bike-packing/00020.png',\n",
       "  './2017/Annotations/480p/bike-packing/00021.png',\n",
       "  './2017/Annotations/480p/bike-packing/00022.png',\n",
       "  './2017/Annotations/480p/bike-packing/00023.png',\n",
       "  './2017/Annotations/480p/bike-packing/00024.png',\n",
       "  './2017/Annotations/480p/bike-packing/00025.png',\n",
       "  './2017/Annotations/480p/bike-packing/00026.png',\n",
       "  './2017/Annotations/480p/bike-packing/00027.png',\n",
       "  './2017/Annotations/480p/bike-packing/00028.png',\n",
       "  './2017/Annotations/480p/bike-packing/00029.png',\n",
       "  './2017/Annotations/480p/bike-packing/00030.png',\n",
       "  './2017/Annotations/480p/bike-packing/00031.png',\n",
       "  './2017/Annotations/480p/bike-packing/00032.png',\n",
       "  './2017/Annotations/480p/bike-packing/00033.png',\n",
       "  './2017/Annotations/480p/bike-packing/00034.png',\n",
       "  './2017/Annotations/480p/bike-packing/00035.png',\n",
       "  './2017/Annotations/480p/bike-packing/00036.png',\n",
       "  './2017/Annotations/480p/bike-packing/00037.png',\n",
       "  './2017/Annotations/480p/bike-packing/00038.png',\n",
       "  './2017/Annotations/480p/bike-packing/00039.png',\n",
       "  './2017/Annotations/480p/bike-packing/00040.png',\n",
       "  './2017/Annotations/480p/bike-packing/00041.png',\n",
       "  './2017/Annotations/480p/bike-packing/00042.png',\n",
       "  './2017/Annotations/480p/bike-packing/00043.png',\n",
       "  './2017/Annotations/480p/bike-packing/00044.png',\n",
       "  './2017/Annotations/480p/bike-packing/00045.png',\n",
       "  './2017/Annotations/480p/bike-packing/00046.png',\n",
       "  './2017/Annotations/480p/bike-packing/00047.png',\n",
       "  './2017/Annotations/480p/bike-packing/00048.png',\n",
       "  './2017/Annotations/480p/bike-packing/00049.png',\n",
       "  './2017/Annotations/480p/bike-packing/00050.png',\n",
       "  './2017/Annotations/480p/bike-packing/00051.png',\n",
       "  './2017/Annotations/480p/bike-packing/00052.png',\n",
       "  './2017/Annotations/480p/bike-packing/00053.png',\n",
       "  './2017/Annotations/480p/bike-packing/00054.png',\n",
       "  './2017/Annotations/480p/bike-packing/00055.png',\n",
       "  './2017/Annotations/480p/bike-packing/00056.png',\n",
       "  './2017/Annotations/480p/bike-packing/00057.png',\n",
       "  './2017/Annotations/480p/bike-packing/00058.png',\n",
       "  './2017/Annotations/480p/bike-packing/00059.png',\n",
       "  './2017/Annotations/480p/bike-packing/00060.png',\n",
       "  './2017/Annotations/480p/bike-packing/00061.png',\n",
       "  './2017/Annotations/480p/bike-packing/00062.png',\n",
       "  './2017/Annotations/480p/bike-packing/00063.png',\n",
       "  './2017/Annotations/480p/bike-packing/00064.png',\n",
       "  './2017/Annotations/480p/bike-packing/00065.png',\n",
       "  './2017/Annotations/480p/bike-packing/00066.png',\n",
       "  './2017/Annotations/480p/bike-packing/00067.png',\n",
       "  './2017/Annotations/480p/bike-packing/00068.png'],\n",
       " 'anno_colors': [[0, 128, 0], [128, 0, 0]]}"
      ]
     },
     "execution_count": 206,
     "metadata": {},
     "output_type": "execute_result"
    }
   ],
   "source": [
    "video_datas = {}\n",
    "max_length = 0\n",
    "max_length_video_name = \"\"\n",
    "for video_name in video_names:\n",
    "    tmp_data = {}\n",
    "    tmp_data[\"img_paths\"] = sorted(glob.glob(f\"{root_path}/JPEGImages/480p/{video_name}/*.jpg\"))\n",
    "    tmp_data[\"anno_paths\"] = sorted(glob.glob(f\"{root_path}/Annotations/480p/{video_name}/*.png\"))\n",
    "    first_anno_img = Image.open(tmp_data[\"anno_paths\"][0]).convert(\"RGB\")\n",
    "    tmp_data[\"anno_colors\"] = get_colors(first_anno_img)\n",
    "    video_datas[video_name] = tmp_data\n",
    "    if len(tmp_data[\"anno_colors\"]) > max_length:\n",
    "        max_length = len(tmp_data[\"anno_colors\"])\n",
    "        max_length_video_name = video_name\n",
    "video_datas[video_names[0]]"
   ]
  },
  {
   "cell_type": "code",
   "execution_count": 207,
   "metadata": {},
   "outputs": [
    {
     "data": {
      "text/plain": [
       "(5, 'gold-fish')"
      ]
     },
     "execution_count": 207,
     "metadata": {},
     "output_type": "execute_result"
    }
   ],
   "source": [
    "max_length, max_length_video_name"
   ]
  },
  {
   "cell_type": "code",
   "execution_count": 209,
   "metadata": {},
   "outputs": [],
   "source": [
    "# save the video datas\n",
    "video_datas_path = f\"{root_path}/{set_type}_video_datas.json\"\n",
    "with open(video_datas_path, \"w\") as f:\n",
    "    json.dump(video_datas, f)"
   ]
  }
 ],
 "metadata": {
  "kernelspec": {
   "display_name": "Python 3 (ipykernel)",
   "language": "python",
   "name": "python3"
  },
  "language_info": {
   "codemirror_mode": {
    "name": "ipython",
    "version": 3
   },
   "file_extension": ".py",
   "mimetype": "text/x-python",
   "name": "python",
   "nbconvert_exporter": "python",
   "pygments_lexer": "ipython3",
   "version": "3.12.2"
  }
 },
 "nbformat": 4,
 "nbformat_minor": 2
}
