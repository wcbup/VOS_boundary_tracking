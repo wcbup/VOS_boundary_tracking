{
 "cells": [
  {
   "cell_type": "code",
   "execution_count": 1,
   "metadata": {},
   "outputs": [],
   "source": [
    "import torch\n",
    "import torch.nn as nn\n",
    "import torch.nn.functional as F\n",
    "from torchvision.models import resnet50, ResNet50_Weights\n",
    "from torchsummary import summary\n",
    "import numpy as np\n",
    "from model import PositionalEncoding\n",
    "from model import NeighborModel"
   ]
  },
  {
   "cell_type": "code",
   "execution_count": 2,
   "metadata": {},
   "outputs": [],
   "source": [
    "def get_bou_features(\n",
    "    img_features: torch.Tensor, boundary: torch.Tensor\n",
    ") -> torch.Tensor:\n",
    "    bou_features = img_features[\n",
    "        0, :, boundary[0, :, 0], boundary[0, :, 1]\n",
    "    ].unsqueeze(0)\n",
    "    for i in range(1, boundary.shape[0]):\n",
    "        bou_features = torch.cat(\n",
    "            (\n",
    "                bou_features,\n",
    "                img_features[\n",
    "                    i,\n",
    "                    :,\n",
    "                    boundary[i, :, 0],\n",
    "                    boundary[i, :, 1],\n",
    "                ].unsqueeze(0),\n",
    "            ),\n",
    "            dim=0,\n",
    "        )\n",
    "    return bou_features"
   ]
  },
  {
   "cell_type": "code",
   "execution_count": 3,
   "metadata": {},
   "outputs": [
    {
     "name": "stderr",
     "output_type": "stream",
     "text": [
      "/zhome/32/f/202284/CV/lib/python3.11/site-packages/torch/nn/modules/transformer.py:282: UserWarning: enable_nested_tensor is True, but self.use_nested_tensor is False because encoder_layer.self_attn.num_heads is odd\n",
      "  warnings.warn(f\"enable_nested_tensor is True, but self.use_nested_tensor is False because {why_not_sparsity_fast_path}\")\n"
     ]
    }
   ],
   "source": [
    "d_token = 1024 + 2\n",
    "boundary_num = 80\n",
    "device = \"cpu\"\n",
    "res50 = resnet50(weights=ResNet50_Weights.IMAGENET1K_V2).to(device)\n",
    "res50_bone = nn.Sequential(*list(res50.children())[:-3]).to(device)\n",
    "positional_encoding = PositionalEncoding(d_token).to(device)\n",
    "layernorm = nn.LayerNorm(d_token).to(device)\n",
    "query_encoder = nn.Linear(1024, d_token).to(device)\n",
    "tranformer_encoder = nn.TransformerEncoder(\n",
    "    nn.TransformerEncoderLayer(\n",
    "        d_model=d_token,\n",
    "        nhead=1,\n",
    "        batch_first=True,\n",
    "    ),\n",
    "    num_layers=1,\n",
    ").to(device)\n",
    "xy_offset_encoder = nn.Linear(d_token, 2).to(device)\n",
    "q_offset_encoder = nn.Linear(d_token, d_token).to(device)\n",
    "# xy_fc_list = nn.ModuleList()\n",
    "# for i in range(boundary_num):\n",
    "#     xy_fc_list.append(nn.Linear(d_token, 2))\n",
    "# xy_fc_list = xy_fc_list.to(device)\n",
    "# q_fc_list = nn.ModuleList()\n",
    "# for i in range(boundary_num):\n",
    "#     q_fc_list.append(nn.Linear(d_token, d_token))\n",
    "# q_fc_list = q_fc_list.to(device)"
   ]
  },
  {
   "cell_type": "code",
   "execution_count": 4,
   "metadata": {},
   "outputs": [
    {
     "data": {
      "text/plain": [
       "tensor([[[ 90,  45],\n",
       "         [ 97,  71],\n",
       "         [  4, 219],\n",
       "         [  8,  81],\n",
       "         [159, 138],\n",
       "         [  9, 117],\n",
       "         [ 96, 188],\n",
       "         [147,   2],\n",
       "         [ 29, 128],\n",
       "         [126,  93],\n",
       "         [153,  88],\n",
       "         [131,  96],\n",
       "         [ 53, 177],\n",
       "         [112, 133],\n",
       "         [117, 212],\n",
       "         [ 85, 204],\n",
       "         [ 14, 147],\n",
       "         [176, 221],\n",
       "         [ 72, 121],\n",
       "         [ 90, 174],\n",
       "         [214, 128],\n",
       "         [218, 211],\n",
       "         [185,  13],\n",
       "         [ 92, 143],\n",
       "         [197, 176],\n",
       "         [141, 117],\n",
       "         [124,  41],\n",
       "         [ 93,  22],\n",
       "         [108, 172],\n",
       "         [141,  74],\n",
       "         [ 48,  83],\n",
       "         [135, 217],\n",
       "         [192, 130],\n",
       "         [ 85, 181],\n",
       "         [ 30,  21],\n",
       "         [ 57,  97],\n",
       "         [176, 208],\n",
       "         [128,  24],\n",
       "         [ 85,  56],\n",
       "         [173, 115],\n",
       "         [176,  97],\n",
       "         [150, 135],\n",
       "         [204, 152],\n",
       "         [ 14, 123],\n",
       "         [ 68, 210],\n",
       "         [114, 168],\n",
       "         [  1, 207],\n",
       "         [ 19, 185],\n",
       "         [ 39, 124],\n",
       "         [166,  98],\n",
       "         [ 51, 177],\n",
       "         [ 34,   2],\n",
       "         [ 77, 193],\n",
       "         [ 48,  25],\n",
       "         [  9, 211],\n",
       "         [110,  27],\n",
       "         [164,  22],\n",
       "         [209,  31],\n",
       "         [155, 205],\n",
       "         [156,  98],\n",
       "         [ 13, 179],\n",
       "         [ 44, 123],\n",
       "         [ 19, 152],\n",
       "         [ 40, 140],\n",
       "         [204,  43],\n",
       "         [ 19, 156],\n",
       "         [ 87,  80],\n",
       "         [  3, 198],\n",
       "         [168, 105],\n",
       "         [156, 217],\n",
       "         [154,  66],\n",
       "         [203,   0],\n",
       "         [160, 117],\n",
       "         [166, 203],\n",
       "         [ 33, 201],\n",
       "         [ 19, 122],\n",
       "         [208,  64],\n",
       "         [ 50, 184],\n",
       "         [  8,   4],\n",
       "         [123, 180]],\n",
       "\n",
       "        [[193,  40],\n",
       "         [ 71, 196],\n",
       "         [211, 207],\n",
       "         [ 77,   3],\n",
       "         [ 70, 152],\n",
       "         [  3,  53],\n",
       "         [ 99, 154],\n",
       "         [ 13,  85],\n",
       "         [170, 123],\n",
       "         [134, 190],\n",
       "         [175, 147],\n",
       "         [215, 147],\n",
       "         [164, 147],\n",
       "         [  1, 125],\n",
       "         [ 20,  71],\n",
       "         [110, 117],\n",
       "         [ 16, 162],\n",
       "         [141,   6],\n",
       "         [164, 186],\n",
       "         [ 85,   1],\n",
       "         [148,  88],\n",
       "         [143,  50],\n",
       "         [ 93,  63],\n",
       "         [155,  50],\n",
       "         [179,  82],\n",
       "         [111,  55],\n",
       "         [123,  27],\n",
       "         [ 50, 223],\n",
       "         [163, 112],\n",
       "         [ 59,  71],\n",
       "         [128, 213],\n",
       "         [ 84,  93],\n",
       "         [114,  40],\n",
       "         [ 51,  40],\n",
       "         [ 84,   9],\n",
       "         [222,  30],\n",
       "         [221,  10],\n",
       "         [  9,  73],\n",
       "         [183,  32],\n",
       "         [ 79, 218],\n",
       "         [210, 180],\n",
       "         [222,  58],\n",
       "         [171, 200],\n",
       "         [146,  58],\n",
       "         [ 46, 205],\n",
       "         [136, 181],\n",
       "         [ 42, 153],\n",
       "         [133, 115],\n",
       "         [ 31,  60],\n",
       "         [187,  60],\n",
       "         [ 37,  48],\n",
       "         [ 79, 222],\n",
       "         [  8,  60],\n",
       "         [  5,   4],\n",
       "         [140, 170],\n",
       "         [119, 155],\n",
       "         [ 22, 208],\n",
       "         [173,  78],\n",
       "         [193, 211],\n",
       "         [192,  81],\n",
       "         [209,  82],\n",
       "         [ 52, 112],\n",
       "         [ 77,  52],\n",
       "         [140,  28],\n",
       "         [ 22, 140],\n",
       "         [135,  30],\n",
       "         [128, 143],\n",
       "         [154,  82],\n",
       "         [ 80,  41],\n",
       "         [160,  74],\n",
       "         [ 46, 125],\n",
       "         [134,  49],\n",
       "         [101,  59],\n",
       "         [159, 190],\n",
       "         [ 42,  54],\n",
       "         [222, 217],\n",
       "         [157, 182],\n",
       "         [184,  21],\n",
       "         [ 16,  85],\n",
       "         [ 80, 213]],\n",
       "\n",
       "        [[ 85,  66],\n",
       "         [133, 208],\n",
       "         [  4,  15],\n",
       "         [ 25,  61],\n",
       "         [104, 151],\n",
       "         [125,  50],\n",
       "         [ 45, 114],\n",
       "         [194, 222],\n",
       "         [ 36, 143],\n",
       "         [179,  57],\n",
       "         [ 80, 184],\n",
       "         [ 60, 115],\n",
       "         [110, 124],\n",
       "         [ 71, 196],\n",
       "         [  3,  97],\n",
       "         [ 33, 198],\n",
       "         [ 56, 161],\n",
       "         [222,  57],\n",
       "         [ 44, 208],\n",
       "         [216, 193],\n",
       "         [ 32, 156],\n",
       "         [ 29,  92],\n",
       "         [ 15,  84],\n",
       "         [173, 206],\n",
       "         [ 62, 139],\n",
       "         [160, 128],\n",
       "         [209, 156],\n",
       "         [112,   7],\n",
       "         [132, 137],\n",
       "         [201,  12],\n",
       "         [172, 154],\n",
       "         [ 52, 151],\n",
       "         [ 28, 215],\n",
       "         [171, 119],\n",
       "         [130, 199],\n",
       "         [158,  44],\n",
       "         [ 96, 130],\n",
       "         [ 69, 195],\n",
       "         [107, 139],\n",
       "         [123,  67],\n",
       "         [148, 123],\n",
       "         [180,  83],\n",
       "         [205, 211],\n",
       "         [  5, 216],\n",
       "         [116, 192],\n",
       "         [ 32,  51],\n",
       "         [ 88,  89],\n",
       "         [219, 100],\n",
       "         [211, 211],\n",
       "         [195, 154],\n",
       "         [124, 155],\n",
       "         [ 32, 105],\n",
       "         [ 54,  94],\n",
       "         [ 13,  32],\n",
       "         [ 10, 122],\n",
       "         [ 25, 131],\n",
       "         [ 61, 178],\n",
       "         [ 97,  76],\n",
       "         [ 74,  17],\n",
       "         [ 88, 205],\n",
       "         [ 49, 103],\n",
       "         [ 92, 110],\n",
       "         [205,  21],\n",
       "         [  5, 120],\n",
       "         [ 51, 106],\n",
       "         [146,  98],\n",
       "         [138, 193],\n",
       "         [115, 144],\n",
       "         [ 59,  49],\n",
       "         [ 50, 202],\n",
       "         [ 74,  98],\n",
       "         [ 56, 142],\n",
       "         [118, 220],\n",
       "         [146,   7],\n",
       "         [133,  72],\n",
       "         [ 77,  88],\n",
       "         [170,   4],\n",
       "         [ 65, 202],\n",
       "         [188, 101],\n",
       "         [ 30, 174]]])"
      ]
     },
     "execution_count": 4,
     "metadata": {},
     "output_type": "execute_result"
    }
   ],
   "source": [
    "previous_img = torch.rand(3, 3, 224, 224).to(device)\n",
    "current_img = torch.rand(3, 3, 224, 224).to(device)\n",
    "boundary = torch.randint(0, 224, (3, boundary_num, 2)).to(device)\n",
    "boundary"
   ]
  },
  {
   "cell_type": "code",
   "execution_count": 5,
   "metadata": {},
   "outputs": [],
   "source": [
    "from model import IterativeModel\n",
    "model = IterativeModel().to(device)"
   ]
  },
  {
   "cell_type": "code",
   "execution_count": 6,
   "metadata": {},
   "outputs": [],
   "source": [
    "results = model(previous_img, current_img, boundary)"
   ]
  },
  {
   "cell_type": "code",
   "execution_count": 12,
   "metadata": {},
   "outputs": [
    {
     "data": {
      "text/plain": [
       "tensor([[[ 1.8220e-01, -6.8927e-01],\n",
       "         [ 1.6962e-01, -7.8950e-01],\n",
       "         [ 2.0314e-01, -6.2891e-01],\n",
       "         [ 4.6814e-01, -9.0766e-01],\n",
       "         [-2.9895e-02, -6.4578e-01],\n",
       "         [ 8.1367e-02, -5.6777e-01],\n",
       "         [ 6.7420e-02, -8.0644e-01],\n",
       "         [-7.3561e-02, -7.2336e-01],\n",
       "         [-6.5439e-02, -1.0000e+00],\n",
       "         [ 1.9946e-01, -6.8001e-01],\n",
       "         [-9.6852e-02, -1.0000e+00],\n",
       "         [ 1.4019e-01, -9.9435e-01],\n",
       "         [-9.3980e-02, -8.9267e-01],\n",
       "         [ 5.2473e-02, -4.4834e-01],\n",
       "         [ 6.9320e-02, -7.0670e-01],\n",
       "         [ 3.8935e-01, -6.1003e-01],\n",
       "         [ 4.6969e-01, -6.7711e-01],\n",
       "         [ 2.6487e-01, -5.3919e-01],\n",
       "         [ 1.8914e-01, -1.0000e+00],\n",
       "         [ 2.3503e-01, -5.1843e-01],\n",
       "         [ 4.4684e-01, -7.5424e-01],\n",
       "         [ 1.7829e-01, -3.2491e-01],\n",
       "         [ 2.2369e-01, -6.0341e-01],\n",
       "         [ 3.8840e-01, -6.8209e-01],\n",
       "         [-3.6661e-02, -5.4068e-01],\n",
       "         [-5.9190e-02, -5.3332e-01],\n",
       "         [ 1.9813e-02, -2.3972e-01],\n",
       "         [ 1.3177e-01, -3.1556e-02],\n",
       "         [ 3.5207e-01, -5.3736e-01],\n",
       "         [ 1.5531e-01, -4.8911e-01],\n",
       "         [ 4.2413e-01, -5.6491e-01],\n",
       "         [ 2.7904e-01, -5.6548e-01],\n",
       "         [-1.0666e-01, -1.0000e+00],\n",
       "         [ 2.1358e-01, -7.8995e-01],\n",
       "         [ 5.8079e-01, -7.8553e-01],\n",
       "         [ 2.7887e-01, -6.4323e-01],\n",
       "         [-4.1973e-02, -7.4929e-01],\n",
       "         [-5.2921e-01, -6.3621e-01],\n",
       "         [-5.1570e-01, -3.3911e-01],\n",
       "         [ 3.8293e-01, -1.8529e-01],\n",
       "         [ 3.3885e-01, -8.8017e-01],\n",
       "         [ 3.7660e-01, -8.6127e-01],\n",
       "         [ 5.6098e-01, -1.0000e+00],\n",
       "         [ 1.4187e-01, -8.0360e-01],\n",
       "         [ 5.5858e-01, -8.9018e-01],\n",
       "         [ 4.0322e-01, -9.8935e-01],\n",
       "         [ 2.0028e-01, -4.5781e-01],\n",
       "         [ 2.8028e-01, -1.0000e+00],\n",
       "         [ 2.3517e-01, -7.0570e-01],\n",
       "         [ 4.9890e-01, -1.0000e+00],\n",
       "         [ 7.4781e-02, -5.9476e-01],\n",
       "         [ 1.5827e-04, -2.3603e-01],\n",
       "         [ 1.2714e-01, -8.4848e-01],\n",
       "         [ 4.4985e-01, -7.9962e-01],\n",
       "         [ 2.5525e-01, -6.5817e-01],\n",
       "         [ 3.3843e-01, -7.0066e-01],\n",
       "         [ 2.0494e-01, -6.9337e-01],\n",
       "         [-2.1808e-01, -7.5158e-01],\n",
       "         [-7.3826e-02, -8.8744e-01],\n",
       "         [ 6.5458e-02, -7.7511e-01],\n",
       "         [ 5.6395e-01, -6.8630e-01],\n",
       "         [ 2.1667e-01, -5.7658e-01],\n",
       "         [ 1.4081e-02, -9.5291e-01],\n",
       "         [ 2.6305e-01, -8.0231e-01],\n",
       "         [ 9.4358e-02, -4.9758e-01],\n",
       "         [-2.0039e-01, -6.7047e-01],\n",
       "         [-2.7531e-01, -4.4981e-01],\n",
       "         [-6.8579e-02, -7.8214e-01],\n",
       "         [ 1.4804e-01, -3.9253e-01],\n",
       "         [ 2.5440e-02, -5.6094e-01],\n",
       "         [ 1.8843e-01, -3.3918e-01],\n",
       "         [-7.0677e-01,  3.4158e-01],\n",
       "         [ 4.7223e-01, -4.6636e-01],\n",
       "         [ 3.4028e-01, -3.4436e-01],\n",
       "         [ 5.3904e-01, -7.2593e-01],\n",
       "         [ 1.6301e-01, -6.6553e-01],\n",
       "         [ 5.5645e-01, -3.6811e-01],\n",
       "         [ 6.9003e-02, -7.0978e-01],\n",
       "         [ 3.6380e-01, -1.3930e-01],\n",
       "         [ 2.0921e-01, -3.6554e-01]],\n",
       "\n",
       "        [[ 1.2467e-01, -6.9566e-01],\n",
       "         [ 3.6804e-01, -1.0000e+00],\n",
       "         [ 1.6886e-01, -1.0000e+00],\n",
       "         [ 2.4278e-01, -4.9892e-01],\n",
       "         [ 2.2255e-01, -7.1988e-01],\n",
       "         [-1.1455e-01, -5.1515e-01],\n",
       "         [ 9.3526e-02, -8.8356e-01],\n",
       "         [ 9.4620e-02, -8.8603e-01],\n",
       "         [ 2.3876e-02, -8.1797e-01],\n",
       "         [-1.3218e-01, -8.8696e-01],\n",
       "         [-7.7898e-02, -1.0000e+00],\n",
       "         [ 8.6672e-02, -9.7413e-01],\n",
       "         [-6.9732e-02, -4.5100e-01],\n",
       "         [ 7.6538e-02, -4.7350e-01],\n",
       "         [ 7.5537e-02, -5.8810e-01],\n",
       "         [ 4.4130e-01, -5.2515e-01],\n",
       "         [-4.7807e-02, -6.3019e-01],\n",
       "         [-3.1473e-02, -5.0492e-01],\n",
       "         [ 3.1046e-01, -3.4989e-01],\n",
       "         [ 2.6627e-01, -4.9423e-01],\n",
       "         [ 2.8493e-01, -5.1732e-01],\n",
       "         [ 3.1781e-01, -5.8261e-01],\n",
       "         [ 2.6096e-01, -8.9505e-01],\n",
       "         [ 1.5999e-01, -6.3421e-01],\n",
       "         [ 2.1183e-01, -8.4897e-01],\n",
       "         [-4.2644e-01, -3.8553e-01],\n",
       "         [ 1.2710e-01, -6.8804e-02],\n",
       "         [ 2.4408e-01, -1.6738e-01],\n",
       "         [ 1.5039e-01, -4.2110e-01],\n",
       "         [ 8.4909e-02, -2.4016e-01],\n",
       "         [ 3.7355e-01, -5.5835e-01],\n",
       "         [ 2.3695e-01, -6.7933e-01],\n",
       "         [ 3.7747e-01, -6.0432e-01],\n",
       "         [ 5.9645e-01, -5.8470e-01],\n",
       "         [ 3.8991e-01, -7.8624e-01],\n",
       "         [-4.1306e-01, -8.0607e-01],\n",
       "         [ 4.2137e-02, -3.4076e-01],\n",
       "         [-8.5038e-02, -4.8662e-01],\n",
       "         [-1.5217e-01, -4.7257e-01],\n",
       "         [ 2.1345e-01, -9.0112e-01],\n",
       "         [ 2.4740e-03, -8.1938e-01],\n",
       "         [ 1.6356e-01, -6.5166e-01],\n",
       "         [ 3.4728e-01, -1.0000e+00],\n",
       "         [ 3.9136e-01, -7.5656e-01],\n",
       "         [ 3.3765e-01, -1.0000e+00],\n",
       "         [-3.9882e-02, -1.0000e+00],\n",
       "         [ 3.1344e-01, -4.3478e-01],\n",
       "         [ 3.0975e-01, -7.5242e-01],\n",
       "         [ 7.9117e-03, -8.0334e-01],\n",
       "         [-3.5355e-02, -5.1156e-01],\n",
       "         [ 2.8556e-01, -6.3814e-01],\n",
       "         [ 8.5133e-02, -7.4554e-01],\n",
       "         [-9.0138e-02, -6.4252e-01],\n",
       "         [-3.5492e-01, -1.4013e-01],\n",
       "         [-3.6763e-02, -6.2306e-01],\n",
       "         [ 1.0669e-01, -7.8439e-01],\n",
       "         [ 3.3185e-02, -8.9391e-01],\n",
       "         [ 2.5333e-01, -7.4061e-01],\n",
       "         [ 1.4176e-01, -8.0128e-01],\n",
       "         [ 2.1792e-01, -4.2019e-01],\n",
       "         [ 3.3490e-01, -4.7980e-01],\n",
       "         [ 3.9053e-01, -8.3508e-01],\n",
       "         [ 7.9303e-01, -6.3240e-01],\n",
       "         [ 4.1671e-01, -3.5975e-01],\n",
       "         [ 4.3108e-02, -7.5022e-01],\n",
       "         [ 4.6885e-02, -2.8678e-01],\n",
       "         [-2.7693e-01, -4.3825e-01],\n",
       "         [-1.5550e-01, -6.1843e-01],\n",
       "         [ 7.9259e-02, -6.3929e-01],\n",
       "         [ 1.6718e-01, -4.0332e-01],\n",
       "         [-1.0585e-01, -3.4601e-01],\n",
       "         [ 2.2585e-01, -2.2375e-01],\n",
       "         [ 2.6687e-01, -2.2047e-01],\n",
       "         [ 5.0139e-01, -5.7126e-01],\n",
       "         [ 6.8008e-01, -5.4755e-01],\n",
       "         [ 4.3824e-01, -5.7479e-01],\n",
       "         [ 5.8673e-01, -5.3666e-01],\n",
       "         [ 9.6153e-02, -3.2494e-01],\n",
       "         [ 3.2121e-01, -3.9772e-01],\n",
       "         [ 3.3078e-01, -4.8758e-01]],\n",
       "\n",
       "        [[ 2.4242e-01, -4.4075e-01],\n",
       "         [ 7.7584e-02, -1.0000e+00],\n",
       "         [ 8.0156e-01, -3.8727e-01],\n",
       "         [ 4.8483e-02, -9.5060e-01],\n",
       "         [ 2.3228e-01, -7.6622e-01],\n",
       "         [-2.8783e-01, -7.0701e-01],\n",
       "         [-7.0577e-02, -7.1824e-01],\n",
       "         [-3.8343e-01, -8.2863e-01],\n",
       "         [-4.4892e-01, -9.4945e-01],\n",
       "         [-1.1425e-01, -8.8948e-01],\n",
       "         [-2.5212e-01, -9.4218e-01],\n",
       "         [-1.6713e-01, -9.2600e-01],\n",
       "         [ 3.4917e-01, -9.9277e-01],\n",
       "         [-3.0295e-02, -6.7148e-01],\n",
       "         [ 2.1158e-01, -4.2612e-01],\n",
       "         [ 1.3441e-01, -4.9370e-01],\n",
       "         [ 2.8474e-01, -7.2177e-01],\n",
       "         [ 2.0095e-01, -3.1232e-01],\n",
       "         [ 4.0284e-01, -6.3345e-01],\n",
       "         [ 1.6859e-01, -5.9038e-01],\n",
       "         [ 2.2129e-01, -7.0773e-01],\n",
       "         [ 4.3764e-01, -5.6252e-01],\n",
       "         [ 1.0878e-01, -9.2175e-01],\n",
       "         [ 4.5112e-01, -8.8363e-01],\n",
       "         [ 2.3873e-01, -4.0909e-01],\n",
       "         [ 1.6035e-01, -6.4254e-01],\n",
       "         [-2.8155e-01, -1.6179e-01],\n",
       "         [-4.7081e-02, -1.7797e-01],\n",
       "         [ 6.3553e-02, -6.8212e-01],\n",
       "         [ 1.0968e-02, -3.6568e-01],\n",
       "         [ 5.0247e-01, -6.3887e-01],\n",
       "         [ 4.9602e-01, -7.0520e-01],\n",
       "         [ 1.1816e-01, -6.3959e-01],\n",
       "         [ 4.2613e-01, -8.9146e-01],\n",
       "         [ 3.3976e-03, -8.7980e-01],\n",
       "         [ 8.7319e-02, -5.1841e-01],\n",
       "         [ 6.2948e-02, -6.9529e-01],\n",
       "         [-2.3974e-01, -6.5527e-01],\n",
       "         [-2.0013e-01, -6.4217e-01],\n",
       "         [ 1.6466e-01, -5.8898e-01],\n",
       "         [ 4.8747e-01, -6.3375e-01],\n",
       "         [ 1.7696e-01, -1.0000e+00],\n",
       "         [ 4.6541e-01, -1.0000e+00],\n",
       "         [ 3.6926e-01, -1.0000e+00],\n",
       "         [ 3.9830e-01, -9.1384e-01],\n",
       "         [ 1.3113e-01, -6.2462e-01],\n",
       "         [ 1.4828e-01, -8.9343e-01],\n",
       "         [ 9.8654e-02, -5.6087e-01],\n",
       "         [ 2.6952e-01, -8.1696e-01],\n",
       "         [ 6.1746e-02, -7.2656e-01],\n",
       "         [ 1.8057e-01, -6.7810e-01],\n",
       "         [ 1.1345e-01, -9.3199e-01],\n",
       "         [ 1.4336e-01, -7.5497e-01],\n",
       "         [ 1.9311e-01, -6.6264e-01],\n",
       "         [ 1.2480e-02, -8.1281e-01],\n",
       "         [-7.9262e-01, -5.5698e-01],\n",
       "         [ 1.0741e-01, -7.6592e-01],\n",
       "         [ 3.5042e-01, -7.0839e-01],\n",
       "         [ 4.2097e-01, -4.1282e-01],\n",
       "         [ 7.1565e-02, -6.2493e-01],\n",
       "         [ 3.4221e-01, -7.3447e-01],\n",
       "         [ 3.9502e-01, -7.4245e-01],\n",
       "         [ 2.1220e-01, -4.2562e-01],\n",
       "         [ 4.2271e-01, -7.9749e-01],\n",
       "         [ 3.4152e-02, -6.1583e-01],\n",
       "         [-1.1675e-01, -4.7457e-01],\n",
       "         [-1.3751e-02, -6.0294e-01],\n",
       "         [-1.8101e-01, -5.8653e-01],\n",
       "         [-1.0380e-01, -5.9619e-01],\n",
       "         [ 3.1533e-02, -7.0221e-01],\n",
       "         [ 1.6587e-01, -3.5208e-01],\n",
       "         [ 1.5722e-01, -2.2835e-01],\n",
       "         [ 3.5367e-01, -3.2427e-01],\n",
       "         [ 3.9813e-01, -2.8782e-01],\n",
       "         [ 6.0084e-01, -3.6090e-01],\n",
       "         [ 4.0266e-01, -5.7339e-01],\n",
       "         [ 2.4715e-01, -3.1560e-01],\n",
       "         [ 2.1018e-01, -6.7007e-01],\n",
       "         [ 2.9520e-01, -4.6801e-01],\n",
       "         [ 9.4108e-02, -4.9319e-01]]], grad_fn=<ClampBackward1>)"
      ]
     },
     "execution_count": 12,
     "metadata": {},
     "output_type": "execute_result"
    }
   ],
   "source": [
    "results[0][1].clamp(-1, 1)"
   ]
  },
  {
   "cell_type": "code",
   "execution_count": 13,
   "metadata": {},
   "outputs": [
    {
     "data": {
      "text/plain": [
       "False"
      ]
     },
     "execution_count": 13,
     "metadata": {},
     "output_type": "execute_result"
    }
   ],
   "source": [
    "results[2] is results[0]"
   ]
  },
  {
   "cell_type": "code",
   "execution_count": 7,
   "metadata": {},
   "outputs": [],
   "source": [
    "pre_img_freature = res50_bone(previous_img)\n",
    "pre_img_freature = F.interpolate(\n",
    "    pre_img_freature,\n",
    "    size=(224, 224),\n",
    "    mode=\"bilinear\",\n",
    ")\n",
    "cur_img_freature = res50_bone(current_img)\n",
    "cur_img_freature = F.interpolate(\n",
    "    cur_img_freature,\n",
    "    size=(224, 224),\n",
    "    mode=\"bilinear\",\n",
    ")"
   ]
  },
  {
   "cell_type": "code",
   "execution_count": 11,
   "metadata": {},
   "outputs": [
    {
     "data": {
      "text/plain": [
       "torch.Size([3, 1024, 80])"
      ]
     },
     "execution_count": 11,
     "metadata": {},
     "output_type": "execute_result"
    }
   ],
   "source": [
    "raw_query_features = get_bou_features(pre_img_freature, boundary)\n",
    "raw_query_features.shape"
   ]
  },
  {
   "cell_type": "code",
   "execution_count": 12,
   "metadata": {},
   "outputs": [
    {
     "data": {
      "text/plain": [
       "torch.Size([3, 80, 1026])"
      ]
     },
     "execution_count": 12,
     "metadata": {},
     "output_type": "execute_result"
    }
   ],
   "source": [
    "query_features = query_encoder(raw_query_features.permute(0, 2, 1))\n",
    "query_features.shape"
   ]
  },
  {
   "cell_type": "code",
   "execution_count": 14,
   "metadata": {},
   "outputs": [
    {
     "data": {
      "text/plain": [
       "torch.Size([3, 80, 1024])"
      ]
     },
     "execution_count": 14,
     "metadata": {},
     "output_type": "execute_result"
    }
   ],
   "source": [
    "boundary_features = get_bou_features(cur_img_freature, boundary)\n",
    "boundary_features = boundary_features.permute(0, 2, 1)\n",
    "boundary_features.shape"
   ]
  },
  {
   "cell_type": "code",
   "execution_count": 15,
   "metadata": {},
   "outputs": [
    {
     "data": {
      "text/plain": [
       "torch.Size([3, 80, 1026])"
      ]
     },
     "execution_count": 15,
     "metadata": {},
     "output_type": "execute_result"
    }
   ],
   "source": [
    "boundary_tokens = torch.cat([boundary_features, boundary], dim=2)\n",
    "boundary_tokens.shape"
   ]
  },
  {
   "cell_type": "code",
   "execution_count": 16,
   "metadata": {},
   "outputs": [
    {
     "data": {
      "text/plain": [
       "torch.Size([3, 160, 1026])"
      ]
     },
     "execution_count": 16,
     "metadata": {},
     "output_type": "execute_result"
    }
   ],
   "source": [
    "tokens = torch.cat([query_features, boundary_tokens], dim=1)\n",
    "tokens.shape"
   ]
  },
  {
   "cell_type": "code",
   "execution_count": 17,
   "metadata": {},
   "outputs": [],
   "source": [
    "tokens = layernorm(tokens)\n",
    "tokens = positional_encoding(tokens)"
   ]
  },
  {
   "cell_type": "code",
   "execution_count": 18,
   "metadata": {},
   "outputs": [
    {
     "data": {
      "text/plain": [
       "torch.Size([3, 160, 1026])"
      ]
     },
     "execution_count": 18,
     "metadata": {},
     "output_type": "execute_result"
    }
   ],
   "source": [
    "out_tokens = tranformer_encoder(tokens)\n",
    "out_tokens.shape"
   ]
  },
  {
   "cell_type": "code",
   "execution_count": 23,
   "metadata": {},
   "outputs": [
    {
     "data": {
      "text/plain": [
       "torch.Size([3, 80, 1026])"
      ]
     },
     "execution_count": 23,
     "metadata": {},
     "output_type": "execute_result"
    }
   ],
   "source": [
    "query_offsets = tokens[:, :boundary_num, :]\n",
    "query_offsets = q_offset_encoder(query_offsets)\n",
    "query_offsets.shape"
   ]
  },
  {
   "cell_type": "code",
   "execution_count": 14,
   "metadata": {},
   "outputs": [
    {
     "ename": "NameError",
     "evalue": "name 'tokens' is not defined",
     "output_type": "error",
     "traceback": [
      "\u001b[0;31m---------------------------------------------------------------------------\u001b[0m",
      "\u001b[0;31mNameError\u001b[0m                                 Traceback (most recent call last)",
      "Cell \u001b[0;32mIn[14], line 1\u001b[0m\n\u001b[0;32m----> 1\u001b[0m xy_offsets \u001b[38;5;241m=\u001b[39m \u001b[43mtokens\u001b[49m[:, boundary_num:, :]\n\u001b[1;32m      2\u001b[0m xy_offsets \u001b[38;5;241m=\u001b[39m xy_offset_encoder(xy_offsets)\n\u001b[1;32m      3\u001b[0m xy_offsets\n",
      "\u001b[0;31mNameError\u001b[0m: name 'tokens' is not defined"
     ]
    }
   ],
   "source": [
    "xy_offsets = tokens[:, boundary_num:, :]\n",
    "xy_offsets = xy_offset_encoder(xy_offsets)\n",
    "xy_offsets"
   ]
  }
 ],
 "metadata": {
  "kernelspec": {
   "display_name": "Python 3 (ipykernel)",
   "language": "python",
   "name": "python3"
  },
  "language_info": {
   "codemirror_mode": {
    "name": "ipython",
    "version": 3
   },
   "file_extension": ".py",
   "mimetype": "text/x-python",
   "name": "python",
   "nbconvert_exporter": "python",
   "pygments_lexer": "ipython3",
   "version": "3.11.4"
  }
 },
 "nbformat": 4,
 "nbformat_minor": 2
}
