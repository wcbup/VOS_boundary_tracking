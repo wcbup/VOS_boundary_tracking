{
 "cells": [
  {
   "cell_type": "code",
   "execution_count": 1,
   "metadata": {},
   "outputs": [],
   "source": [
    "import torch\n",
    "import torch.nn as nn\n",
    "import torch.nn.functional as F\n",
    "from torchvision.models import resnet50, ResNet50_Weights\n",
    "from torchsummary import summary\n",
    "import numpy as np\n",
    "from model import PositionalEncoding\n",
    "from model import NeighborModel"
   ]
  },
  {
   "cell_type": "code",
   "execution_count": 2,
   "metadata": {},
   "outputs": [],
   "source": [
    "def get_bou_features(\n",
    "    img_features: torch.Tensor, boundary: torch.Tensor\n",
    ") -> torch.Tensor:\n",
    "    bou_features = img_features[\n",
    "        0, :, boundary[0, :, 0], boundary[0, :, 1]\n",
    "    ].unsqueeze(0)\n",
    "    for i in range(1, boundary.shape[0]):\n",
    "        bou_features = torch.cat(\n",
    "            (\n",
    "                bou_features,\n",
    "                img_features[\n",
    "                    i,\n",
    "                    :,\n",
    "                    boundary[i, :, 0],\n",
    "                    boundary[i, :, 1],\n",
    "                ].unsqueeze(0),\n",
    "            ),\n",
    "            dim=0,\n",
    "        )\n",
    "    return bou_features"
   ]
  },
  {
   "cell_type": "code",
   "execution_count": 3,
   "metadata": {},
   "outputs": [
    {
     "name": "stderr",
     "output_type": "stream",
     "text": [
      "/zhome/32/f/202284/CV/lib/python3.11/site-packages/torch/nn/modules/transformer.py:282: UserWarning: enable_nested_tensor is True, but self.use_nested_tensor is False because encoder_layer.self_attn.num_heads is odd\n",
      "  warnings.warn(f\"enable_nested_tensor is True, but self.use_nested_tensor is False because {why_not_sparsity_fast_path}\")\n"
     ]
    }
   ],
   "source": [
    "d_token = 1024 + 2\n",
    "boundary_num = 80\n",
    "device = \"cpu\"\n",
    "res50 = resnet50(weights=ResNet50_Weights.IMAGENET1K_V2).to(device)\n",
    "res50_bone = nn.Sequential(*list(res50.children())[:-3]).to(device)\n",
    "positional_encoding = PositionalEncoding(d_token).to(device)\n",
    "layernorm = nn.LayerNorm(d_token).to(device)\n",
    "query_encoder = nn.Linear(1024, d_token).to(device)\n",
    "tranformer_encoder = nn.TransformerEncoder(\n",
    "    nn.TransformerEncoderLayer(\n",
    "        d_model=d_token,\n",
    "        nhead=1,\n",
    "        batch_first=True,\n",
    "    ),\n",
    "    num_layers=1,\n",
    ").to(device)\n",
    "xy_offset_encoder = nn.Linear(d_token, 2).to(device)\n",
    "q_offset_encoder = nn.Linear(d_token, d_token).to(device)\n",
    "# xy_fc_list = nn.ModuleList()\n",
    "# for i in range(boundary_num):\n",
    "#     xy_fc_list.append(nn.Linear(d_token, 2))\n",
    "# xy_fc_list = xy_fc_list.to(device)\n",
    "# q_fc_list = nn.ModuleList()\n",
    "# for i in range(boundary_num):\n",
    "#     q_fc_list.append(nn.Linear(d_token, d_token))\n",
    "# q_fc_list = q_fc_list.to(device)"
   ]
  },
  {
   "cell_type": "code",
   "execution_count": 4,
   "metadata": {},
   "outputs": [
    {
     "data": {
      "text/plain": [
       "torch.Size([3, 80, 2])"
      ]
     },
     "execution_count": 4,
     "metadata": {},
     "output_type": "execute_result"
    }
   ],
   "source": [
    "first_img = torch.rand(3, 3, 224, 224).to(device)\n",
    "previous_img = torch.rand(3, 3, 224, 224).to(device)\n",
    "current_img = torch.rand(3, 3, 224, 224).to(device)\n",
    "boundary = torch.randint(0, 224, (3, boundary_num, 2)).to(device)\n",
    "boundary.shape"
   ]
  },
  {
   "cell_type": "code",
   "execution_count": 5,
   "metadata": {},
   "outputs": [],
   "source": [
    "from model import IterativeModelWithFirst_Con\n",
    "model = IterativeModelWithFirst_Con()\n",
    "results = model(first_img, boundary, previous_img, current_img, boundary)"
   ]
  },
  {
   "cell_type": "code",
   "execution_count": 6,
   "metadata": {},
   "outputs": [
    {
     "data": {
      "text/plain": [
       "tensor([[[7.3557e+01, 4.5127e+01],\n",
       "         [2.0644e+02, 1.6252e+02],\n",
       "         [1.7008e+02, 1.0206e+02],\n",
       "         [6.7965e+01, 1.5451e+02],\n",
       "         [2.2112e+02, 1.4240e+02],\n",
       "         [2.4573e+01, 1.9981e+01],\n",
       "         [2.0179e+02, 4.2907e+01],\n",
       "         [7.7803e+01, 1.0177e+02],\n",
       "         [8.2134e+00, 6.4730e+01],\n",
       "         [1.3984e+02, 3.1797e+01],\n",
       "         [1.7068e+02, 1.9349e+02],\n",
       "         [1.7073e+02, 1.4865e+01],\n",
       "         [8.3678e+01, 1.0541e+02],\n",
       "         [1.3086e+02, 2.3677e+01],\n",
       "         [1.1782e+02, 4.8897e+01],\n",
       "         [2.1611e+02, 1.8318e+02],\n",
       "         [1.3352e+02, 6.7943e-01],\n",
       "         [6.6390e+01, 8.3097e+01],\n",
       "         [1.4728e+02, 4.2616e+01],\n",
       "         [1.4878e+02, 9.3047e+01],\n",
       "         [1.5377e+02, 1.5133e+02],\n",
       "         [1.6385e+02, 1.6414e+02],\n",
       "         [4.4295e+01, 1.4140e+02],\n",
       "         [7.9678e+01, 2.1164e+02],\n",
       "         [1.8781e+02, 1.4010e+02],\n",
       "         [3.4675e+01, 8.2436e+01],\n",
       "         [1.7244e+02, 3.6485e+01],\n",
       "         [1.7173e+02, 2.1698e+02],\n",
       "         [8.8813e+01, 1.6105e+02],\n",
       "         [5.5504e+01, 2.9868e+01],\n",
       "         [7.8831e+01, 2.2113e+02],\n",
       "         [8.5944e+01, 1.0997e+02],\n",
       "         [1.4750e+02, 2.3674e+01],\n",
       "         [1.3791e+02, 1.1109e+02],\n",
       "         [6.0776e+01, 1.5658e+01],\n",
       "         [6.8003e+01, 4.0246e+01],\n",
       "         [1.2807e+02, 4.6821e+01],\n",
       "         [2.1423e+02, 2.1135e+02],\n",
       "         [1.1586e+02, 1.6036e+01],\n",
       "         [9.9832e+01, 1.8063e+02],\n",
       "         [1.7684e+02, 3.8353e+01],\n",
       "         [9.4421e+01, 2.0533e+02],\n",
       "         [5.4576e+01, 4.1198e+01],\n",
       "         [1.2200e+02, 1.3764e+02],\n",
       "         [1.6951e+02, 1.2489e+00],\n",
       "         [4.4772e+01, 3.2743e+01],\n",
       "         [2.2723e+01, 6.3707e+01],\n",
       "         [3.1718e+01, 1.5217e+02],\n",
       "         [1.9698e+02, 1.7078e+02],\n",
       "         [2.1889e+02, 1.1721e+02],\n",
       "         [1.1300e+02, 8.5487e+01],\n",
       "         [1.5317e+02, 1.1784e+02],\n",
       "         [1.8190e+02, 8.3434e+00],\n",
       "         [8.5170e+01, 1.3912e+02],\n",
       "         [1.6051e+02, 1.8708e+02],\n",
       "         [1.9556e+02, 3.5358e+01],\n",
       "         [1.4339e+02, 6.9323e+01],\n",
       "         [3.8951e+01, 1.6663e+02],\n",
       "         [1.7503e+02, 7.5487e+01],\n",
       "         [1.4893e+02, 4.1801e+01],\n",
       "         [2.2859e+00, 3.2361e+01],\n",
       "         [2.0402e+02, 1.4824e+02],\n",
       "         [4.2288e+01, 1.8065e+02],\n",
       "         [4.8442e+01, 1.4624e+01],\n",
       "         [1.5091e+02, 2.3004e+01],\n",
       "         [1.0582e+02, 1.8745e+02],\n",
       "         [1.8796e+02, 9.5126e+01],\n",
       "         [8.5789e+01, 9.2405e+01],\n",
       "         [1.7689e+02, 1.0230e+02],\n",
       "         [2.0398e+02, 2.1956e+02],\n",
       "         [5.8743e+01, 1.1964e+02],\n",
       "         [3.3638e+01, 1.2758e+02],\n",
       "         [2.1163e+02, 1.9942e+02],\n",
       "         [2.4589e+01, 2.1075e+02],\n",
       "         [1.7916e+02, 7.8951e+01],\n",
       "         [8.4733e+01, 9.9253e+01],\n",
       "         [1.9274e+02, 1.3374e+02],\n",
       "         [3.9934e+01, 7.7799e+01],\n",
       "         [2.1032e+02, 1.3035e+02],\n",
       "         [2.1801e+02, 1.8009e+01]],\n",
       "\n",
       "        [[8.6580e+01, 2.2509e+01],\n",
       "         [8.9748e+01, 1.0097e+02],\n",
       "         [1.0488e+02, 8.1262e+01],\n",
       "         [7.5795e+01, 1.6073e+02],\n",
       "         [9.6087e+01, 2.2083e+02],\n",
       "         [1.8926e+02, 1.7605e+02],\n",
       "         [1.3104e+02, 2.1157e+02],\n",
       "         [7.1254e+01, 2.5711e+01],\n",
       "         [2.0800e+02, 1.4561e+02],\n",
       "         [1.8306e+02, 9.1995e+01],\n",
       "         [1.3110e+02, 1.4328e+02],\n",
       "         [1.7423e+02, 2.2770e+01],\n",
       "         [2.2698e+01, 1.0081e+02],\n",
       "         [7.5855e+01, 1.6367e+02],\n",
       "         [8.8933e+00, 1.9668e+02],\n",
       "         [9.8630e+01, 1.0707e+01],\n",
       "         [2.0663e+02, 4.5882e+01],\n",
       "         [8.2526e+01, 1.5014e+00],\n",
       "         [2.0474e+02, 1.8919e+02],\n",
       "         [2.4285e+01, 3.6748e+01],\n",
       "         [1.2334e+02, 2.0636e+01],\n",
       "         [3.1551e+01, 1.4630e+02],\n",
       "         [2.0586e+02, 1.9001e+02],\n",
       "         [1.9599e+02, 1.9896e+02],\n",
       "         [2.2152e+02, 2.1545e+02],\n",
       "         [2.4798e+01, 1.3318e+02],\n",
       "         [2.0338e+02, 5.4748e+01],\n",
       "         [9.9311e+01, 1.3922e+02],\n",
       "         [1.1158e+02, 9.1649e+01],\n",
       "         [9.9491e+01, 6.9686e+01],\n",
       "         [1.9891e+02, 6.1399e+01],\n",
       "         [1.2624e+02, 4.3839e+01],\n",
       "         [7.4803e+01, 1.9514e+02],\n",
       "         [7.4215e+01, 0.0000e+00],\n",
       "         [1.6366e+02, 1.7011e+02],\n",
       "         [1.2812e+02, 6.3184e+01],\n",
       "         [4.8553e+00, 1.3952e+02],\n",
       "         [1.4528e+02, 1.1275e+02],\n",
       "         [1.4171e+02, 2.3124e+01],\n",
       "         [1.6465e+02, 2.7997e+00],\n",
       "         [2.0185e+02, 1.1969e+02],\n",
       "         [1.0192e+01, 1.4480e+02],\n",
       "         [1.8273e+02, 3.5773e+01],\n",
       "         [1.2396e+02, 1.9163e+02],\n",
       "         [1.5986e+02, 8.1629e+01],\n",
       "         [1.7588e+02, 6.2782e+01],\n",
       "         [1.7677e+02, 2.3332e+01],\n",
       "         [1.9400e+02, 2.1467e+02],\n",
       "         [3.0795e+01, 1.0818e+02],\n",
       "         [9.2711e+01, 1.8472e+02],\n",
       "         [3.0847e+01, 2.0592e+02],\n",
       "         [9.6580e+01, 3.3388e+01],\n",
       "         [1.2772e+02, 2.0319e+02],\n",
       "         [1.9104e+02, 1.5504e+02],\n",
       "         [1.8172e+02, 1.7099e+02],\n",
       "         [1.0691e+02, 1.0232e+02],\n",
       "         [2.0084e+02, 2.2059e+02],\n",
       "         [2.0018e+02, 2.1229e+02],\n",
       "         [6.1240e+01, 1.8368e+02],\n",
       "         [1.6721e+02, 1.7859e+02],\n",
       "         [1.8217e+02, 1.2642e+02],\n",
       "         [2.1140e+02, 2.2209e+02],\n",
       "         [1.5231e+02, 8.7387e+01],\n",
       "         [2.2079e+02, 7.7233e+00],\n",
       "         [1.0295e+02, 2.1553e+02],\n",
       "         [1.4304e+02, 1.0511e+02],\n",
       "         [1.9290e+02, 1.4982e+02],\n",
       "         [1.6369e+02, 1.7937e+02],\n",
       "         [1.9669e+02, 2.0017e+02],\n",
       "         [1.8948e+02, 1.8423e+02],\n",
       "         [2.9607e+01, 3.0280e+01],\n",
       "         [2.0093e+02, 1.6138e+02],\n",
       "         [2.0886e+02, 8.9995e+01],\n",
       "         [1.5490e+00, 8.8180e+01],\n",
       "         [2.1182e+01, 2.0315e+02],\n",
       "         [1.2223e+02, 2.1612e+02],\n",
       "         [1.2421e+02, 9.6175e+01],\n",
       "         [1.1841e+02, 2.4209e+01],\n",
       "         [7.0018e+01, 2.1668e+02],\n",
       "         [1.5727e+02, 2.1281e+02]],\n",
       "\n",
       "        [[9.3573e+01, 8.2279e+01],\n",
       "         [1.6905e+02, 1.7132e+02],\n",
       "         [1.9990e+02, 1.3644e+01],\n",
       "         [1.0978e+02, 8.2556e+01],\n",
       "         [1.4989e+02, 8.5375e+01],\n",
       "         [8.2043e+01, 4.4362e+01],\n",
       "         [2.0839e+01, 1.7470e+02],\n",
       "         [1.2807e+02, 7.6022e+01],\n",
       "         [9.5059e+01, 1.6273e+02],\n",
       "         [1.3861e+02, 1.5280e+02],\n",
       "         [8.5848e+01, 1.2326e+02],\n",
       "         [4.0062e+01, 1.4868e+02],\n",
       "         [1.5886e+02, 3.0087e+01],\n",
       "         [3.0929e+01, 6.5277e+01],\n",
       "         [1.2977e+02, 5.3143e+01],\n",
       "         [6.5164e+01, 1.0141e+02],\n",
       "         [1.2179e+02, 1.2426e+02],\n",
       "         [5.3540e+01, 1.5337e+02],\n",
       "         [1.1049e+02, 1.0410e+02],\n",
       "         [8.8436e+01, 3.4209e+01],\n",
       "         [1.1177e+02, 4.9505e+01],\n",
       "         [1.4643e+01, 1.3159e+02],\n",
       "         [1.1081e+02, 1.1543e+02],\n",
       "         [2.0712e+01, 1.7457e+02],\n",
       "         [6.7852e+01, 0.0000e+00],\n",
       "         [1.4081e+02, 9.3873e+01],\n",
       "         [1.8606e+02, 9.2115e-02],\n",
       "         [2.1468e+02, 5.5389e+01],\n",
       "         [9.4760e+01, 1.9518e+02],\n",
       "         [1.4655e+02, 1.1053e+02],\n",
       "         [7.8768e+01, 1.3302e+02],\n",
       "         [1.0515e+02, 6.6030e+01],\n",
       "         [1.4011e+01, 2.0532e+02],\n",
       "         [1.1384e+02, 1.9260e+00],\n",
       "         [8.4888e+01, 1.9523e+02],\n",
       "         [5.9824e+01, 3.7289e+01],\n",
       "         [8.4765e+01, 6.1332e+01],\n",
       "         [1.4678e+01, 1.6250e+02],\n",
       "         [2.1499e+02, 5.1995e+01],\n",
       "         [3.7400e+01, 8.1299e+01],\n",
       "         [7.5597e+00, 1.6186e+02],\n",
       "         [1.4552e+02, 8.8384e+01],\n",
       "         [1.8588e+02, 1.3253e+02],\n",
       "         [7.7679e+01, 2.0591e+02],\n",
       "         [1.2884e+02, 1.2259e+02],\n",
       "         [1.6097e+02, 1.8485e+02],\n",
       "         [1.0379e+02, 2.2300e+02],\n",
       "         [8.2757e+01, 4.1359e+00],\n",
       "         [9.9015e+01, 2.0797e+02],\n",
       "         [9.9239e+01, 1.8337e+02],\n",
       "         [3.3029e+01, 1.2991e+01],\n",
       "         [4.9070e+00, 1.2817e+02],\n",
       "         [8.3843e+01, 4.3625e+01],\n",
       "         [5.1977e+01, 1.8235e+02],\n",
       "         [1.0876e+02, 5.0807e+01],\n",
       "         [1.2763e+02, 8.2730e+01],\n",
       "         [1.6302e+02, 2.0180e+02],\n",
       "         [2.2192e+02, 3.6824e+01],\n",
       "         [1.1896e+02, 6.8457e+01],\n",
       "         [1.9514e+02, 1.2946e+02],\n",
       "         [1.0597e+02, 4.9215e+01],\n",
       "         [1.4508e+02, 1.8966e+02],\n",
       "         [1.5787e+02, 1.8227e+02],\n",
       "         [9.2689e+01, 9.1916e+01],\n",
       "         [1.7825e+02, 6.9152e+01],\n",
       "         [1.4265e+02, 4.3987e+01],\n",
       "         [3.7648e+01, 5.8373e+01],\n",
       "         [5.4922e+01, 8.8244e+01],\n",
       "         [2.2662e+01, 1.7946e+02],\n",
       "         [1.2561e+02, 4.5228e+01],\n",
       "         [1.5164e+02, 1.2242e+02],\n",
       "         [1.6287e+02, 7.2597e+01],\n",
       "         [2.0988e+02, 2.7731e+01],\n",
       "         [1.6060e+02, 1.2226e+02],\n",
       "         [1.3603e+02, 8.6009e+01],\n",
       "         [8.8890e+01, 6.2248e+01],\n",
       "         [1.9014e+02, 4.4863e+00],\n",
       "         [1.8217e+02, 1.6312e+02],\n",
       "         [1.1613e+02, 1.4608e+02],\n",
       "         [4.8313e+01, 1.6799e+02]]], grad_fn=<ClampBackward1>)"
      ]
     },
     "execution_count": 6,
     "metadata": {},
     "output_type": "execute_result"
    }
   ],
   "source": [
    "results[0]"
   ]
  },
  {
   "cell_type": "code",
   "execution_count": 38,
   "metadata": {},
   "outputs": [],
   "source": [
    "first_img_feature = res50_bone(first_img)\n",
    "first_img_feature = F.interpolate(\n",
    "    first_img_feature,\n",
    "    size=(224, 224),\n",
    "    mode=\"bilinear\",\n",
    ")\n",
    "pre_img_feature = res50_bone(previous_img)\n",
    "pre_img_feature = F.interpolate(\n",
    "    pre_img_feature,\n",
    "    size=(224, 224),\n",
    "    mode=\"bilinear\",\n",
    ")\n",
    "cur_img_feature = res50_bone(current_img)\n",
    "cur_img_feature = F.interpolate(\n",
    "    cur_img_feature,\n",
    "    size=(224, 224),\n",
    "    mode=\"bilinear\",\n",
    ")"
   ]
  },
  {
   "cell_type": "code",
   "execution_count": 39,
   "metadata": {},
   "outputs": [
    {
     "data": {
      "text/plain": [
       "torch.Size([3, 80, 1024])"
      ]
     },
     "execution_count": 39,
     "metadata": {},
     "output_type": "execute_result"
    }
   ],
   "source": [
    "first_query = get_bou_features(first_img_feature, boundary)\n",
    "first_query = first_query.permute(0, 2, 1)\n",
    "pre_query = get_bou_features(pre_img_feature, boundary)\n",
    "pre_query = pre_query.permute(0, 2, 1)\n",
    "first_query.shape\n"
   ]
  },
  {
   "cell_type": "code",
   "execution_count": 41,
   "metadata": {},
   "outputs": [
    {
     "name": "stdout",
     "output_type": "stream",
     "text": [
      "tensor(98915.5312, grad_fn=<SumBackward0>)\n",
      "tensor(98915.5312, grad_fn=<SumBackward0>)\n",
      "tensor(90949.9922, grad_fn=<SumBackward0>)\n",
      "tensor(90598.2734, grad_fn=<SumBackward0>)\n",
      "tensor(90960.5625, grad_fn=<SumBackward0>)\n",
      "tensor(90725.2656, grad_fn=<SumBackward0>)\n",
      "tensor(90631.5469, grad_fn=<SumBackward0>)\n",
      "tensor(90929.3281, grad_fn=<SumBackward0>)\n",
      "tensor(91280.0703, grad_fn=<SumBackward0>)\n",
      "tensor(90991.5234, grad_fn=<SumBackward0>)\n",
      "tensor(91189.1953, grad_fn=<SumBackward0>)\n",
      "tensor(90458.0156, grad_fn=<SumBackward0>)\n",
      "tensor(90843.2188, grad_fn=<SumBackward0>)\n",
      "tensor(90949.4531, grad_fn=<SumBackward0>)\n",
      "tensor(91146.4219, grad_fn=<SumBackward0>)\n",
      "tensor(90479.8516, grad_fn=<SumBackward0>)\n",
      "tensor(90386.1484, grad_fn=<SumBackward0>)\n",
      "tensor(91073.7031, grad_fn=<SumBackward0>)\n",
      "tensor(90640.0312, grad_fn=<SumBackward0>)\n",
      "tensor(91199.4062, grad_fn=<SumBackward0>)\n",
      "tensor(90161.0078, grad_fn=<SumBackward0>)\n",
      "tensor(91157.1016, grad_fn=<SumBackward0>)\n",
      "tensor(90881.9062, grad_fn=<SumBackward0>)\n",
      "tensor(91196.6406, grad_fn=<SumBackward0>)\n",
      "tensor(90550.5938, grad_fn=<SumBackward0>)\n",
      "tensor(90540.7109, grad_fn=<SumBackward0>)\n",
      "tensor(90562.4844, grad_fn=<SumBackward0>)\n",
      "tensor(90940.2500, grad_fn=<SumBackward0>)\n",
      "tensor(90900.7422, grad_fn=<SumBackward0>)\n",
      "tensor(90908.5312, grad_fn=<SumBackward0>)\n",
      "tensor(90345.2812, grad_fn=<SumBackward0>)\n",
      "tensor(90117.3516, grad_fn=<SumBackward0>)\n",
      "tensor(90741.4688, grad_fn=<SumBackward0>)\n",
      "tensor(90903.4141, grad_fn=<SumBackward0>)\n",
      "tensor(90495.4219, grad_fn=<SumBackward0>)\n",
      "tensor(91684.0703, grad_fn=<SumBackward0>)\n",
      "tensor(90702.6797, grad_fn=<SumBackward0>)\n",
      "tensor(91064.9688, grad_fn=<SumBackward0>)\n",
      "tensor(90558.3828, grad_fn=<SumBackward0>)\n",
      "tensor(90516.2656, grad_fn=<SumBackward0>)\n",
      "tensor(91690.7422, grad_fn=<SumBackward0>)\n",
      "tensor(90636.0078, grad_fn=<SumBackward0>)\n",
      "tensor(91351.7812, grad_fn=<SumBackward0>)\n",
      "tensor(91423.9609, grad_fn=<SumBackward0>)\n",
      "tensor(90809.3281, grad_fn=<SumBackward0>)\n",
      "tensor(91526.1797, grad_fn=<SumBackward0>)\n",
      "tensor(90765.9375, grad_fn=<SumBackward0>)\n",
      "tensor(91179.4375, grad_fn=<SumBackward0>)\n",
      "tensor(90587.5703, grad_fn=<SumBackward0>)\n",
      "tensor(90471.9844, grad_fn=<SumBackward0>)\n",
      "tensor(91100.6328, grad_fn=<SumBackward0>)\n",
      "tensor(90785.9062, grad_fn=<SumBackward0>)\n",
      "tensor(91163.8594, grad_fn=<SumBackward0>)\n",
      "tensor(91602.6406, grad_fn=<SumBackward0>)\n",
      "tensor(90559.7656, grad_fn=<SumBackward0>)\n",
      "tensor(90456.9062, grad_fn=<SumBackward0>)\n",
      "tensor(90624.8828, grad_fn=<SumBackward0>)\n",
      "tensor(91396.3047, grad_fn=<SumBackward0>)\n",
      "tensor(91033.8594, grad_fn=<SumBackward0>)\n",
      "tensor(90778.2422, grad_fn=<SumBackward0>)\n",
      "tensor(90697.0312, grad_fn=<SumBackward0>)\n",
      "tensor(90430.8828, grad_fn=<SumBackward0>)\n",
      "tensor(90857.7969, grad_fn=<SumBackward0>)\n",
      "tensor(90965.0078, grad_fn=<SumBackward0>)\n",
      "tensor(90778.2578, grad_fn=<SumBackward0>)\n",
      "tensor(91174.3906, grad_fn=<SumBackward0>)\n",
      "tensor(90149.6484, grad_fn=<SumBackward0>)\n",
      "tensor(90990.2344, grad_fn=<SumBackward0>)\n",
      "tensor(91160.4766, grad_fn=<SumBackward0>)\n",
      "tensor(90664.7500, grad_fn=<SumBackward0>)\n",
      "tensor(90687.3750, grad_fn=<SumBackward0>)\n",
      "tensor(91108.8672, grad_fn=<SumBackward0>)\n",
      "tensor(90837.3984, grad_fn=<SumBackward0>)\n",
      "tensor(90976.4766, grad_fn=<SumBackward0>)\n",
      "tensor(91086.8047, grad_fn=<SumBackward0>)\n",
      "tensor(91010.6406, grad_fn=<SumBackward0>)\n",
      "tensor(90727.6875, grad_fn=<SumBackward0>)\n",
      "tensor(90875.3594, grad_fn=<SumBackward0>)\n",
      "tensor(90352.5625, grad_fn=<SumBackward0>)\n",
      "tensor(90715.4531, grad_fn=<SumBackward0>)\n",
      "tensor(90876.9531, grad_fn=<SumBackward0>)\n",
      "tensor(98915.5312, grad_fn=<SumBackward0>) 0\n"
     ]
    }
   ],
   "source": [
    "def get_best_match(feature0: torch.Tensor, feature1: torch.Tensor):\n",
    "    best_shift = 0\n",
    "    best_similarity = (feature0 * feature1).sum() \n",
    "    for shift in range(feature0.shape[1]):\n",
    "        similarity = (feature0 * feature1.roll(shift, dims=1)).sum()\n",
    "        if similarity > best_similarity:\n",
    "            best_similarity = similarity\n",
    "            best_shift = shift\n",
    "    return feature0, feature1.roll(best_shift, dims=1)\n",
    "    \n",
    "get_best_match(first_query, pre_query)"
   ]
  },
  {
   "cell_type": "code",
   "execution_count": 11,
   "metadata": {},
   "outputs": [
    {
     "data": {
      "text/plain": [
       "torch.Size([3, 1024, 80])"
      ]
     },
     "execution_count": 11,
     "metadata": {},
     "output_type": "execute_result"
    }
   ],
   "source": [
    "raw_query_features = get_bou_features(pre_img_feature, boundary)\n",
    "raw_query_features.shape"
   ]
  },
  {
   "cell_type": "code",
   "execution_count": 12,
   "metadata": {},
   "outputs": [
    {
     "data": {
      "text/plain": [
       "torch.Size([3, 80, 1026])"
      ]
     },
     "execution_count": 12,
     "metadata": {},
     "output_type": "execute_result"
    }
   ],
   "source": [
    "query_features = query_encoder(raw_query_features.permute(0, 2, 1))\n",
    "query_features.shape"
   ]
  },
  {
   "cell_type": "code",
   "execution_count": 14,
   "metadata": {},
   "outputs": [
    {
     "data": {
      "text/plain": [
       "torch.Size([3, 80, 1024])"
      ]
     },
     "execution_count": 14,
     "metadata": {},
     "output_type": "execute_result"
    }
   ],
   "source": [
    "boundary_features = get_bou_features(cur_img_feature, boundary)\n",
    "boundary_features = boundary_features.permute(0, 2, 1)\n",
    "boundary_features.shape"
   ]
  },
  {
   "cell_type": "code",
   "execution_count": 15,
   "metadata": {},
   "outputs": [
    {
     "data": {
      "text/plain": [
       "torch.Size([3, 80, 1026])"
      ]
     },
     "execution_count": 15,
     "metadata": {},
     "output_type": "execute_result"
    }
   ],
   "source": [
    "boundary_tokens = torch.cat([boundary_features, boundary], dim=2)\n",
    "boundary_tokens.shape"
   ]
  },
  {
   "cell_type": "code",
   "execution_count": 16,
   "metadata": {},
   "outputs": [
    {
     "data": {
      "text/plain": [
       "torch.Size([3, 160, 1026])"
      ]
     },
     "execution_count": 16,
     "metadata": {},
     "output_type": "execute_result"
    }
   ],
   "source": [
    "tokens = torch.cat([query_features, boundary_tokens], dim=1)\n",
    "tokens.shape"
   ]
  },
  {
   "cell_type": "code",
   "execution_count": 17,
   "metadata": {},
   "outputs": [],
   "source": [
    "tokens = layernorm(tokens)\n",
    "tokens = positional_encoding(tokens)"
   ]
  },
  {
   "cell_type": "code",
   "execution_count": 18,
   "metadata": {},
   "outputs": [
    {
     "data": {
      "text/plain": [
       "torch.Size([3, 160, 1026])"
      ]
     },
     "execution_count": 18,
     "metadata": {},
     "output_type": "execute_result"
    }
   ],
   "source": [
    "out_tokens = tranformer_encoder(tokens)\n",
    "out_tokens.shape"
   ]
  },
  {
   "cell_type": "code",
   "execution_count": 23,
   "metadata": {},
   "outputs": [
    {
     "data": {
      "text/plain": [
       "torch.Size([3, 80, 1026])"
      ]
     },
     "execution_count": 23,
     "metadata": {},
     "output_type": "execute_result"
    }
   ],
   "source": [
    "query_offsets = tokens[:, :boundary_num, :]\n",
    "query_offsets = q_offset_encoder(query_offsets)\n",
    "query_offsets.shape"
   ]
  },
  {
   "cell_type": "code",
   "execution_count": 14,
   "metadata": {},
   "outputs": [
    {
     "ename": "NameError",
     "evalue": "name 'tokens' is not defined",
     "output_type": "error",
     "traceback": [
      "\u001b[0;31m---------------------------------------------------------------------------\u001b[0m",
      "\u001b[0;31mNameError\u001b[0m                                 Traceback (most recent call last)",
      "Cell \u001b[0;32mIn[14], line 1\u001b[0m\n\u001b[0;32m----> 1\u001b[0m xy_offsets \u001b[38;5;241m=\u001b[39m \u001b[43mtokens\u001b[49m[:, boundary_num:, :]\n\u001b[1;32m      2\u001b[0m xy_offsets \u001b[38;5;241m=\u001b[39m xy_offset_encoder(xy_offsets)\n\u001b[1;32m      3\u001b[0m xy_offsets\n",
      "\u001b[0;31mNameError\u001b[0m: name 'tokens' is not defined"
     ]
    }
   ],
   "source": [
    "xy_offsets = tokens[:, boundary_num:, :]\n",
    "xy_offsets = xy_offset_encoder(xy_offsets)\n",
    "xy_offsets"
   ]
  }
 ],
 "metadata": {
  "kernelspec": {
   "display_name": "Python 3 (ipykernel)",
   "language": "python",
   "name": "python3"
  },
  "language_info": {
   "codemirror_mode": {
    "name": "ipython",
    "version": 3
   },
   "file_extension": ".py",
   "mimetype": "text/x-python",
   "name": "python",
   "nbconvert_exporter": "python",
   "pygments_lexer": "ipython3",
   "version": "3.11.4"
  }
 },
 "nbformat": 4,
 "nbformat_minor": 2
}
