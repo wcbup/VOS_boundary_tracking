{
 "cells": [
  {
   "cell_type": "code",
   "execution_count": 1,
   "metadata": {},
   "outputs": [],
   "source": [
    "import torch\n",
    "import torch.nn as nn\n",
    "import torch.nn.functional as F\n",
    "from torchvision.models import resnet50, ResNet50_Weights\n",
    "from torchsummary import summary\n",
    "import numpy as np\n",
    "from model import PositionalEncoding\n",
    "from model import IterWholeFirst\n",
    "from einops import rearrange"
   ]
  },
  {
   "cell_type": "code",
   "execution_count": 2,
   "metadata": {},
   "outputs": [
    {
     "name": "stdout",
     "output_type": "stream",
     "text": [
      "/bin/bash: nvidia-smi: command not found\n"
     ]
    }
   ],
   "source": [
    "!nvidia-smi"
   ]
  },
  {
   "cell_type": "code",
   "execution_count": 3,
   "metadata": {},
   "outputs": [],
   "source": [
    "def get_bou_features(\n",
    "    img_features: torch.Tensor, boundary: torch.Tensor\n",
    ") -> torch.Tensor:\n",
    "    bou_features = img_features[\n",
    "        0, :, boundary[0, :, 0], boundary[0, :, 1]\n",
    "    ].unsqueeze(0)\n",
    "    for i in range(1, boundary.shape[0]):\n",
    "        bou_features = torch.cat(\n",
    "            (\n",
    "                bou_features,\n",
    "                img_features[\n",
    "                    i,\n",
    "                    :,\n",
    "                    boundary[i, :, 0],\n",
    "                    boundary[i, :, 1],\n",
    "                ].unsqueeze(0),\n",
    "            ),\n",
    "            dim=0,\n",
    "        )\n",
    "    return bou_features"
   ]
  },
  {
   "cell_type": "code",
   "execution_count": 4,
   "metadata": {},
   "outputs": [],
   "source": [
    "# d_token = 1024 + 2\n",
    "boundary_num = 80\n",
    "device = \"cpu\"\n",
    "res50 = resnet50(weights=ResNet50_Weights.IMAGENET1K_V2).to(device)\n",
    "res50_bone = nn.Sequential(*list(res50.children())[:-3]).to(device)\n",
    "# positional_encoding = PositionalEncoding(d_token).to(device)\n",
    "# layernorm = nn.LayerNorm(d_token).to(device)\n",
    "# query_encoder = nn.Linear(1024, d_token).to(device)\n",
    "# tranformer_encoder = nn.TransformerEncoder(\n",
    "#     nn.TransformerEncoderLayer(\n",
    "#         d_model=d_token,\n",
    "#         nhead=1,\n",
    "#         batch_first=True,\n",
    "#     ),\n",
    "#     num_layers=1,\n",
    "# ).to(device)\n",
    "# xy_offset_encoder = nn.Linear(d_token, 2).to(device)\n",
    "# q_offset_encoder = nn.Linear(d_token, d_token).to(device)\n",
    "# xy_fc_list = nn.ModuleList()\n",
    "# for i in range(boundary_num):\n",
    "#     xy_fc_list.append(nn.Linear(d_token, 2))\n",
    "# xy_fc_list = xy_fc_list.to(device)\n",
    "# q_fc_list = nn.ModuleList()\n",
    "# for i in range(boundary_num):\n",
    "#     q_fc_list.append(nn.Linear(d_token, d_token))\n",
    "# q_fc_list = q_fc_list.to(device)"
   ]
  },
  {
   "cell_type": "code",
   "execution_count": 5,
   "metadata": {},
   "outputs": [
    {
     "data": {
      "text/plain": [
       "torch.Size([3, 80, 2])"
      ]
     },
     "execution_count": 5,
     "metadata": {},
     "output_type": "execute_result"
    }
   ],
   "source": [
    "first_img = torch.rand(3, 3, 224, 224).to(device)\n",
    "previous_img = torch.rand(3, 3, 224, 224).to(device)\n",
    "current_img = torch.rand(3, 3, 224, 224).to(device)\n",
    "boundary = torch.randint(0, 224, (3, boundary_num, 2)).to(device)\n",
    "boundary.shape"
   ]
  },
  {
   "cell_type": "code",
   "execution_count": 6,
   "metadata": {},
   "outputs": [
    {
     "data": {
      "text/plain": [
       "(torch.Size([3, 1024, 224, 224]), torch.Size([3, 1024, 14, 14]))"
      ]
     },
     "execution_count": 6,
     "metadata": {},
     "output_type": "execute_result"
    }
   ],
   "source": [
    "first_img_raw_feature = res50_bone(first_img)\n",
    "first_img_feature = F.interpolate(\n",
    "    first_img_raw_feature,\n",
    "    size=(224, 224),\n",
    "    mode=\"bilinear\",\n",
    ")\n",
    "pre_img_raw_feature = res50_bone(previous_img)\n",
    "pre_img_feature = F.interpolate(\n",
    "    pre_img_raw_feature,\n",
    "    size=(224, 224),\n",
    "    mode=\"bilinear\",\n",
    ")\n",
    "cur_img_raw_feature = res50_bone(current_img)\n",
    "cur_img_feature = F.interpolate(\n",
    "    cur_img_raw_feature,\n",
    "    size=(224, 224),\n",
    "    mode=\"bilinear\",\n",
    ")\n",
    "first_img_feature.shape, first_img_raw_feature.shape"
   ]
  },
  {
   "cell_type": "code",
   "execution_count": 41,
   "metadata": {},
   "outputs": [
    {
     "data": {
      "text/plain": [
       "torch.Size([3, 196, 1024])"
      ]
     },
     "execution_count": 41,
     "metadata": {},
     "output_type": "execute_result"
    }
   ],
   "source": [
    "def get_img_tokens(img_features: torch.Tensor) -> torch.Tensor:\n",
    "    img_tokens = rearrange(\n",
    "        img_features,\n",
    "        \"b c h w -> b (h w) c\",\n",
    "    )\n",
    "    return img_tokens\n",
    "get_img_tokens(first_img_raw_feature).shape"
   ]
  },
  {
   "cell_type": "code",
   "execution_count": 67,
   "metadata": {},
   "outputs": [
    {
     "data": {
      "text/plain": [
       "torch.Size([3, 196, 1024])"
      ]
     },
     "execution_count": 67,
     "metadata": {},
     "output_type": "execute_result"
    }
   ],
   "source": [
    "# first_img_tokens = get_img_tokens(first_img_raw_feature)\n",
    "# pre_img_tokens = get_img_tokens(pre_img_raw_feature)\n",
    "cur_img_tokens = get_img_tokens(cur_img_raw_feature)\n",
    "cur_img_tokens.shape"
   ]
  },
  {
   "cell_type": "code",
   "execution_count": 63,
   "metadata": {},
   "outputs": [
    {
     "name": "stderr",
     "output_type": "stream",
     "text": [
      "/work3/s232248/miniconda3/envs/vos/lib/python3.12/site-packages/torch/nn/modules/transformer.py:286: UserWarning: enable_nested_tensor is True, but self.use_nested_tensor is False because encoder_layer.self_attn.num_heads is odd\n",
      "  warnings.warn(f\"enable_nested_tensor is True, but self.use_nested_tensor is False because {why_not_sparsity_fast_path}\")\n"
     ]
    }
   ],
   "source": [
    "d_token = 1024 + 2\n",
    "positional_encoding = PositionalEncoding(d_token).to(device)\n",
    "layernorm = nn.LayerNorm(d_token).to(device)\n",
    "encoder_layer = nn.TransformerEncoderLayer(\n",
    "    d_model=d_token,\n",
    "    nhead=1, \n",
    "    batch_first=True\n",
    ").to(device)\n",
    "tranformer_encoder = nn.TransformerEncoder(\n",
    "    encoder_layer,\n",
    "    num_layers=1,\n",
    ").to(device)"
   ]
  },
  {
   "cell_type": "code",
   "execution_count": 44,
   "metadata": {},
   "outputs": [],
   "source": [
    "img_token_encoder = nn.Linear(1024, d_token).to(device)"
   ]
  },
  {
   "cell_type": "code",
   "execution_count": 68,
   "metadata": {},
   "outputs": [
    {
     "data": {
      "text/plain": [
       "torch.Size([3, 196, 1026])"
      ]
     },
     "execution_count": 68,
     "metadata": {},
     "output_type": "execute_result"
    }
   ],
   "source": [
    "cur_img_tokens = img_token_encoder(cur_img_tokens)\n",
    "cur_img_tokens = layernorm(cur_img_tokens)\n",
    "cur_img_tokens = positional_encoding(cur_img_tokens)\n",
    "memory = tranformer_encoder(cur_img_tokens)\n",
    "memory.shape"
   ]
  },
  {
   "cell_type": "code",
   "execution_count": 46,
   "metadata": {},
   "outputs": [
    {
     "data": {
      "text/plain": [
       "torch.Size([3, 80, 1024])"
      ]
     },
     "execution_count": 46,
     "metadata": {},
     "output_type": "execute_result"
    }
   ],
   "source": [
    "first_query = get_bou_features(first_img_feature, boundary)\n",
    "first_query = first_query.permute(0, 2, 1)\n",
    "pre_query = get_bou_features(pre_img_feature, boundary)\n",
    "pre_query = pre_query.permute(0, 2, 1)\n",
    "first_query.shape\n"
   ]
  },
  {
   "cell_type": "code",
   "execution_count": 49,
   "metadata": {},
   "outputs": [],
   "source": [
    "query_encoder = nn.Linear(1024, d_token).to(device)"
   ]
  },
  {
   "cell_type": "code",
   "execution_count": 57,
   "metadata": {},
   "outputs": [
    {
     "data": {
      "text/plain": [
       "torch.Size([3, 80, 1026])"
      ]
     },
     "execution_count": 57,
     "metadata": {},
     "output_type": "execute_result"
    }
   ],
   "source": [
    "pre_query_tokens = query_encoder(pre_query)\n",
    "pre_query_tokens = layernorm(pre_query_tokens)\n",
    "pre_query_tokens = positional_encoding(pre_query_tokens)\n",
    "pre_query_tokens.shape"
   ]
  },
  {
   "cell_type": "code",
   "execution_count": 58,
   "metadata": {},
   "outputs": [
    {
     "data": {
      "text/plain": [
       "torch.Size([3, 80, 1026])"
      ]
     },
     "execution_count": 58,
     "metadata": {},
     "output_type": "execute_result"
    }
   ],
   "source": [
    "first_query_tokens = query_encoder(first_query)\n",
    "first_query_tokens = layernorm(first_query_tokens)\n",
    "first_query_tokens = positional_encoding(first_query_tokens)\n",
    "first_query_tokens.shape"
   ]
  },
  {
   "cell_type": "code",
   "execution_count": 59,
   "metadata": {},
   "outputs": [
    {
     "data": {
      "text/plain": [
       "torch.Size([3, 80, 1024])"
      ]
     },
     "execution_count": 59,
     "metadata": {},
     "output_type": "execute_result"
    }
   ],
   "source": [
    "boundary_features = get_bou_features(cur_img_feature, boundary)\n",
    "boundary_features = boundary_features.permute(0, 2, 1)\n",
    "boundary_features.shape"
   ]
  },
  {
   "cell_type": "code",
   "execution_count": 60,
   "metadata": {},
   "outputs": [
    {
     "data": {
      "text/plain": [
       "torch.Size([3, 80, 1026])"
      ]
     },
     "execution_count": 60,
     "metadata": {},
     "output_type": "execute_result"
    }
   ],
   "source": [
    "boundary_tokens = torch.cat([boundary_features, boundary], dim=2)\n",
    "boundary_tokens.shape"
   ]
  },
  {
   "cell_type": "code",
   "execution_count": 61,
   "metadata": {},
   "outputs": [
    {
     "data": {
      "text/plain": [
       "torch.Size([3, 80, 1026])"
      ]
     },
     "execution_count": 61,
     "metadata": {},
     "output_type": "execute_result"
    }
   ],
   "source": [
    "boundary_tokens = layernorm(boundary_tokens)\n",
    "boundary_tokens = positional_encoding(boundary_tokens)\n",
    "boundary_tokens.shape"
   ]
  },
  {
   "cell_type": "code",
   "execution_count": 62,
   "metadata": {},
   "outputs": [],
   "source": [
    "decoder_layer = nn.TransformerDecoderLayer(\n",
    "    d_model=d_token,\n",
    "    nhead=1,\n",
    "    batch_first=True,\n",
    ").to(device)\n",
    "transformer_decoder = nn.TransformerDecoder(\n",
    "    decoder_layer,\n",
    "    num_layers=1,\n",
    ").to(device)"
   ]
  },
  {
   "cell_type": "code",
   "execution_count": 69,
   "metadata": {},
   "outputs": [
    {
     "data": {
      "text/plain": [
       "torch.Size([3, 240, 1026])"
      ]
     },
     "execution_count": 69,
     "metadata": {},
     "output_type": "execute_result"
    }
   ],
   "source": [
    "input_tokens = torch.cat([\n",
    "    pre_query_tokens,\n",
    "    boundary_tokens,\n",
    "    first_query_tokens\n",
    "    ], dim=1\n",
    ")\n",
    "input_tokens.shape"
   ]
  },
  {
   "cell_type": "code",
   "execution_count": 71,
   "metadata": {},
   "outputs": [
    {
     "data": {
      "text/plain": [
       "torch.Size([3, 240, 1026])"
      ]
     },
     "execution_count": 71,
     "metadata": {},
     "output_type": "execute_result"
    }
   ],
   "source": [
    "out_tokens = transformer_decoder(input_tokens, memory)\n",
    "out_tokens.shape"
   ]
  },
  {
   "cell_type": "code",
   "execution_count": 72,
   "metadata": {},
   "outputs": [],
   "source": [
    "xy_offset_encoder = nn.Linear(d_token, 2).to(device)\n",
    "q_offset_encoder = nn.Linear(d_token, d_token).to(device)"
   ]
  },
  {
   "cell_type": "code",
   "execution_count": 73,
   "metadata": {},
   "outputs": [
    {
     "data": {
      "text/plain": [
       "torch.Size([3, 80, 1026])"
      ]
     },
     "execution_count": 73,
     "metadata": {},
     "output_type": "execute_result"
    }
   ],
   "source": [
    "q_offset = q_offset_encoder(out_tokens[:, :boundary_num, :])\n",
    "q_offset.shape"
   ]
  },
  {
   "cell_type": "code",
   "execution_count": 74,
   "metadata": {},
   "outputs": [
    {
     "data": {
      "text/plain": [
       "torch.Size([3, 80, 2])"
      ]
     },
     "execution_count": 74,
     "metadata": {},
     "output_type": "execute_result"
    }
   ],
   "source": [
    "xy_offset = xy_offset_encoder(out_tokens[:, boundary_num:2*boundary_num, :])\n",
    "xy_offset.shape"
   ]
  },
  {
   "cell_type": "code",
   "execution_count": 75,
   "metadata": {},
   "outputs": [
    {
     "data": {
      "text/plain": [
       "torch.Size([3, 80, 2])"
      ]
     },
     "execution_count": 75,
     "metadata": {},
     "output_type": "execute_result"
    }
   ],
   "source": [
    "(boundary + xy_offset).shape"
   ]
  },
  {
   "cell_type": "code",
   "execution_count": null,
   "metadata": {},
   "outputs": [],
   "source": []
  }
 ],
 "metadata": {
  "kernelspec": {
   "display_name": "Python 3 (ipykernel)",
   "language": "python",
   "name": "python3"
  },
  "language_info": {
   "codemirror_mode": {
    "name": "ipython",
    "version": 3
   },
   "file_extension": ".py",
   "mimetype": "text/x-python",
   "name": "python",
   "nbconvert_exporter": "python",
   "pygments_lexer": "ipython3",
   "version": "3.12.2"
  }
 },
 "nbformat": 4,
 "nbformat_minor": 2
}
