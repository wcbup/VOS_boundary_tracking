{
 "cells": [
  {
   "cell_type": "code",
   "execution_count": 10,
   "metadata": {},
   "outputs": [],
   "source": [
    "import torch\n",
    "import torch.nn as nn\n",
    "import torch.nn.functional as F\n",
    "from torchvision.models import resnet50, ResNet50_Weights\n",
    "from torchsummary import summary\n",
    "import numpy as np\n",
    "from model import PositionalEncoding\n",
    "from model import IterWholeFirst\n",
    "from einops import rearrange"
   ]
  },
  {
   "cell_type": "code",
   "execution_count": 11,
   "metadata": {},
   "outputs": [
    {
     "name": "stdout",
     "output_type": "stream",
     "text": [
      "Fri Mar 29 12:55:34 2024       \n",
      "+-----------------------------------------------------------------------------------------+\n",
      "| NVIDIA-SMI 550.54.14              Driver Version: 550.54.14      CUDA Version: 12.4     |\n",
      "|-----------------------------------------+------------------------+----------------------+\n",
      "| GPU  Name                 Persistence-M | Bus-Id          Disp.A | Volatile Uncorr. ECC |\n",
      "| Fan  Temp   Perf          Pwr:Usage/Cap |           Memory-Usage | GPU-Util  Compute M. |\n",
      "|                                         |                        |               MIG M. |\n",
      "|=========================================+========================+======================|\n",
      "|   0  Tesla V100-SXM2-32GB           On  |   00000000:15:00.0 Off |                    0 |\n",
      "| N/A   57C    P0            285W /  300W |   10919MiB /  32768MiB |     79%      Default |\n",
      "|                                         |                        |                  N/A |\n",
      "+-----------------------------------------+------------------------+----------------------+\n",
      "|   1  Tesla V100-SXM2-32GB           On  |   00000000:16:00.0 Off |                    0 |\n",
      "| N/A   39C    P0             43W /  300W |       3MiB /  32768MiB |      0%      Default |\n",
      "|                                         |                        |                  N/A |\n",
      "+-----------------------------------------+------------------------+----------------------+\n",
      "|   2  Tesla V100-SXM2-32GB           On  |   00000000:3A:00.0 Off |                    0 |\n",
      "| N/A   30C    P0             56W /  300W |    5063MiB /  32768MiB |      0%      Default |\n",
      "|                                         |                        |                  N/A |\n",
      "+-----------------------------------------+------------------------+----------------------+\n",
      "|   3  Tesla V100-SXM2-32GB           On  |   00000000:3B:00.0 Off |                    0 |\n",
      "| N/A   34C    P0             58W /  300W |    7277MiB /  32768MiB |      4%      Default |\n",
      "|                                         |                        |                  N/A |\n",
      "+-----------------------------------------+------------------------+----------------------+\n",
      "                                                                                         \n",
      "+-----------------------------------------------------------------------------------------+\n",
      "| Processes:                                                                              |\n",
      "|  GPU   GI   CI        PID   Type   Process name                              GPU Memory |\n",
      "|        ID   ID                                                               Usage      |\n",
      "|=========================================================================================|\n",
      "|    0   N/A  N/A      3603      C   ...2248/miniconda3/envs/vos/bin/python       7668MiB |\n",
      "|    0   N/A  N/A     25575      C   ...2248/miniconda3/envs/vos/bin/python       3246MiB |\n",
      "|    2   N/A  N/A      2533      C   ...iniconda3/envs/qim-phase/bin/python       2714MiB |\n",
      "|    2   N/A  N/A     28289      C   ...iniconda3/envs/qim-phase/bin/python       2342MiB |\n",
      "|    3   N/A  N/A     10232      C   ...74475/.conda/envs/ml/bin/python3.11        440MiB |\n",
      "|    3   N/A  N/A     20805      C   ...iniconda3/envs/qim-phase/bin/python       2582MiB |\n",
      "|    3   N/A  N/A     20809      C   ...iniconda3/envs/qim-phase/bin/python       4250MiB |\n",
      "+-----------------------------------------------------------------------------------------+\n"
     ]
    }
   ],
   "source": [
    "!nvidia-smi"
   ]
  },
  {
   "cell_type": "code",
   "execution_count": 12,
   "metadata": {},
   "outputs": [],
   "source": [
    "def get_bou_features(\n",
    "    img_features: torch.Tensor, boundary: torch.Tensor\n",
    ") -> torch.Tensor:\n",
    "    bou_features = img_features[\n",
    "        0, :, boundary[0, :, 0], boundary[0, :, 1]\n",
    "    ].unsqueeze(0)\n",
    "    for i in range(1, boundary.shape[0]):\n",
    "        bou_features = torch.cat(\n",
    "            (\n",
    "                bou_features,\n",
    "                img_features[\n",
    "                    i,\n",
    "                    :,\n",
    "                    boundary[i, :, 0],\n",
    "                    boundary[i, :, 1],\n",
    "                ].unsqueeze(0),\n",
    "            ),\n",
    "            dim=0,\n",
    "        )\n",
    "    return bou_features"
   ]
  },
  {
   "cell_type": "code",
   "execution_count": 13,
   "metadata": {},
   "outputs": [],
   "source": [
    "# d_token = 1024 + 2\n",
    "boundary_num = 80\n",
    "device = \"cuda\"\n",
    "res50 = resnet50(weights=ResNet50_Weights.IMAGENET1K_V2).to(device)\n",
    "res50_bone = nn.Sequential(*list(res50.children())[:-3]).to(device)\n",
    "# positional_encoding = PositionalEncoding(d_token).to(device)\n",
    "# layernorm = nn.LayerNorm(d_token).to(device)\n",
    "# query_encoder = nn.Linear(1024, d_token).to(device)\n",
    "# tranformer_encoder = nn.TransformerEncoder(\n",
    "#     nn.TransformerEncoderLayer(\n",
    "#         d_model=d_token,\n",
    "#         nhead=1,\n",
    "#         batch_first=True,\n",
    "#     ),\n",
    "#     num_layers=1,\n",
    "# ).to(device)\n",
    "# xy_offset_encoder = nn.Linear(d_token, 2).to(device)\n",
    "# q_offset_encoder = nn.Linear(d_token, d_token).to(device)\n",
    "# xy_fc_list = nn.ModuleList()\n",
    "# for i in range(boundary_num):\n",
    "#     xy_fc_list.append(nn.Linear(d_token, 2))\n",
    "# xy_fc_list = xy_fc_list.to(device)\n",
    "# q_fc_list = nn.ModuleList()\n",
    "# for i in range(boundary_num):\n",
    "#     q_fc_list.append(nn.Linear(d_token, d_token))\n",
    "# q_fc_list = q_fc_list.to(device)"
   ]
  },
  {
   "cell_type": "code",
   "execution_count": 14,
   "metadata": {},
   "outputs": [
    {
     "data": {
      "text/plain": [
       "torch.Size([3, 80, 2])"
      ]
     },
     "execution_count": 14,
     "metadata": {},
     "output_type": "execute_result"
    }
   ],
   "source": [
    "first_img = torch.rand(3, 3, 224, 224).to(device)\n",
    "previous_img = torch.rand(3, 3, 224, 224).to(device)\n",
    "current_img = torch.rand(3, 3, 224, 224).to(device)\n",
    "boundary = torch.randint(0, 224, (3, boundary_num, 2)).to(device)\n",
    "boundary.shape"
   ]
  },
  {
   "cell_type": "code",
   "execution_count": 15,
   "metadata": {},
   "outputs": [],
   "source": [
    "from model import IterWholeFirst_Con"
   ]
  },
  {
   "cell_type": "code",
   "execution_count": 16,
   "metadata": {},
   "outputs": [],
   "source": [
    "model = IterWholeFirst_Con().to(device)"
   ]
  },
  {
   "cell_type": "code",
   "execution_count": 17,
   "metadata": {},
   "outputs": [],
   "source": [
    "results = model(first_img, boundary, previous_img, current_img, boundary)"
   ]
  },
  {
   "cell_type": "code",
   "execution_count": 18,
   "metadata": {},
   "outputs": [
    {
     "data": {
      "text/plain": [
       "tensor([[[218.0502,  73.3597],\n",
       "         [185.1082,  46.1478],\n",
       "         [ 67.2036, 179.0918],\n",
       "         [ 86.9212,  99.9083],\n",
       "         [ 36.2933, 122.3697],\n",
       "         [121.7536, 139.1214],\n",
       "         [193.4686,  34.7747],\n",
       "         [ 67.9449,  84.7661],\n",
       "         [117.9955,  90.3885],\n",
       "         [ 49.5312, 212.6399],\n",
       "         [161.0197,  28.1296],\n",
       "         [116.2467, 193.0450],\n",
       "         [ 55.1245, 119.8204],\n",
       "         [ 85.9165,   0.6317],\n",
       "         [ 72.8476, 104.9932],\n",
       "         [122.7785,  72.9933],\n",
       "         [ 90.9525, 160.9684],\n",
       "         [ 32.0098, 152.8551],\n",
       "         [ 28.3327, 201.2262],\n",
       "         [130.8240,  37.7677],\n",
       "         [ 67.1918, 185.3790],\n",
       "         [ 46.8778,  20.7873],\n",
       "         [185.9105, 199.4985],\n",
       "         [ 99.4514, 223.1400],\n",
       "         [155.0369, 149.6918],\n",
       "         [121.1199, 178.3872],\n",
       "         [155.8786, 114.0323],\n",
       "         [ 75.5257, 136.5029],\n",
       "         [119.4035,  72.2576],\n",
       "         [120.1593,  29.8580],\n",
       "         [ 70.2636,  76.7981],\n",
       "         [191.9312, 160.1306],\n",
       "         [107.0754, 116.7533],\n",
       "         [130.6869, 154.2165],\n",
       "         [216.4505, 191.8509],\n",
       "         [ 28.8982, 206.3148],\n",
       "         [210.8380, 121.2992],\n",
       "         [  7.9331,  81.9355],\n",
       "         [121.7139,  95.6260],\n",
       "         [ 71.2954, 134.4259],\n",
       "         [ 55.9836, 103.4474],\n",
       "         [145.1394, 188.3386],\n",
       "         [ 70.1242,  56.8441],\n",
       "         [126.5741,  45.8599],\n",
       "         [ 11.4753,  83.4531],\n",
       "         [  2.1209, 158.3210],\n",
       "         [  1.2800, 209.2164],\n",
       "         [ 61.4796, 143.4507],\n",
       "         [157.0372,  11.2164],\n",
       "         [ 61.0745,  39.7950],\n",
       "         [ 86.0063,  80.2948],\n",
       "         [198.8958, 162.6834],\n",
       "         [ 40.2718,  25.8791],\n",
       "         [163.4585,  78.4267],\n",
       "         [ 34.3886, 119.9553],\n",
       "         [ 80.2309, 216.8992],\n",
       "         [133.2827,  76.7616],\n",
       "         [118.1299, 104.1566],\n",
       "         [100.2823, 109.8255],\n",
       "         [164.9178, 158.5191],\n",
       "         [ 25.0534, 187.3140],\n",
       "         [162.0734, 134.9034],\n",
       "         [  6.3211, 134.4346],\n",
       "         [ 95.1778,   8.2470],\n",
       "         [153.4317, 212.1922],\n",
       "         [ 65.9329,  11.7648],\n",
       "         [  4.2418,  53.0286],\n",
       "         [172.8874, 216.9002],\n",
       "         [132.8017,  88.8398],\n",
       "         [ 40.0638, 175.6883],\n",
       "         [ 61.0463, 146.4159],\n",
       "         [189.9750,  74.9751],\n",
       "         [154.4529, 121.1201],\n",
       "         [ 55.2574, 105.1248],\n",
       "         [190.7128,  28.7999],\n",
       "         [222.2917,   0.9221],\n",
       "         [ 61.0295, 151.4592],\n",
       "         [ 49.0702,  80.4998],\n",
       "         [120.2295,  47.9040],\n",
       "         [ 11.0892, 178.3063]],\n",
       "\n",
       "        [[101.5956,  49.3778],\n",
       "         [116.0037, 180.9894],\n",
       "         [ 33.0663, 218.1463],\n",
       "         [ 31.6790,  20.9930],\n",
       "         [ 18.4945, 211.2665],\n",
       "         [ 26.1234, 198.7502],\n",
       "         [ 29.2882,  96.1626],\n",
       "         [ 92.5146,  78.7077],\n",
       "         [207.7609, 187.8687],\n",
       "         [136.2826, 201.7969],\n",
       "         [ 79.9693,  39.6101],\n",
       "         [ 75.3193,  73.5422],\n",
       "         [153.2575, 170.8197],\n",
       "         [ 58.1386, 198.4286],\n",
       "         [ 38.0858, 203.4802],\n",
       "         [141.6161, 102.7170],\n",
       "         [216.9034, 211.2126],\n",
       "         [ 22.1544, 153.7226],\n",
       "         [ 30.9286, 205.4823],\n",
       "         [178.8714, 137.8691],\n",
       "         [157.9084,  31.4789],\n",
       "         [112.9910, 146.6110],\n",
       "         [ 16.4277, 104.1515],\n",
       "         [ 12.2021,  10.8719],\n",
       "         [155.0245,  26.6861],\n",
       "         [151.0777,  16.0012],\n",
       "         [ 62.3242, 152.4411],\n",
       "         [214.0660,  12.9472],\n",
       "         [143.3817, 218.2230],\n",
       "         [182.1896, 162.8213],\n",
       "         [203.1443,  49.3998],\n",
       "         [ 67.9016,  33.6953],\n",
       "         [105.8302, 125.1561],\n",
       "         [ 51.2057, 132.6458],\n",
       "         [217.8149,  33.5956],\n",
       "         [ 83.1266,   8.1423],\n",
       "         [ 68.7390,  35.9849],\n",
       "         [154.8867,  45.8803],\n",
       "         [ 93.8470,  86.4591],\n",
       "         [ 81.9048,  96.9277],\n",
       "         [105.1884, 208.4910],\n",
       "         [182.0511, 117.8847],\n",
       "         [ 80.1271, 165.3943],\n",
       "         [ 18.3787,  31.3266],\n",
       "         [168.6938,  46.7247],\n",
       "         [ 89.9846,   8.7227],\n",
       "         [134.0814, 221.2985],\n",
       "         [ 27.3294,  72.1124],\n",
       "         [ 84.4012, 142.9185],\n",
       "         [  1.3958, 196.5448],\n",
       "         [ 14.4601, 179.5466],\n",
       "         [102.5260,  89.6304],\n",
       "         [ 67.3281,   7.3199],\n",
       "         [ 80.7848,  78.5513],\n",
       "         [198.1468, 132.6213],\n",
       "         [ 47.3655,  83.2393],\n",
       "         [ 42.7441,  70.5587],\n",
       "         [ 18.9841,  29.3063],\n",
       "         [220.9246, 181.0742],\n",
       "         [171.7465,  85.8065],\n",
       "         [116.1275, 212.8528],\n",
       "         [ 37.8206,  22.6587],\n",
       "         [146.9940, 110.7987],\n",
       "         [201.9112,  68.6252],\n",
       "         [158.0901, 170.9304],\n",
       "         [185.0719, 207.1584],\n",
       "         [ 55.4652, 141.9751],\n",
       "         [  9.4902, 194.6960],\n",
       "         [162.5533, 126.7708],\n",
       "         [120.9381, 205.5647],\n",
       "         [200.6913,  65.5510],\n",
       "         [ 50.2089, 211.6680],\n",
       "         [193.7640,  84.8133],\n",
       "         [223.0348, 189.0359],\n",
       "         [213.8723,  68.7687],\n",
       "         [161.8319,  30.5637],\n",
       "         [174.5725,  29.4227],\n",
       "         [108.1372,  47.6844],\n",
       "         [ 60.2308, 189.3040],\n",
       "         [ 78.8829, 195.2746]],\n",
       "\n",
       "        [[ 28.2530, 176.6663],\n",
       "         [158.9418, 117.6727],\n",
       "         [215.7787, 172.0969],\n",
       "         [162.6480,  43.7749],\n",
       "         [ 72.0270, 168.3674],\n",
       "         [126.9786,   7.4049],\n",
       "         [195.0126, 133.7930],\n",
       "         [175.9202, 108.4996],\n",
       "         [161.5492,  52.4884],\n",
       "         [208.7534, 160.2834],\n",
       "         [128.9129, 181.3092],\n",
       "         [175.1435, 174.6517],\n",
       "         [180.0243, 124.5660],\n",
       "         [ 73.0474, 100.1460],\n",
       "         [ 37.0014, 220.7888],\n",
       "         [ 96.2179, 190.4149],\n",
       "         [204.7899,  53.8319],\n",
       "         [ 54.0780, 118.9783],\n",
       "         [102.6245,  43.9808],\n",
       "         [219.7336,  74.5089],\n",
       "         [151.7762,  29.3212],\n",
       "         [215.8016, 137.3434],\n",
       "         [ 48.6118,  33.5339],\n",
       "         [112.2985,  92.1974],\n",
       "         [ 19.1969, 183.8460],\n",
       "         [ 10.5735, 161.5598],\n",
       "         [203.4968, 205.9866],\n",
       "         [135.1296, 123.2685],\n",
       "         [193.8548,  83.5217],\n",
       "         [110.9024,  59.6333],\n",
       "         [202.9903, 158.7701],\n",
       "         [166.9550, 205.7728],\n",
       "         [158.9933, 176.8670],\n",
       "         [ 26.3165,  22.0292],\n",
       "         [214.6896,   5.9933],\n",
       "         [191.9931, 185.1133],\n",
       "         [ 68.9683, 222.2522],\n",
       "         [ 58.8247, 211.3909],\n",
       "         [ 10.3458,  35.4315],\n",
       "         [111.9827, 154.0451],\n",
       "         [ 10.5290, 215.4616],\n",
       "         [177.8945, 219.4360],\n",
       "         [157.0034, 173.6115],\n",
       "         [ 47.2506, 188.2629],\n",
       "         [ 36.8989,   8.1913],\n",
       "         [ 40.0963, 129.4774],\n",
       "         [ 70.1085, 112.9848],\n",
       "         [ 53.0336, 177.4412],\n",
       "         [135.1187,   6.6369],\n",
       "         [  1.4509,  88.1928],\n",
       "         [196.5696,  89.3573],\n",
       "         [ 36.1087, 200.0880],\n",
       "         [ 43.7726,  41.0938],\n",
       "         [193.7388,  17.4256],\n",
       "         [195.0342, 149.0669],\n",
       "         [165.0868, 169.7820],\n",
       "         [ 64.3346, 213.2634],\n",
       "         [135.3587, 109.7847],\n",
       "         [122.1902, 140.2602],\n",
       "         [ 76.2713, 105.3687],\n",
       "         [ 49.7416, 124.9336],\n",
       "         [ 36.2438,  52.7364],\n",
       "         [106.1653, 130.0711],\n",
       "         [ 89.1511, 132.0161],\n",
       "         [129.7812,  61.2307],\n",
       "         [ 38.0086, 196.8020],\n",
       "         [137.7930,  64.9821],\n",
       "         [ 35.9357,  99.1411],\n",
       "         [147.5388, 152.7903],\n",
       "         [ 99.7015, 120.5143],\n",
       "         [ 97.9151,  87.0711],\n",
       "         [208.7423,  31.6640],\n",
       "         [180.5929,  30.8631],\n",
       "         [ 29.9333,  75.4488],\n",
       "         [162.6458,  27.7776],\n",
       "         [ 19.4208,  18.4841],\n",
       "         [209.5331,   1.8280],\n",
       "         [170.5318, 132.4385],\n",
       "         [188.0096,  61.7301],\n",
       "         [ 83.1861, 183.4089]]], device='cuda:0', grad_fn=<AddBackward0>)"
      ]
     },
     "execution_count": 18,
     "metadata": {},
     "output_type": "execute_result"
    }
   ],
   "source": [
    "results[0]"
   ]
  },
  {
   "cell_type": "code",
   "execution_count": 6,
   "metadata": {},
   "outputs": [
    {
     "data": {
      "text/plain": [
       "(torch.Size([3, 1024, 224, 224]), torch.Size([3, 1024, 14, 14]))"
      ]
     },
     "execution_count": 6,
     "metadata": {},
     "output_type": "execute_result"
    }
   ],
   "source": [
    "first_img_raw_feature = res50_bone(first_img)\n",
    "first_img_feature = F.interpolate(\n",
    "    first_img_raw_feature,\n",
    "    size=(224, 224),\n",
    "    mode=\"bilinear\",\n",
    ")\n",
    "pre_img_raw_feature = res50_bone(previous_img)\n",
    "pre_img_feature = F.interpolate(\n",
    "    pre_img_raw_feature,\n",
    "    size=(224, 224),\n",
    "    mode=\"bilinear\",\n",
    ")\n",
    "cur_img_raw_feature = res50_bone(current_img)\n",
    "cur_img_feature = F.interpolate(\n",
    "    cur_img_raw_feature,\n",
    "    size=(224, 224),\n",
    "    mode=\"bilinear\",\n",
    ")\n",
    "first_img_feature.shape, first_img_raw_feature.shape"
   ]
  },
  {
   "cell_type": "code",
   "execution_count": 41,
   "metadata": {},
   "outputs": [
    {
     "data": {
      "text/plain": [
       "torch.Size([3, 196, 1024])"
      ]
     },
     "execution_count": 41,
     "metadata": {},
     "output_type": "execute_result"
    }
   ],
   "source": [
    "def get_img_tokens(img_features: torch.Tensor) -> torch.Tensor:\n",
    "    img_tokens = rearrange(\n",
    "        img_features,\n",
    "        \"b c h w -> b (h w) c\",\n",
    "    )\n",
    "    return img_tokens\n",
    "get_img_tokens(first_img_raw_feature).shape"
   ]
  },
  {
   "cell_type": "code",
   "execution_count": 67,
   "metadata": {},
   "outputs": [
    {
     "data": {
      "text/plain": [
       "torch.Size([3, 196, 1024])"
      ]
     },
     "execution_count": 67,
     "metadata": {},
     "output_type": "execute_result"
    }
   ],
   "source": [
    "# first_img_tokens = get_img_tokens(first_img_raw_feature)\n",
    "# pre_img_tokens = get_img_tokens(pre_img_raw_feature)\n",
    "cur_img_tokens = get_img_tokens(cur_img_raw_feature)\n",
    "cur_img_tokens.shape"
   ]
  },
  {
   "cell_type": "code",
   "execution_count": 63,
   "metadata": {},
   "outputs": [
    {
     "name": "stderr",
     "output_type": "stream",
     "text": [
      "/work3/s232248/miniconda3/envs/vos/lib/python3.12/site-packages/torch/nn/modules/transformer.py:286: UserWarning: enable_nested_tensor is True, but self.use_nested_tensor is False because encoder_layer.self_attn.num_heads is odd\n",
      "  warnings.warn(f\"enable_nested_tensor is True, but self.use_nested_tensor is False because {why_not_sparsity_fast_path}\")\n"
     ]
    }
   ],
   "source": [
    "d_token = 1024 + 2\n",
    "positional_encoding = PositionalEncoding(d_token).to(device)\n",
    "layernorm = nn.LayerNorm(d_token).to(device)\n",
    "encoder_layer = nn.TransformerEncoderLayer(\n",
    "    d_model=d_token,\n",
    "    nhead=1, \n",
    "    batch_first=True\n",
    ").to(device)\n",
    "tranformer_encoder = nn.TransformerEncoder(\n",
    "    encoder_layer,\n",
    "    num_layers=1,\n",
    ").to(device)"
   ]
  },
  {
   "cell_type": "code",
   "execution_count": 44,
   "metadata": {},
   "outputs": [],
   "source": [
    "img_token_encoder = nn.Linear(1024, d_token).to(device)"
   ]
  },
  {
   "cell_type": "code",
   "execution_count": 68,
   "metadata": {},
   "outputs": [
    {
     "data": {
      "text/plain": [
       "torch.Size([3, 196, 1026])"
      ]
     },
     "execution_count": 68,
     "metadata": {},
     "output_type": "execute_result"
    }
   ],
   "source": [
    "cur_img_tokens = img_token_encoder(cur_img_tokens)\n",
    "cur_img_tokens = layernorm(cur_img_tokens)\n",
    "cur_img_tokens = positional_encoding(cur_img_tokens)\n",
    "memory = tranformer_encoder(cur_img_tokens)\n",
    "memory.shape"
   ]
  },
  {
   "cell_type": "code",
   "execution_count": 46,
   "metadata": {},
   "outputs": [
    {
     "data": {
      "text/plain": [
       "torch.Size([3, 80, 1024])"
      ]
     },
     "execution_count": 46,
     "metadata": {},
     "output_type": "execute_result"
    }
   ],
   "source": [
    "first_query = get_bou_features(first_img_feature, boundary)\n",
    "first_query = first_query.permute(0, 2, 1)\n",
    "pre_query = get_bou_features(pre_img_feature, boundary)\n",
    "pre_query = pre_query.permute(0, 2, 1)\n",
    "first_query.shape\n"
   ]
  },
  {
   "cell_type": "code",
   "execution_count": 49,
   "metadata": {},
   "outputs": [],
   "source": [
    "query_encoder = nn.Linear(1024, d_token).to(device)"
   ]
  },
  {
   "cell_type": "code",
   "execution_count": 57,
   "metadata": {},
   "outputs": [
    {
     "data": {
      "text/plain": [
       "torch.Size([3, 80, 1026])"
      ]
     },
     "execution_count": 57,
     "metadata": {},
     "output_type": "execute_result"
    }
   ],
   "source": [
    "pre_query_tokens = query_encoder(pre_query)\n",
    "pre_query_tokens = layernorm(pre_query_tokens)\n",
    "pre_query_tokens = positional_encoding(pre_query_tokens)\n",
    "pre_query_tokens.shape"
   ]
  },
  {
   "cell_type": "code",
   "execution_count": 58,
   "metadata": {},
   "outputs": [
    {
     "data": {
      "text/plain": [
       "torch.Size([3, 80, 1026])"
      ]
     },
     "execution_count": 58,
     "metadata": {},
     "output_type": "execute_result"
    }
   ],
   "source": [
    "first_query_tokens = query_encoder(first_query)\n",
    "first_query_tokens = layernorm(first_query_tokens)\n",
    "first_query_tokens = positional_encoding(first_query_tokens)\n",
    "first_query_tokens.shape"
   ]
  },
  {
   "cell_type": "code",
   "execution_count": 59,
   "metadata": {},
   "outputs": [
    {
     "data": {
      "text/plain": [
       "torch.Size([3, 80, 1024])"
      ]
     },
     "execution_count": 59,
     "metadata": {},
     "output_type": "execute_result"
    }
   ],
   "source": [
    "boundary_features = get_bou_features(cur_img_feature, boundary)\n",
    "boundary_features = boundary_features.permute(0, 2, 1)\n",
    "boundary_features.shape"
   ]
  },
  {
   "cell_type": "code",
   "execution_count": 60,
   "metadata": {},
   "outputs": [
    {
     "data": {
      "text/plain": [
       "torch.Size([3, 80, 1026])"
      ]
     },
     "execution_count": 60,
     "metadata": {},
     "output_type": "execute_result"
    }
   ],
   "source": [
    "boundary_tokens = torch.cat([boundary_features, boundary], dim=2)\n",
    "boundary_tokens.shape"
   ]
  },
  {
   "cell_type": "code",
   "execution_count": 61,
   "metadata": {},
   "outputs": [
    {
     "data": {
      "text/plain": [
       "torch.Size([3, 80, 1026])"
      ]
     },
     "execution_count": 61,
     "metadata": {},
     "output_type": "execute_result"
    }
   ],
   "source": [
    "boundary_tokens = layernorm(boundary_tokens)\n",
    "boundary_tokens = positional_encoding(boundary_tokens)\n",
    "boundary_tokens.shape"
   ]
  },
  {
   "cell_type": "code",
   "execution_count": 62,
   "metadata": {},
   "outputs": [],
   "source": [
    "decoder_layer = nn.TransformerDecoderLayer(\n",
    "    d_model=d_token,\n",
    "    nhead=1,\n",
    "    batch_first=True,\n",
    ").to(device)\n",
    "transformer_decoder = nn.TransformerDecoder(\n",
    "    decoder_layer,\n",
    "    num_layers=1,\n",
    ").to(device)"
   ]
  },
  {
   "cell_type": "code",
   "execution_count": 69,
   "metadata": {},
   "outputs": [
    {
     "data": {
      "text/plain": [
       "torch.Size([3, 240, 1026])"
      ]
     },
     "execution_count": 69,
     "metadata": {},
     "output_type": "execute_result"
    }
   ],
   "source": [
    "input_tokens = torch.cat([\n",
    "    pre_query_tokens,\n",
    "    boundary_tokens,\n",
    "    first_query_tokens\n",
    "    ], dim=1\n",
    ")\n",
    "input_tokens.shape"
   ]
  },
  {
   "cell_type": "code",
   "execution_count": 71,
   "metadata": {},
   "outputs": [
    {
     "data": {
      "text/plain": [
       "torch.Size([3, 240, 1026])"
      ]
     },
     "execution_count": 71,
     "metadata": {},
     "output_type": "execute_result"
    }
   ],
   "source": [
    "out_tokens = transformer_decoder(input_tokens, memory)\n",
    "out_tokens.shape"
   ]
  },
  {
   "cell_type": "code",
   "execution_count": 72,
   "metadata": {},
   "outputs": [],
   "source": [
    "xy_offset_encoder = nn.Linear(d_token, 2).to(device)\n",
    "q_offset_encoder = nn.Linear(d_token, d_token).to(device)"
   ]
  },
  {
   "cell_type": "code",
   "execution_count": 73,
   "metadata": {},
   "outputs": [
    {
     "data": {
      "text/plain": [
       "torch.Size([3, 80, 1026])"
      ]
     },
     "execution_count": 73,
     "metadata": {},
     "output_type": "execute_result"
    }
   ],
   "source": [
    "q_offset = q_offset_encoder(out_tokens[:, :boundary_num, :])\n",
    "q_offset.shape"
   ]
  },
  {
   "cell_type": "code",
   "execution_count": 74,
   "metadata": {},
   "outputs": [
    {
     "data": {
      "text/plain": [
       "torch.Size([3, 80, 2])"
      ]
     },
     "execution_count": 74,
     "metadata": {},
     "output_type": "execute_result"
    }
   ],
   "source": [
    "xy_offset = xy_offset_encoder(out_tokens[:, boundary_num:2*boundary_num, :])\n",
    "xy_offset.shape"
   ]
  },
  {
   "cell_type": "code",
   "execution_count": 75,
   "metadata": {},
   "outputs": [
    {
     "data": {
      "text/plain": [
       "torch.Size([3, 80, 2])"
      ]
     },
     "execution_count": 75,
     "metadata": {},
     "output_type": "execute_result"
    }
   ],
   "source": [
    "(boundary + xy_offset).shape"
   ]
  },
  {
   "cell_type": "code",
   "execution_count": null,
   "metadata": {},
   "outputs": [],
   "source": []
  }
 ],
 "metadata": {
  "kernelspec": {
   "display_name": "Python 3 (ipykernel)",
   "language": "python",
   "name": "python3"
  },
  "language_info": {
   "codemirror_mode": {
    "name": "ipython",
    "version": 3
   },
   "file_extension": ".py",
   "mimetype": "text/x-python",
   "name": "python",
   "nbconvert_exporter": "python",
   "pygments_lexer": "ipython3",
   "version": "3.12.2"
  }
 },
 "nbformat": 4,
 "nbformat_minor": 2
}
