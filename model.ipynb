{
 "cells": [
  {
   "cell_type": "code",
   "execution_count": 1,
   "metadata": {},
   "outputs": [],
   "source": [
    "import torch\n",
    "import torch.nn as nn\n",
    "import torch.nn.functional as F\n",
    "from torchvision.models import resnet50, ResNet50_Weights\n",
    "import numpy as np"
   ]
  },
  {
   "cell_type": "code",
   "execution_count": 2,
   "metadata": {},
   "outputs": [
    {
     "data": {
      "text/plain": [
       "True"
      ]
     },
     "execution_count": 2,
     "metadata": {},
     "output_type": "execute_result"
    }
   ],
   "source": [
    "torch.cuda.is_available()"
   ]
  },
  {
   "cell_type": "code",
   "execution_count": 3,
   "metadata": {},
   "outputs": [
    {
     "name": "stderr",
     "output_type": "stream",
     "text": [
      "Downloading: \"https://download.pytorch.org/models/resnet50-11ad3fa6.pth\" to /zhome/32/f/202284/.cache/torch/hub/checkpoints/resnet50-11ad3fa6.pth\n",
      "100%|██████████████████████████████| 97.8M/97.8M [00:01<00:00, 75.4MB/s]\n"
     ]
    }
   ],
   "source": [
    "res50 = resnet50(weights=ResNet50_Weights.IMAGENET1K_V2)\n",
    "# summary(res50, (3, 224, 224))"
   ]
  },
  {
   "cell_type": "code",
   "execution_count": 3,
   "metadata": {},
   "outputs": [],
   "source": [
    "res50_bone = nn.Sequential(*list(res50.children())[:-2]).to('cpu')\n",
    "# summary(res50_bone, (3, 224, 224))"
   ]
  },
  {
   "cell_type": "code",
   "execution_count": 4,
   "metadata": {},
   "outputs": [
    {
     "data": {
      "text/plain": [
       "(torch.Size([3, 2048, 7, 7]), torch.Size([3, 2048, 7, 7]))"
      ]
     },
     "execution_count": 4,
     "metadata": {},
     "output_type": "execute_result"
    }
   ],
   "source": [
    "pre_frame = torch.randn(3, 3, 224, 224)\n",
    "pre_frame_features = res50_bone(pre_frame)\n",
    "curr_frame = torch.randn(3, 3, 224, 224)\n",
    "curr_img_features = res50_bone(curr_frame)\n",
    "curr_img_features.shape, pre_frame_features.shape"
   ]
  },
  {
   "cell_type": "code",
   "execution_count": 5,
   "metadata": {},
   "outputs": [
    {
     "data": {
      "text/plain": [
       "torch.Size([3, 4, 2])"
      ]
     },
     "execution_count": 5,
     "metadata": {},
     "output_type": "execute_result"
    }
   ],
   "source": [
    "tmp_boundary = torch.Tensor(\n",
    "    np.array(\n",
    "        [\n",
    "            [[1, 2], [3, 4], [5, 6], [7, 8]],\n",
    "            [[9, 10], [11, 12], [13, 14], [15, 16]],\n",
    "            [[9, 10], [11, 12], [13, 14], [15, 16]],\n",
    "        ],\n",
    "        dtype=np.int32,\n",
    "    )\n",
    ").int()\n",
    "tmp_boundary.shape"
   ]
  },
  {
   "cell_type": "code",
   "execution_count": 6,
   "metadata": {},
   "outputs": [
    {
     "data": {
      "text/plain": [
       "(torch.Size([3, 2048, 224, 224]), torch.Size([3, 2048, 224, 224]))"
      ]
     },
     "execution_count": 6,
     "metadata": {},
     "output_type": "execute_result"
    }
   ],
   "source": [
    "curr_img_features = F.interpolate(curr_img_features, size=(224, 224), mode=\"bilinear\")\n",
    "pre_img_features = F.interpolate(pre_frame_features, size=(224, 224), mode=\"bilinear\")\n",
    "curr_img_features.shape, pre_img_features.shape"
   ]
  },
  {
   "cell_type": "code",
   "execution_count": 7,
   "metadata": {},
   "outputs": [
    {
     "data": {
      "text/plain": [
       "tensor([ 9, 11, 13, 15], dtype=torch.int32)"
      ]
     },
     "execution_count": 7,
     "metadata": {},
     "output_type": "execute_result"
    }
   ],
   "source": [
    "tmp_boundary[2, :, 0]"
   ]
  },
  {
   "cell_type": "code",
   "execution_count": 39,
   "metadata": {},
   "outputs": [
    {
     "data": {
      "text/plain": [
       "torch.Size([2048, 4])"
      ]
     },
     "execution_count": 39,
     "metadata": {},
     "output_type": "execute_result"
    }
   ],
   "source": [
    "curr_img_features[0, :, tmp_boundary[0, :, 0].to(\"cpu\"), tmp_boundary[0, :, 1].to(\"cpu\")].shape"
   ]
  },
  {
   "cell_type": "code",
   "execution_count": 8,
   "metadata": {},
   "outputs": [],
   "source": [
    "def get_bou_features(\n",
    "    img_features: torch.Tensor, boundary: torch.Tensor\n",
    ") -> torch.Tensor:\n",
    "    bou_features = img_features[0, :, boundary[0, :, 0], boundary[0, :, 1]].unsqueeze(0)\n",
    "    for i in range(1, boundary.shape[0]):\n",
    "        bou_features = torch.cat(\n",
    "            (\n",
    "                bou_features,\n",
    "                img_features[\n",
    "                    i,\n",
    "                    :,\n",
    "                    boundary[i, :, 0],\n",
    "                    boundary[i, :, 1],\n",
    "                ].unsqueeze(0),\n",
    "            ),\n",
    "            dim=0,\n",
    "        )\n",
    "    return bou_features"
   ]
  },
  {
   "cell_type": "code",
   "execution_count": 9,
   "metadata": {},
   "outputs": [
    {
     "data": {
      "text/plain": [
       "(torch.Size([3, 4, 2048]), torch.Size([3, 4, 2048]))"
      ]
     },
     "execution_count": 9,
     "metadata": {},
     "output_type": "execute_result"
    }
   ],
   "source": [
    "# curr_bou_features = curr_img_features[\n",
    "#     0, :, tmp_boundary[0, :, 0], tmp_boundary[0, :, 1]\n",
    "# ].unsqueeze(0)\n",
    "# for i in range(1, tmp_boundary.shape[0]):\n",
    "#     curr_bou_features = torch.cat(\n",
    "#         (\n",
    "#             curr_bou_features,\n",
    "#             curr_img_features[\n",
    "#                 i, :, tmp_boundary[i, :, 0], tmp_boundary[i, :, 1]\n",
    "#             ].unsqueeze(0),\n",
    "#         ),\n",
    "#         dim=0,\n",
    "#     )\n",
    "curr_bou_features = get_bou_features(curr_img_features, tmp_boundary)\n",
    "pre_bou_features = get_bou_features(pre_img_features, tmp_boundary)\n",
    "curr_bou_features = curr_bou_features.permute(0, 2, 1)\n",
    "pre_bou_features = pre_bou_features.permute(0, 2, 1)\n",
    "curr_bou_features.shape, pre_bou_features.shape"
   ]
  },
  {
   "cell_type": "code",
   "execution_count": 10,
   "metadata": {},
   "outputs": [
    {
     "data": {
      "text/plain": [
       "torch.Size([3, 4, 4096])"
      ]
     },
     "execution_count": 10,
     "metadata": {},
     "output_type": "execute_result"
    }
   ],
   "source": [
    "tokens = torch.cat([curr_bou_features, pre_bou_features], dim=2)\n",
    "tokens.shape"
   ]
  },
  {
   "cell_type": "code",
   "execution_count": 41,
   "metadata": {},
   "outputs": [
    {
     "data": {
      "text/plain": [
       "torch.Size([3, 4, 2])"
      ]
     },
     "execution_count": 41,
     "metadata": {},
     "output_type": "execute_result"
    }
   ],
   "source": [
    "tmp_boundary.shape"
   ]
  },
  {
   "cell_type": "code",
   "execution_count": 12,
   "metadata": {},
   "outputs": [
    {
     "data": {
      "text/plain": [
       "torch.Size([3, 4, 4098])"
      ]
     },
     "execution_count": 12,
     "metadata": {},
     "output_type": "execute_result"
    }
   ],
   "source": [
    "final_tokens = torch.cat([tokens, tmp_boundary.float()], dim=2)\n",
    "final_tokens.shape"
   ]
  },
  {
   "cell_type": "code",
   "execution_count": 13,
   "metadata": {},
   "outputs": [
    {
     "data": {
      "text/plain": [
       "tensor([ 0.,  0.,  0.,  ...,  0., 13., 14.], grad_fn=<SliceBackward0>)"
      ]
     },
     "execution_count": 13,
     "metadata": {},
     "output_type": "execute_result"
    }
   ],
   "source": [
    "final_tokens[2, 2, :]"
   ]
  },
  {
   "cell_type": "code",
   "execution_count": 14,
   "metadata": {},
   "outputs": [],
   "source": [
    "encoder_layer = nn.TransformerEncoderLayer(d_model=4098, nhead=6, batch_first=True)\n",
    "transformer_encoder = nn.TransformerEncoder(encoder_layer, num_layers=6)"
   ]
  },
  {
   "cell_type": "code",
   "execution_count": 15,
   "metadata": {},
   "outputs": [
    {
     "data": {
      "text/plain": [
       "torch.Size([3, 4, 4098])"
      ]
     },
     "execution_count": 15,
     "metadata": {},
     "output_type": "execute_result"
    }
   ],
   "source": [
    "transformer_encoder(final_tokens).shape"
   ]
  },
  {
   "cell_type": "code",
   "execution_count": 16,
   "metadata": {},
   "outputs": [],
   "source": [
    "from model import Model"
   ]
  },
  {
   "cell_type": "code",
   "execution_count": 19,
   "metadata": {},
   "outputs": [],
   "source": [
    "model = Model(4).to(\"cuda\")\n",
    "pre_frame = torch.randn(3, 3, 224, 224).to(\"cuda\")\n",
    "curr_frame = torch.randn(3, 3, 224, 224).to(\"cuda\")\n",
    "tmp_boundary = tmp_boundary.to(\"cuda\")"
   ]
  },
  {
   "cell_type": "code",
   "execution_count": 40,
   "metadata": {},
   "outputs": [
    {
     "data": {
      "text/plain": [
       "torch.Size([3, 8])"
      ]
     },
     "execution_count": 40,
     "metadata": {},
     "output_type": "execute_result"
    }
   ],
   "source": [
    "model(pre_frame, curr_frame, tmp_boundary).shape"
   ]
  },
  {
   "cell_type": "code",
   "execution_count": null,
   "metadata": {},
   "outputs": [],
   "source": []
  }
 ],
 "metadata": {
  "kernelspec": {
   "display_name": "Python 3 (ipykernel)",
   "language": "python",
   "name": "python3"
  },
  "language_info": {
   "codemirror_mode": {
    "name": "ipython",
    "version": 3
   },
   "file_extension": ".py",
   "mimetype": "text/x-python",
   "name": "python",
   "nbconvert_exporter": "python",
   "pygments_lexer": "ipython3",
   "version": "3.11.5"
  }
 },
 "nbformat": 4,
 "nbformat_minor": 2
}
