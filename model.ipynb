{
 "cells": [
  {
   "cell_type": "code",
   "execution_count": 1,
   "metadata": {},
   "outputs": [],
   "source": [
    "import torch\n",
    "import torch.nn as nn\n",
    "import torch.nn.functional as F\n",
    "from torchvision.models import resnet50, ResNet50_Weights\n",
    "from torchsummary import summary\n",
    "import numpy as np\n",
    "from model import PositionalEncoding\n",
    "from model import NeighborModel"
   ]
  },
  {
   "cell_type": "code",
   "execution_count": 2,
   "metadata": {},
   "outputs": [],
   "source": [
    "def get_bou_features(\n",
    "    img_features: torch.Tensor, boundary: torch.Tensor\n",
    ") -> torch.Tensor:\n",
    "    bou_features = img_features[\n",
    "        0, :, boundary[0, :, 0], boundary[0, :, 1]\n",
    "    ].unsqueeze(0)\n",
    "    for i in range(1, boundary.shape[0]):\n",
    "        bou_features = torch.cat(\n",
    "            (\n",
    "                bou_features,\n",
    "                img_features[\n",
    "                    i,\n",
    "                    :,\n",
    "                    boundary[i, :, 0],\n",
    "                    boundary[i, :, 1],\n",
    "                ].unsqueeze(0),\n",
    "            ),\n",
    "            dim=0,\n",
    "        )\n",
    "    return bou_features"
   ]
  },
  {
   "cell_type": "code",
   "execution_count": 3,
   "metadata": {},
   "outputs": [
    {
     "name": "stderr",
     "output_type": "stream",
     "text": [
      "/work3/s232248/miniconda3/envs/vos/lib/python3.12/site-packages/torch/nn/modules/transformer.py:286: UserWarning: enable_nested_tensor is True, but self.use_nested_tensor is False because encoder_layer.self_attn.num_heads is odd\n",
      "  warnings.warn(f\"enable_nested_tensor is True, but self.use_nested_tensor is False because {why_not_sparsity_fast_path}\")\n"
     ]
    }
   ],
   "source": [
    "d_token = 1024 + 2\n",
    "boundary_num = 80\n",
    "device = \"cpu\"\n",
    "res50 = resnet50(weights=ResNet50_Weights.IMAGENET1K_V2).to(device)\n",
    "res50_bone = nn.Sequential(*list(res50.children())[:-3]).to(device)\n",
    "positional_encoding = PositionalEncoding(d_token).to(device)\n",
    "layernorm = nn.LayerNorm(d_token).to(device)\n",
    "query_encoder = nn.Linear(1024, d_token).to(device)\n",
    "tranformer_encoder = nn.TransformerEncoder(\n",
    "    nn.TransformerEncoderLayer(\n",
    "        d_model=d_token,\n",
    "        nhead=1,\n",
    "        batch_first=True,\n",
    "    ),\n",
    "    num_layers=1,\n",
    ").to(device)\n",
    "xy_offset_encoder = nn.Linear(d_token, 2).to(device)\n",
    "q_offset_encoder = nn.Linear(d_token, d_token).to(device)\n",
    "# xy_fc_list = nn.ModuleList()\n",
    "# for i in range(boundary_num):\n",
    "#     xy_fc_list.append(nn.Linear(d_token, 2))\n",
    "# xy_fc_list = xy_fc_list.to(device)\n",
    "# q_fc_list = nn.ModuleList()\n",
    "# for i in range(boundary_num):\n",
    "#     q_fc_list.append(nn.Linear(d_token, d_token))\n",
    "# q_fc_list = q_fc_list.to(device)"
   ]
  },
  {
   "cell_type": "code",
   "execution_count": 4,
   "metadata": {},
   "outputs": [
    {
     "data": {
      "text/plain": [
       "torch.Size([3, 80, 2])"
      ]
     },
     "execution_count": 4,
     "metadata": {},
     "output_type": "execute_result"
    }
   ],
   "source": [
    "first_img = torch.rand(3, 3, 224, 224).to(device)\n",
    "previous_img = torch.rand(3, 3, 224, 224).to(device)\n",
    "current_img = torch.rand(3, 3, 224, 224).to(device)\n",
    "boundary = torch.randint(0, 224, (3, boundary_num, 2)).to(device)\n",
    "boundary.shape"
   ]
  },
  {
   "cell_type": "code",
   "execution_count": 7,
   "metadata": {},
   "outputs": [
    {
     "data": {
      "text/plain": [
       "torch.Size([3, 1024, 224, 224])"
      ]
     },
     "execution_count": 7,
     "metadata": {},
     "output_type": "execute_result"
    }
   ],
   "source": [
    "first_img_feature = res50_bone(first_img)\n",
    "first_img_feature = F.interpolate(\n",
    "    first_img_feature,\n",
    "    size=(224, 224),\n",
    "    mode=\"bilinear\",\n",
    ")\n",
    "pre_img_feature = res50_bone(previous_img)\n",
    "pre_img_feature = F.interpolate(\n",
    "    pre_img_feature,\n",
    "    size=(224, 224),\n",
    "    mode=\"bilinear\",\n",
    ")\n",
    "cur_img_feature = res50_bone(current_img)\n",
    "cur_img_feature = F.interpolate(\n",
    "    cur_img_feature,\n",
    "    size=(224, 224),\n",
    "    mode=\"bilinear\",\n",
    ")\n",
    "first_img_feature.shape"
   ]
  },
  {
   "cell_type": "code",
   "execution_count": 15,
   "metadata": {},
   "outputs": [
    {
     "data": {
      "text/plain": [
       "torch.Size([3, 18432, 80])"
      ]
     },
     "execution_count": 15,
     "metadata": {},
     "output_type": "execute_result"
    }
   ],
   "source": [
    "def get_neighbor_features(\n",
    "    img_features: torch.Tensor, \n",
    "    boundary: torch.Tensor,\n",
    "    scale_level: int\n",
    "): \n",
    "    device = img_features.device\n",
    "    if scale_level > 0:\n",
    "        img_features = F.avg_pool2d(\n",
    "            img_features, \n",
    "            2 ** scale_level,\n",
    "            2 ** scale_level,\n",
    "        )\n",
    "        boundary = boundary // (2 ** scale_level)\n",
    "    img_features = F.pad(img_features, (1, 1, 1, 1), \"constant\", 0)\n",
    "    neighor_features = []\n",
    "    for x_offset in range(-1, 2):\n",
    "        for y_offset in range(-1, 2):\n",
    "            neighor_features.append(\n",
    "                get_bou_features(\n",
    "                    img_features,\n",
    "                    boundary + torch.tensor([x_offset, y_offset]).to(device),\n",
    "                )\n",
    "            )\n",
    "    return torch.cat(neighor_features, dim=1)\n",
    "def get_neighbor_features_with_scales(\n",
    "    img_features: torch.Tensor, \n",
    "    boundary: torch.Tensor,\n",
    "    scale_levels: list[int]\n",
    "):\n",
    "    neighbor_features = get_neighbor_features(img_features, boundary, scale_levels[0])\n",
    "    for scale_level in scale_levels[1:]:\n",
    "        neighbor_features = torch.cat(\n",
    "            (\n",
    "                neighbor_features,\n",
    "                get_neighbor_features(img_features, boundary, scale_level),\n",
    "            ),\n",
    "            dim=1,\n",
    "        )\n",
    "    return neighbor_features\n",
    "get_neighbor_features_with_scales(first_img_feature, boundary, [0, 2]).shape"
   ]
  },
  {
   "cell_type": "code",
   "execution_count": 39,
   "metadata": {},
   "outputs": [
    {
     "data": {
      "text/plain": [
       "torch.Size([3, 80, 1024])"
      ]
     },
     "execution_count": 39,
     "metadata": {},
     "output_type": "execute_result"
    }
   ],
   "source": [
    "first_query = get_bou_features(first_img_feature, boundary)\n",
    "first_query = first_query.permute(0, 2, 1)\n",
    "pre_query = get_bou_features(pre_img_feature, boundary)\n",
    "pre_query = pre_query.permute(0, 2, 1)\n",
    "first_query.shape\n"
   ]
  },
  {
   "cell_type": "code",
   "execution_count": 41,
   "metadata": {},
   "outputs": [
    {
     "name": "stdout",
     "output_type": "stream",
     "text": [
      "tensor(98915.5312, grad_fn=<SumBackward0>)\n",
      "tensor(98915.5312, grad_fn=<SumBackward0>)\n",
      "tensor(90949.9922, grad_fn=<SumBackward0>)\n",
      "tensor(90598.2734, grad_fn=<SumBackward0>)\n",
      "tensor(90960.5625, grad_fn=<SumBackward0>)\n",
      "tensor(90725.2656, grad_fn=<SumBackward0>)\n",
      "tensor(90631.5469, grad_fn=<SumBackward0>)\n",
      "tensor(90929.3281, grad_fn=<SumBackward0>)\n",
      "tensor(91280.0703, grad_fn=<SumBackward0>)\n",
      "tensor(90991.5234, grad_fn=<SumBackward0>)\n",
      "tensor(91189.1953, grad_fn=<SumBackward0>)\n",
      "tensor(90458.0156, grad_fn=<SumBackward0>)\n",
      "tensor(90843.2188, grad_fn=<SumBackward0>)\n",
      "tensor(90949.4531, grad_fn=<SumBackward0>)\n",
      "tensor(91146.4219, grad_fn=<SumBackward0>)\n",
      "tensor(90479.8516, grad_fn=<SumBackward0>)\n",
      "tensor(90386.1484, grad_fn=<SumBackward0>)\n",
      "tensor(91073.7031, grad_fn=<SumBackward0>)\n",
      "tensor(90640.0312, grad_fn=<SumBackward0>)\n",
      "tensor(91199.4062, grad_fn=<SumBackward0>)\n",
      "tensor(90161.0078, grad_fn=<SumBackward0>)\n",
      "tensor(91157.1016, grad_fn=<SumBackward0>)\n",
      "tensor(90881.9062, grad_fn=<SumBackward0>)\n",
      "tensor(91196.6406, grad_fn=<SumBackward0>)\n",
      "tensor(90550.5938, grad_fn=<SumBackward0>)\n",
      "tensor(90540.7109, grad_fn=<SumBackward0>)\n",
      "tensor(90562.4844, grad_fn=<SumBackward0>)\n",
      "tensor(90940.2500, grad_fn=<SumBackward0>)\n",
      "tensor(90900.7422, grad_fn=<SumBackward0>)\n",
      "tensor(90908.5312, grad_fn=<SumBackward0>)\n",
      "tensor(90345.2812, grad_fn=<SumBackward0>)\n",
      "tensor(90117.3516, grad_fn=<SumBackward0>)\n",
      "tensor(90741.4688, grad_fn=<SumBackward0>)\n",
      "tensor(90903.4141, grad_fn=<SumBackward0>)\n",
      "tensor(90495.4219, grad_fn=<SumBackward0>)\n",
      "tensor(91684.0703, grad_fn=<SumBackward0>)\n",
      "tensor(90702.6797, grad_fn=<SumBackward0>)\n",
      "tensor(91064.9688, grad_fn=<SumBackward0>)\n",
      "tensor(90558.3828, grad_fn=<SumBackward0>)\n",
      "tensor(90516.2656, grad_fn=<SumBackward0>)\n",
      "tensor(91690.7422, grad_fn=<SumBackward0>)\n",
      "tensor(90636.0078, grad_fn=<SumBackward0>)\n",
      "tensor(91351.7812, grad_fn=<SumBackward0>)\n",
      "tensor(91423.9609, grad_fn=<SumBackward0>)\n",
      "tensor(90809.3281, grad_fn=<SumBackward0>)\n",
      "tensor(91526.1797, grad_fn=<SumBackward0>)\n",
      "tensor(90765.9375, grad_fn=<SumBackward0>)\n",
      "tensor(91179.4375, grad_fn=<SumBackward0>)\n",
      "tensor(90587.5703, grad_fn=<SumBackward0>)\n",
      "tensor(90471.9844, grad_fn=<SumBackward0>)\n",
      "tensor(91100.6328, grad_fn=<SumBackward0>)\n",
      "tensor(90785.9062, grad_fn=<SumBackward0>)\n",
      "tensor(91163.8594, grad_fn=<SumBackward0>)\n",
      "tensor(91602.6406, grad_fn=<SumBackward0>)\n",
      "tensor(90559.7656, grad_fn=<SumBackward0>)\n",
      "tensor(90456.9062, grad_fn=<SumBackward0>)\n",
      "tensor(90624.8828, grad_fn=<SumBackward0>)\n",
      "tensor(91396.3047, grad_fn=<SumBackward0>)\n",
      "tensor(91033.8594, grad_fn=<SumBackward0>)\n",
      "tensor(90778.2422, grad_fn=<SumBackward0>)\n",
      "tensor(90697.0312, grad_fn=<SumBackward0>)\n",
      "tensor(90430.8828, grad_fn=<SumBackward0>)\n",
      "tensor(90857.7969, grad_fn=<SumBackward0>)\n",
      "tensor(90965.0078, grad_fn=<SumBackward0>)\n",
      "tensor(90778.2578, grad_fn=<SumBackward0>)\n",
      "tensor(91174.3906, grad_fn=<SumBackward0>)\n",
      "tensor(90149.6484, grad_fn=<SumBackward0>)\n",
      "tensor(90990.2344, grad_fn=<SumBackward0>)\n",
      "tensor(91160.4766, grad_fn=<SumBackward0>)\n",
      "tensor(90664.7500, grad_fn=<SumBackward0>)\n",
      "tensor(90687.3750, grad_fn=<SumBackward0>)\n",
      "tensor(91108.8672, grad_fn=<SumBackward0>)\n",
      "tensor(90837.3984, grad_fn=<SumBackward0>)\n",
      "tensor(90976.4766, grad_fn=<SumBackward0>)\n",
      "tensor(91086.8047, grad_fn=<SumBackward0>)\n",
      "tensor(91010.6406, grad_fn=<SumBackward0>)\n",
      "tensor(90727.6875, grad_fn=<SumBackward0>)\n",
      "tensor(90875.3594, grad_fn=<SumBackward0>)\n",
      "tensor(90352.5625, grad_fn=<SumBackward0>)\n",
      "tensor(90715.4531, grad_fn=<SumBackward0>)\n",
      "tensor(90876.9531, grad_fn=<SumBackward0>)\n",
      "tensor(98915.5312, grad_fn=<SumBackward0>) 0\n"
     ]
    }
   ],
   "source": [
    "def get_best_match(feature0: torch.Tensor, feature1: torch.Tensor):\n",
    "    best_shift = 0\n",
    "    best_similarity = (feature0 * feature1).sum() \n",
    "    for shift in range(feature0.shape[1]):\n",
    "        similarity = (feature0 * feature1.roll(shift, dims=1)).sum()\n",
    "        if similarity > best_similarity:\n",
    "            best_similarity = similarity\n",
    "            best_shift = shift\n",
    "    return feature0, feature1.roll(best_shift, dims=1)\n",
    "    \n",
    "get_best_match(first_query, pre_query)"
   ]
  },
  {
   "cell_type": "code",
   "execution_count": 11,
   "metadata": {},
   "outputs": [
    {
     "data": {
      "text/plain": [
       "torch.Size([3, 1024, 80])"
      ]
     },
     "execution_count": 11,
     "metadata": {},
     "output_type": "execute_result"
    }
   ],
   "source": [
    "raw_query_features = get_bou_features(pre_img_feature, boundary)\n",
    "raw_query_features.shape"
   ]
  },
  {
   "cell_type": "code",
   "execution_count": 12,
   "metadata": {},
   "outputs": [
    {
     "data": {
      "text/plain": [
       "torch.Size([3, 80, 1026])"
      ]
     },
     "execution_count": 12,
     "metadata": {},
     "output_type": "execute_result"
    }
   ],
   "source": [
    "query_features = query_encoder(raw_query_features.permute(0, 2, 1))\n",
    "query_features.shape"
   ]
  },
  {
   "cell_type": "code",
   "execution_count": 14,
   "metadata": {},
   "outputs": [
    {
     "data": {
      "text/plain": [
       "torch.Size([3, 80, 1024])"
      ]
     },
     "execution_count": 14,
     "metadata": {},
     "output_type": "execute_result"
    }
   ],
   "source": [
    "boundary_features = get_bou_features(cur_img_feature, boundary)\n",
    "boundary_features = boundary_features.permute(0, 2, 1)\n",
    "boundary_features.shape"
   ]
  },
  {
   "cell_type": "code",
   "execution_count": 15,
   "metadata": {},
   "outputs": [
    {
     "data": {
      "text/plain": [
       "torch.Size([3, 80, 1026])"
      ]
     },
     "execution_count": 15,
     "metadata": {},
     "output_type": "execute_result"
    }
   ],
   "source": [
    "boundary_tokens = torch.cat([boundary_features, boundary], dim=2)\n",
    "boundary_tokens.shape"
   ]
  },
  {
   "cell_type": "code",
   "execution_count": 16,
   "metadata": {},
   "outputs": [
    {
     "data": {
      "text/plain": [
       "torch.Size([3, 160, 1026])"
      ]
     },
     "execution_count": 16,
     "metadata": {},
     "output_type": "execute_result"
    }
   ],
   "source": [
    "tokens = torch.cat([query_features, boundary_tokens], dim=1)\n",
    "tokens.shape"
   ]
  },
  {
   "cell_type": "code",
   "execution_count": 17,
   "metadata": {},
   "outputs": [],
   "source": [
    "tokens = layernorm(tokens)\n",
    "tokens = positional_encoding(tokens)"
   ]
  },
  {
   "cell_type": "code",
   "execution_count": 18,
   "metadata": {},
   "outputs": [
    {
     "data": {
      "text/plain": [
       "torch.Size([3, 160, 1026])"
      ]
     },
     "execution_count": 18,
     "metadata": {},
     "output_type": "execute_result"
    }
   ],
   "source": [
    "out_tokens = tranformer_encoder(tokens)\n",
    "out_tokens.shape"
   ]
  },
  {
   "cell_type": "code",
   "execution_count": 23,
   "metadata": {},
   "outputs": [
    {
     "data": {
      "text/plain": [
       "torch.Size([3, 80, 1026])"
      ]
     },
     "execution_count": 23,
     "metadata": {},
     "output_type": "execute_result"
    }
   ],
   "source": [
    "query_offsets = tokens[:, :boundary_num, :]\n",
    "query_offsets = q_offset_encoder(query_offsets)\n",
    "query_offsets.shape"
   ]
  },
  {
   "cell_type": "code",
   "execution_count": 14,
   "metadata": {},
   "outputs": [
    {
     "ename": "NameError",
     "evalue": "name 'tokens' is not defined",
     "output_type": "error",
     "traceback": [
      "\u001b[0;31m---------------------------------------------------------------------------\u001b[0m",
      "\u001b[0;31mNameError\u001b[0m                                 Traceback (most recent call last)",
      "Cell \u001b[0;32mIn[14], line 1\u001b[0m\n\u001b[0;32m----> 1\u001b[0m xy_offsets \u001b[38;5;241m=\u001b[39m \u001b[43mtokens\u001b[49m[:, boundary_num:, :]\n\u001b[1;32m      2\u001b[0m xy_offsets \u001b[38;5;241m=\u001b[39m xy_offset_encoder(xy_offsets)\n\u001b[1;32m      3\u001b[0m xy_offsets\n",
      "\u001b[0;31mNameError\u001b[0m: name 'tokens' is not defined"
     ]
    }
   ],
   "source": [
    "xy_offsets = tokens[:, boundary_num:, :]\n",
    "xy_offsets = xy_offset_encoder(xy_offsets)\n",
    "xy_offsets"
   ]
  }
 ],
 "metadata": {
  "kernelspec": {
   "display_name": "Python 3 (ipykernel)",
   "language": "python",
   "name": "python3"
  },
  "language_info": {
   "codemirror_mode": {
    "name": "ipython",
    "version": 3
   },
   "file_extension": ".py",
   "mimetype": "text/x-python",
   "name": "python",
   "nbconvert_exporter": "python",
   "pygments_lexer": "ipython3",
   "version": "3.12.2"
  }
 },
 "nbformat": 4,
 "nbformat_minor": 2
}
