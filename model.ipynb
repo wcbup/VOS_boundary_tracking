{
 "cells": [
  {
   "cell_type": "code",
   "execution_count": 2,
   "metadata": {},
   "outputs": [],
   "source": [
    "import torch\n",
    "import torch.nn as nn\n",
    "import torch.nn.functional as F\n",
    "from torchvision.models import resnet50, ResNet50_Weights\n",
    "from torchsummary import summary\n",
    "import numpy as np\n",
    "from model import PositionalEncoding\n",
    "from model import IterWholeFirst\n",
    "from einops import rearrange"
   ]
  },
  {
   "cell_type": "code",
   "execution_count": null,
   "metadata": {},
   "outputs": [
    {
     "name": "stdout",
     "output_type": "stream",
     "text": [
      "Wed Mar 27 16:54:55 2024       \n",
      "+-----------------------------------------------------------------------------------------+\n",
      "| NVIDIA-SMI 550.54.14              Driver Version: 550.54.14      CUDA Version: 12.4     |\n",
      "|-----------------------------------------+------------------------+----------------------+\n",
      "| GPU  Name                 Persistence-M | Bus-Id          Disp.A | Volatile Uncorr. ECC |\n",
      "| Fan  Temp   Perf          Pwr:Usage/Cap |           Memory-Usage | GPU-Util  Compute M. |\n",
      "|                                         |                        |               MIG M. |\n",
      "|=========================================+========================+======================|\n",
      "|   0  NVIDIA A100-PCIE-40GB          On  |   00000000:37:00.0 Off |                    0 |\n",
      "| N/A   72C    P0             52W /  250W |    6292MiB /  40960MiB |     41%      Default |\n",
      "|                                         |                        |             Disabled |\n",
      "+-----------------------------------------+------------------------+----------------------+\n",
      "|   1  NVIDIA A100-PCIE-40GB          On  |   00000000:86:00.0 Off |                    0 |\n",
      "| N/A   55C    P0             63W /  250W |   39946MiB /  40960MiB |     39%      Default |\n",
      "|                                         |                        |             Disabled |\n",
      "+-----------------------------------------+------------------------+----------------------+\n",
      "                                                                                         \n",
      "+-----------------------------------------------------------------------------------------+\n",
      "| Processes:                                                                              |\n",
      "|  GPU   GI   CI        PID   Type   Process name                              GPU Memory |\n",
      "|        ID   ID                                                               Usage      |\n",
      "|=========================================================================================|\n",
      "|    0   N/A  N/A     12836      C   ...2248/miniconda3/envs/vos/bin/python       2452MiB |\n",
      "|    0   N/A  N/A     14555      C   ...numal/solvers/maxwell/./maxwellMain        598MiB |\n",
      "|    0   N/A  N/A     30163      C   ...bc/9/147444/ADLCV/.venv/bin/python3       3218MiB |\n",
      "|    1   N/A  N/A      1384      C   python                                       1128MiB |\n",
      "|    1   N/A  N/A     29358      C   ...da3/envs/proteinworkshop/bin/python      38804MiB |\n",
      "+-----------------------------------------------------------------------------------------+\n"
     ]
    }
   ],
   "source": [
    "!nvidia-smi"
   ]
  },
  {
   "cell_type": "code",
   "execution_count": 3,
   "metadata": {},
   "outputs": [],
   "source": [
    "def get_bou_features(\n",
    "    img_features: torch.Tensor, boundary: torch.Tensor\n",
    ") -> torch.Tensor:\n",
    "    bou_features = img_features[\n",
    "        0, :, boundary[0, :, 0], boundary[0, :, 1]\n",
    "    ].unsqueeze(0)\n",
    "    for i in range(1, boundary.shape[0]):\n",
    "        bou_features = torch.cat(\n",
    "            (\n",
    "                bou_features,\n",
    "                img_features[\n",
    "                    i,\n",
    "                    :,\n",
    "                    boundary[i, :, 0],\n",
    "                    boundary[i, :, 1],\n",
    "                ].unsqueeze(0),\n",
    "            ),\n",
    "            dim=0,\n",
    "        )\n",
    "    return bou_features"
   ]
  },
  {
   "cell_type": "code",
   "execution_count": 4,
   "metadata": {},
   "outputs": [],
   "source": [
    "# d_token = 1024 + 2\n",
    "boundary_num = 80\n",
    "device = \"cpu\"\n",
    "res50 = resnet50(weights=ResNet50_Weights.IMAGENET1K_V2).to(device)\n",
    "res50_bone = nn.Sequential(*list(res50.children())[:-3]).to(device)\n",
    "# positional_encoding = PositionalEncoding(d_token).to(device)\n",
    "# layernorm = nn.LayerNorm(d_token).to(device)\n",
    "# query_encoder = nn.Linear(1024, d_token).to(device)\n",
    "# tranformer_encoder = nn.TransformerEncoder(\n",
    "#     nn.TransformerEncoderLayer(\n",
    "#         d_model=d_token,\n",
    "#         nhead=1,\n",
    "#         batch_first=True,\n",
    "#     ),\n",
    "#     num_layers=1,\n",
    "# ).to(device)\n",
    "# xy_offset_encoder = nn.Linear(d_token, 2).to(device)\n",
    "# q_offset_encoder = nn.Linear(d_token, d_token).to(device)\n",
    "# xy_fc_list = nn.ModuleList()\n",
    "# for i in range(boundary_num):\n",
    "#     xy_fc_list.append(nn.Linear(d_token, 2))\n",
    "# xy_fc_list = xy_fc_list.to(device)\n",
    "# q_fc_list = nn.ModuleList()\n",
    "# for i in range(boundary_num):\n",
    "#     q_fc_list.append(nn.Linear(d_token, d_token))\n",
    "# q_fc_list = q_fc_list.to(device)"
   ]
  },
  {
   "cell_type": "code",
   "execution_count": 5,
   "metadata": {},
   "outputs": [
    {
     "data": {
      "text/plain": [
       "torch.Size([3, 80, 2])"
      ]
     },
     "execution_count": 5,
     "metadata": {},
     "output_type": "execute_result"
    }
   ],
   "source": [
    "first_img = torch.rand(3, 3, 224, 224).to(device)\n",
    "previous_img = torch.rand(3, 3, 224, 224).to(device)\n",
    "current_img = torch.rand(3, 3, 224, 224).to(device)\n",
    "boundary = torch.randint(0, 224, (3, boundary_num, 2)).to(device)\n",
    "boundary.shape"
   ]
  },
  {
   "cell_type": "code",
   "execution_count": 6,
   "metadata": {},
   "outputs": [
    {
     "name": "stderr",
     "output_type": "stream",
     "text": [
      "/work3/s232248/miniconda3/envs/vos/lib/python3.12/site-packages/torch/nn/modules/transformer.py:286: UserWarning: enable_nested_tensor is True, but self.use_nested_tensor is False because encoder_layer.self_attn.num_heads is odd\n",
      "  warnings.warn(f\"enable_nested_tensor is True, but self.use_nested_tensor is False because {why_not_sparsity_fast_path}\")\n"
     ]
    }
   ],
   "source": [
    "model = IterWholeFirst().to(device)"
   ]
  },
  {
   "cell_type": "code",
   "execution_count": 7,
   "metadata": {},
   "outputs": [],
   "source": [
    "results = model(first_img, boundary, previous_img, current_img, boundary)"
   ]
  },
  {
   "cell_type": "code",
   "execution_count": 10,
   "metadata": {},
   "outputs": [
    {
     "data": {
      "text/plain": [
       "tensor([[[130.4797, 191.0574],\n",
       "         [161.6322, 158.2220],\n",
       "         [145.7857, 189.4569],\n",
       "         [170.2605, 193.2951],\n",
       "         [ 75.3251,  31.8068],\n",
       "         [ 18.4579, 110.3946],\n",
       "         [154.8464, 139.4939],\n",
       "         [ 22.3860,  18.7947],\n",
       "         [ 11.4940, 190.8053],\n",
       "         [115.0102, 154.6012],\n",
       "         [ 71.9993, 113.2662],\n",
       "         [189.5724,  74.9288],\n",
       "         [ 68.1359, 159.6849],\n",
       "         [181.2843, 188.8488],\n",
       "         [ 17.0764, 148.3464],\n",
       "         [ 87.3098, 213.4927],\n",
       "         [ 55.7237,  84.6324],\n",
       "         [151.3841,  71.6761],\n",
       "         [195.9201, 195.6890],\n",
       "         [ 66.1139, 138.8161],\n",
       "         [ 18.9727,  86.6040],\n",
       "         [198.9832,  63.9012],\n",
       "         [ 11.1663,   9.9286],\n",
       "         [ 94.4773,  69.6717],\n",
       "         [ 39.0036, 175.2150],\n",
       "         [ 21.1557,  86.4453],\n",
       "         [145.7757, 179.1276],\n",
       "         [197.4244, 116.1312],\n",
       "         [129.1742, 156.1103],\n",
       "         [ 99.3264,   2.2290],\n",
       "         [  7.9737,   1.8038],\n",
       "         [ 96.6734,  81.3792],\n",
       "         [138.9081, 165.2473],\n",
       "         [146.1679, 138.6972],\n",
       "         [ 38.0851,  42.1987],\n",
       "         [ 12.5373,  67.3348],\n",
       "         [ 77.3243, 169.8216],\n",
       "         [190.9007,   7.8023],\n",
       "         [ 85.9175,  64.7721],\n",
       "         [143.2956, 182.6799],\n",
       "         [217.9824, 118.6673],\n",
       "         [177.8447,  23.8676],\n",
       "         [201.0914,  15.9032],\n",
       "         [203.5052,  70.4124],\n",
       "         [ 78.6227, 166.2827],\n",
       "         [ 76.7559, 125.1529],\n",
       "         [188.5982, 108.4940],\n",
       "         [155.6218, 216.1450],\n",
       "         [116.9322, 186.3034],\n",
       "         [112.7344, 136.9053],\n",
       "         [131.3181,  43.3546],\n",
       "         [182.2841, 108.4316],\n",
       "         [117.5579, 119.5475],\n",
       "         [141.6790, 114.4381],\n",
       "         [157.2620,  32.9779],\n",
       "         [135.9934,  32.6955],\n",
       "         [ 37.5439,  48.9133],\n",
       "         [220.1964,  64.6800],\n",
       "         [ 11.2474,   7.1651],\n",
       "         [ 48.8953,  85.6101],\n",
       "         [102.6449, 192.6455],\n",
       "         [183.1847,  59.6908],\n",
       "         [ 47.8242, 199.4559],\n",
       "         [  1.7093, 210.5579],\n",
       "         [ 89.1346,  89.5872],\n",
       "         [212.2342, 116.8810],\n",
       "         [  9.8191, 165.6886],\n",
       "         [ 87.5906, 123.4654],\n",
       "         [126.1984, 120.5269],\n",
       "         [187.2128, 143.3635],\n",
       "         [ 72.2931, 144.1426],\n",
       "         [ 54.4772, 205.3654],\n",
       "         [100.4691, 108.1508],\n",
       "         [105.4462, 178.2840],\n",
       "         [ 70.1249,   7.8592],\n",
       "         [166.7558,  13.7502],\n",
       "         [ 92.9709,  47.5266],\n",
       "         [196.1594,  77.3393],\n",
       "         [132.4906, 116.2519],\n",
       "         [150.8868,   1.3773]],\n",
       "\n",
       "        [[131.6727, 202.1568],\n",
       "         [196.1266, 100.8619],\n",
       "         [125.3540,  98.5668],\n",
       "         [ 35.9371, 181.7553],\n",
       "         [117.3543,  39.6786],\n",
       "         [170.4004, 110.6209],\n",
       "         [199.4457,  32.8070],\n",
       "         [ 52.6919,  70.7878],\n",
       "         [185.8794, 178.5321],\n",
       "         [151.4510,  33.8710],\n",
       "         [181.9292, 214.5840],\n",
       "         [ 55.8675, 140.7344],\n",
       "         [191.7830, 106.8224],\n",
       "         [179.3798,  10.7916],\n",
       "         [124.3909,  62.9154],\n",
       "         [ 50.6331,  51.4729],\n",
       "         [218.1835,  49.9882],\n",
       "         [ 94.4961, 196.3653],\n",
       "         [105.7182, 201.7030],\n",
       "         [104.2617,  35.9940],\n",
       "         [ 11.0943, 212.5262],\n",
       "         [191.0030,  31.0798],\n",
       "         [126.3754, 100.7295],\n",
       "         [ 40.8265, 120.5868],\n",
       "         [ 47.2710, 217.5187],\n",
       "         [101.6446, 168.3439],\n",
       "         [  2.0143, 159.2583],\n",
       "         [205.2951,   8.9111],\n",
       "         [158.1011, 163.5016],\n",
       "         [ 83.9571, 187.3676],\n",
       "         [114.4938,  93.4983],\n",
       "         [144.4763, 101.6669],\n",
       "         [ 98.8420, 162.6027],\n",
       "         [213.2080,  25.5987],\n",
       "         [204.1917, 113.6072],\n",
       "         [133.2481,  55.6827],\n",
       "         [ 26.4264,  49.6649],\n",
       "         [148.8541,  71.8531],\n",
       "         [109.2748, 178.5150],\n",
       "         [157.0981,  77.6589],\n",
       "         [ 37.6576, 112.5515],\n",
       "         [136.7375, 203.9664],\n",
       "         [129.7166, 189.0297],\n",
       "         [157.7026, 204.4207],\n",
       "         [209.3433,  46.3229],\n",
       "         [155.6270, 131.2220],\n",
       "         [196.5294, 193.4555],\n",
       "         [ 82.3582,  88.2619],\n",
       "         [108.7000, 205.5432],\n",
       "         [190.6495,  86.5036],\n",
       "         [209.0804,  23.7385],\n",
       "         [101.6028,  70.6787],\n",
       "         [150.6337, 189.6589],\n",
       "         [ 74.5937, 123.8939],\n",
       "         [175.4528,  63.7929],\n",
       "         [ 71.2787,  43.9890],\n",
       "         [ 72.7410, 125.7761],\n",
       "         [121.5903, 110.6653],\n",
       "         [172.3625,  67.0603],\n",
       "         [188.3027,   2.8207],\n",
       "         [116.8135, 150.5999],\n",
       "         [173.2936,  42.0305],\n",
       "         [187.0755,  71.7685],\n",
       "         [ 75.7352,   2.1849],\n",
       "         [ 23.5701,  86.9220],\n",
       "         [ 97.6501, 210.9140],\n",
       "         [178.3810, 126.7345],\n",
       "         [ 79.1386,  61.6078],\n",
       "         [145.0340,  26.1583],\n",
       "         [ 82.0763,  82.4110],\n",
       "         [ 39.9967,  32.6142],\n",
       "         [ 45.9115,  38.3550],\n",
       "         [164.4623,   6.4784],\n",
       "         [157.7936,   5.0853],\n",
       "         [154.0328,  39.6982],\n",
       "         [148.5186, 150.5247],\n",
       "         [ 64.5816, 186.4000],\n",
       "         [120.9648,  68.3466],\n",
       "         [ 73.4283, 145.2630],\n",
       "         [164.5860, 140.2785]],\n",
       "\n",
       "        [[207.9715,  52.6398],\n",
       "         [120.3245, 138.5399],\n",
       "         [173.1936,  24.9397],\n",
       "         [ 31.2788,   3.5119],\n",
       "         [111.4251, 119.6674],\n",
       "         [ 92.8168, 189.7675],\n",
       "         [123.6690,  31.6941],\n",
       "         [ 60.4005,  16.7510],\n",
       "         [ 61.0559, 127.6706],\n",
       "         [ 29.9485, 148.2979],\n",
       "         [ 92.9409,  85.4972],\n",
       "         [ 49.8149,  77.6005],\n",
       "         [171.8469, 137.6821],\n",
       "         [ 78.9190,  96.2815],\n",
       "         [ 95.8116,  98.3951],\n",
       "         [ 75.7606,  59.5275],\n",
       "         [120.3136,  86.5412],\n",
       "         [ 72.8905, 180.4895],\n",
       "         [178.2511,  47.6092],\n",
       "         [138.9555,  52.1853],\n",
       "         [176.0001, 131.1657],\n",
       "         [ 47.7512, 109.5490],\n",
       "         [167.4779,  61.9103],\n",
       "         [ 94.7996, 185.7962],\n",
       "         [153.8133, 219.6514],\n",
       "         [ 47.7209,  78.3027],\n",
       "         [114.7030, 196.4609],\n",
       "         [ 86.8461,  77.6367],\n",
       "         [ 81.0619, 105.0769],\n",
       "         [191.7285, 101.7597],\n",
       "         [ 42.9026,  80.7364],\n",
       "         [ 34.1034, 110.4437],\n",
       "         [223.0000, 165.8471],\n",
       "         [179.9775, 221.3094],\n",
       "         [191.0989, 129.2371],\n",
       "         [ 47.5710,  38.8027],\n",
       "         [133.8794, 132.9762],\n",
       "         [ 38.6249, 184.4582],\n",
       "         [188.8254,  15.0298],\n",
       "         [152.5995,  36.3782],\n",
       "         [116.2630,  52.8260],\n",
       "         [142.8896,  36.7381],\n",
       "         [ 79.9614,  21.8727],\n",
       "         [ 79.5049,  38.5716],\n",
       "         [190.3725, 106.3898],\n",
       "         [187.5201, 154.2290],\n",
       "         [ 25.7453,  92.6099],\n",
       "         [102.8310, 194.2258],\n",
       "         [163.5457, 125.3622],\n",
       "         [120.0032, 177.5624],\n",
       "         [ 73.7795,  81.4061],\n",
       "         [194.5528, 175.5277],\n",
       "         [ 85.6007,  52.9781],\n",
       "         [ 54.7804,  47.7477],\n",
       "         [122.6548,  76.1118],\n",
       "         [160.9485,   8.8360],\n",
       "         [113.0459, 205.8857],\n",
       "         [150.1039,  19.9306],\n",
       "         [109.8179, 154.2684],\n",
       "         [103.0030,  97.6363],\n",
       "         [ 71.4904, 107.3161],\n",
       "         [ 57.1110,  37.4298],\n",
       "         [ 40.9711, 124.5350],\n",
       "         [162.4342, 152.4999],\n",
       "         [ 75.3969, 116.8288],\n",
       "         [ 79.6695, 198.8249],\n",
       "         [ 69.3393,  98.9857],\n",
       "         [186.4013, 132.8675],\n",
       "         [ 25.5485,  35.5442],\n",
       "         [119.0839,  49.2902],\n",
       "         [170.3225, 142.3279],\n",
       "         [ 36.5165, 195.6708],\n",
       "         [ 54.7277, 157.9772],\n",
       "         [132.8080,  43.7329],\n",
       "         [ 75.2240, 114.4924],\n",
       "         [ 97.5736, 128.4952],\n",
       "         [142.1288,  38.6433],\n",
       "         [ 60.3827,  57.6861],\n",
       "         [189.9094,  10.2952],\n",
       "         [102.5655,  81.4096]]], grad_fn=<ClampBackward1>)"
      ]
     },
     "execution_count": 10,
     "metadata": {},
     "output_type": "execute_result"
    }
   ],
   "source": [
    "results[0]"
   ]
  },
  {
   "cell_type": "code",
   "execution_count": 40,
   "metadata": {},
   "outputs": [
    {
     "data": {
      "text/plain": [
       "(torch.Size([3, 1024, 224, 224]), torch.Size([3, 1024, 14, 14]))"
      ]
     },
     "execution_count": 40,
     "metadata": {},
     "output_type": "execute_result"
    }
   ],
   "source": [
    "first_img_raw_feature = res50_bone(first_img)\n",
    "first_img_feature = F.interpolate(\n",
    "    first_img_raw_feature,\n",
    "    size=(224, 224),\n",
    "    mode=\"bilinear\",\n",
    ")\n",
    "pre_img_raw_feature = res50_bone(previous_img)\n",
    "pre_img_feature = F.interpolate(\n",
    "    pre_img_raw_feature,\n",
    "    size=(224, 224),\n",
    "    mode=\"bilinear\",\n",
    ")\n",
    "cur_img_raw_feature = res50_bone(current_img)\n",
    "cur_img_feature = F.interpolate(\n",
    "    cur_img_raw_feature,\n",
    "    size=(224, 224),\n",
    "    mode=\"bilinear\",\n",
    ")\n",
    "first_img_feature.shape, first_img_raw_feature.shape"
   ]
  },
  {
   "cell_type": "code",
   "execution_count": 41,
   "metadata": {},
   "outputs": [
    {
     "data": {
      "text/plain": [
       "torch.Size([3, 196, 1024])"
      ]
     },
     "execution_count": 41,
     "metadata": {},
     "output_type": "execute_result"
    }
   ],
   "source": [
    "def get_img_tokens(img_features: torch.Tensor) -> torch.Tensor:\n",
    "    img_tokens = rearrange(\n",
    "        img_features,\n",
    "        \"b c h w -> b (h w) c\",\n",
    "    )\n",
    "    return img_tokens\n",
    "get_img_tokens(first_img_raw_feature).shape"
   ]
  },
  {
   "cell_type": "code",
   "execution_count": 67,
   "metadata": {},
   "outputs": [
    {
     "data": {
      "text/plain": [
       "torch.Size([3, 196, 1024])"
      ]
     },
     "execution_count": 67,
     "metadata": {},
     "output_type": "execute_result"
    }
   ],
   "source": [
    "# first_img_tokens = get_img_tokens(first_img_raw_feature)\n",
    "# pre_img_tokens = get_img_tokens(pre_img_raw_feature)\n",
    "cur_img_tokens = get_img_tokens(cur_img_raw_feature)\n",
    "cur_img_tokens.shape"
   ]
  },
  {
   "cell_type": "code",
   "execution_count": 63,
   "metadata": {},
   "outputs": [
    {
     "name": "stderr",
     "output_type": "stream",
     "text": [
      "/work3/s232248/miniconda3/envs/vos/lib/python3.12/site-packages/torch/nn/modules/transformer.py:286: UserWarning: enable_nested_tensor is True, but self.use_nested_tensor is False because encoder_layer.self_attn.num_heads is odd\n",
      "  warnings.warn(f\"enable_nested_tensor is True, but self.use_nested_tensor is False because {why_not_sparsity_fast_path}\")\n"
     ]
    }
   ],
   "source": [
    "d_token = 1024 + 2\n",
    "positional_encoding = PositionalEncoding(d_token).to(device)\n",
    "layernorm = nn.LayerNorm(d_token).to(device)\n",
    "encoder_layer = nn.TransformerEncoderLayer(\n",
    "    d_model=d_token,\n",
    "    nhead=1, \n",
    "    batch_first=True\n",
    ").to(device)\n",
    "tranformer_encoder = nn.TransformerEncoder(\n",
    "    encoder_layer,\n",
    "    num_layers=1,\n",
    ").to(device)"
   ]
  },
  {
   "cell_type": "code",
   "execution_count": 44,
   "metadata": {},
   "outputs": [],
   "source": [
    "img_token_encoder = nn.Linear(1024, d_token).to(device)"
   ]
  },
  {
   "cell_type": "code",
   "execution_count": 68,
   "metadata": {},
   "outputs": [
    {
     "data": {
      "text/plain": [
       "torch.Size([3, 196, 1026])"
      ]
     },
     "execution_count": 68,
     "metadata": {},
     "output_type": "execute_result"
    }
   ],
   "source": [
    "cur_img_tokens = img_token_encoder(cur_img_tokens)\n",
    "cur_img_tokens = layernorm(cur_img_tokens)\n",
    "cur_img_tokens = positional_encoding(cur_img_tokens)\n",
    "memory = tranformer_encoder(cur_img_tokens)\n",
    "memory.shape"
   ]
  },
  {
   "cell_type": "code",
   "execution_count": 46,
   "metadata": {},
   "outputs": [
    {
     "data": {
      "text/plain": [
       "torch.Size([3, 80, 1024])"
      ]
     },
     "execution_count": 46,
     "metadata": {},
     "output_type": "execute_result"
    }
   ],
   "source": [
    "first_query = get_bou_features(first_img_feature, boundary)\n",
    "first_query = first_query.permute(0, 2, 1)\n",
    "pre_query = get_bou_features(pre_img_feature, boundary)\n",
    "pre_query = pre_query.permute(0, 2, 1)\n",
    "first_query.shape\n"
   ]
  },
  {
   "cell_type": "code",
   "execution_count": 49,
   "metadata": {},
   "outputs": [],
   "source": [
    "query_encoder = nn.Linear(1024, d_token).to(device)"
   ]
  },
  {
   "cell_type": "code",
   "execution_count": 57,
   "metadata": {},
   "outputs": [
    {
     "data": {
      "text/plain": [
       "torch.Size([3, 80, 1026])"
      ]
     },
     "execution_count": 57,
     "metadata": {},
     "output_type": "execute_result"
    }
   ],
   "source": [
    "pre_query_tokens = query_encoder(pre_query)\n",
    "pre_query_tokens = layernorm(pre_query_tokens)\n",
    "pre_query_tokens = positional_encoding(pre_query_tokens)\n",
    "pre_query_tokens.shape"
   ]
  },
  {
   "cell_type": "code",
   "execution_count": 58,
   "metadata": {},
   "outputs": [
    {
     "data": {
      "text/plain": [
       "torch.Size([3, 80, 1026])"
      ]
     },
     "execution_count": 58,
     "metadata": {},
     "output_type": "execute_result"
    }
   ],
   "source": [
    "first_query_tokens = query_encoder(first_query)\n",
    "first_query_tokens = layernorm(first_query_tokens)\n",
    "first_query_tokens = positional_encoding(first_query_tokens)\n",
    "first_query_tokens.shape"
   ]
  },
  {
   "cell_type": "code",
   "execution_count": 59,
   "metadata": {},
   "outputs": [
    {
     "data": {
      "text/plain": [
       "torch.Size([3, 80, 1024])"
      ]
     },
     "execution_count": 59,
     "metadata": {},
     "output_type": "execute_result"
    }
   ],
   "source": [
    "boundary_features = get_bou_features(cur_img_feature, boundary)\n",
    "boundary_features = boundary_features.permute(0, 2, 1)\n",
    "boundary_features.shape"
   ]
  },
  {
   "cell_type": "code",
   "execution_count": 60,
   "metadata": {},
   "outputs": [
    {
     "data": {
      "text/plain": [
       "torch.Size([3, 80, 1026])"
      ]
     },
     "execution_count": 60,
     "metadata": {},
     "output_type": "execute_result"
    }
   ],
   "source": [
    "boundary_tokens = torch.cat([boundary_features, boundary], dim=2)\n",
    "boundary_tokens.shape"
   ]
  },
  {
   "cell_type": "code",
   "execution_count": 61,
   "metadata": {},
   "outputs": [
    {
     "data": {
      "text/plain": [
       "torch.Size([3, 80, 1026])"
      ]
     },
     "execution_count": 61,
     "metadata": {},
     "output_type": "execute_result"
    }
   ],
   "source": [
    "boundary_tokens = layernorm(boundary_tokens)\n",
    "boundary_tokens = positional_encoding(boundary_tokens)\n",
    "boundary_tokens.shape"
   ]
  },
  {
   "cell_type": "code",
   "execution_count": 62,
   "metadata": {},
   "outputs": [],
   "source": [
    "decoder_layer = nn.TransformerDecoderLayer(\n",
    "    d_model=d_token,\n",
    "    nhead=1,\n",
    "    batch_first=True,\n",
    ").to(device)\n",
    "transformer_decoder = nn.TransformerDecoder(\n",
    "    decoder_layer,\n",
    "    num_layers=1,\n",
    ").to(device)"
   ]
  },
  {
   "cell_type": "code",
   "execution_count": 69,
   "metadata": {},
   "outputs": [
    {
     "data": {
      "text/plain": [
       "torch.Size([3, 240, 1026])"
      ]
     },
     "execution_count": 69,
     "metadata": {},
     "output_type": "execute_result"
    }
   ],
   "source": [
    "input_tokens = torch.cat([\n",
    "    pre_query_tokens,\n",
    "    boundary_tokens,\n",
    "    first_query_tokens\n",
    "    ], dim=1\n",
    ")\n",
    "input_tokens.shape"
   ]
  },
  {
   "cell_type": "code",
   "execution_count": 71,
   "metadata": {},
   "outputs": [
    {
     "data": {
      "text/plain": [
       "torch.Size([3, 240, 1026])"
      ]
     },
     "execution_count": 71,
     "metadata": {},
     "output_type": "execute_result"
    }
   ],
   "source": [
    "out_tokens = transformer_decoder(input_tokens, memory)\n",
    "out_tokens.shape"
   ]
  },
  {
   "cell_type": "code",
   "execution_count": 72,
   "metadata": {},
   "outputs": [],
   "source": [
    "xy_offset_encoder = nn.Linear(d_token, 2).to(device)\n",
    "q_offset_encoder = nn.Linear(d_token, d_token).to(device)"
   ]
  },
  {
   "cell_type": "code",
   "execution_count": 73,
   "metadata": {},
   "outputs": [
    {
     "data": {
      "text/plain": [
       "torch.Size([3, 80, 1026])"
      ]
     },
     "execution_count": 73,
     "metadata": {},
     "output_type": "execute_result"
    }
   ],
   "source": [
    "q_offset = q_offset_encoder(out_tokens[:, :boundary_num, :])\n",
    "q_offset.shape"
   ]
  },
  {
   "cell_type": "code",
   "execution_count": 74,
   "metadata": {},
   "outputs": [
    {
     "data": {
      "text/plain": [
       "torch.Size([3, 80, 2])"
      ]
     },
     "execution_count": 74,
     "metadata": {},
     "output_type": "execute_result"
    }
   ],
   "source": [
    "xy_offset = xy_offset_encoder(out_tokens[:, boundary_num:2*boundary_num, :])\n",
    "xy_offset.shape"
   ]
  },
  {
   "cell_type": "code",
   "execution_count": 75,
   "metadata": {},
   "outputs": [
    {
     "data": {
      "text/plain": [
       "torch.Size([3, 80, 2])"
      ]
     },
     "execution_count": 75,
     "metadata": {},
     "output_type": "execute_result"
    }
   ],
   "source": [
    "(boundary + xy_offset).shape"
   ]
  },
  {
   "cell_type": "code",
   "execution_count": null,
   "metadata": {},
   "outputs": [],
   "source": []
  }
 ],
 "metadata": {
  "kernelspec": {
   "display_name": "Python 3 (ipykernel)",
   "language": "python",
   "name": "python3"
  },
  "language_info": {
   "codemirror_mode": {
    "name": "ipython",
    "version": 3
   },
   "file_extension": ".py",
   "mimetype": "text/x-python",
   "name": "python",
   "nbconvert_exporter": "python",
   "pygments_lexer": "ipython3",
   "version": "3.12.2"
  }
 },
 "nbformat": 4,
 "nbformat_minor": 2
}
