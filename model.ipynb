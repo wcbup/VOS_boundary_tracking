{
 "cells": [
  {
   "cell_type": "code",
   "execution_count": 1,
   "metadata": {},
   "outputs": [],
   "source": [
    "import torch\n",
    "import torch.nn as nn\n",
    "import torch.nn.functional as F\n",
    "from torchvision.models import resnet50, ResNet50_Weights\n",
    "from torchsummary import summary\n",
    "import numpy as np\n",
    "from model import PositionalEncoding\n",
    "from model import NeighborModel"
   ]
  },
  {
   "cell_type": "code",
   "execution_count": 2,
   "metadata": {},
   "outputs": [],
   "source": [
    "def get_bou_features(\n",
    "    img_features: torch.Tensor, boundary: torch.Tensor\n",
    ") -> torch.Tensor:\n",
    "    bou_features = img_features[\n",
    "        0, :, boundary[0, :, 0], boundary[0, :, 1]\n",
    "    ].unsqueeze(0)\n",
    "    for i in range(1, boundary.shape[0]):\n",
    "        bou_features = torch.cat(\n",
    "            (\n",
    "                bou_features,\n",
    "                img_features[\n",
    "                    i,\n",
    "                    :,\n",
    "                    boundary[i, :, 0],\n",
    "                    boundary[i, :, 1],\n",
    "                ].unsqueeze(0),\n",
    "            ),\n",
    "            dim=0,\n",
    "        )\n",
    "    return bou_features"
   ]
  },
  {
   "cell_type": "code",
   "execution_count": 3,
   "metadata": {},
   "outputs": [
    {
     "name": "stderr",
     "output_type": "stream",
     "text": [
      "/work3/s232248/miniconda3/envs/vos/lib/python3.12/site-packages/torch/nn/modules/transformer.py:286: UserWarning: enable_nested_tensor is True, but self.use_nested_tensor is False because encoder_layer.self_attn.num_heads is odd\n",
      "  warnings.warn(f\"enable_nested_tensor is True, but self.use_nested_tensor is False because {why_not_sparsity_fast_path}\")\n"
     ]
    }
   ],
   "source": [
    "d_token = 1024 + 2\n",
    "boundary_num = 80\n",
    "device = \"cpu\"\n",
    "res50 = resnet50(weights=ResNet50_Weights.IMAGENET1K_V2).to(device)\n",
    "res50_bone = nn.Sequential(*list(res50.children())[:-3]).to(device)\n",
    "positional_encoding = PositionalEncoding(d_token).to(device)\n",
    "layernorm = nn.LayerNorm(d_token).to(device)\n",
    "query_encoder = nn.Linear(1024, d_token).to(device)\n",
    "tranformer_encoder = nn.TransformerEncoder(\n",
    "    nn.TransformerEncoderLayer(\n",
    "        d_model=d_token,\n",
    "        nhead=1,\n",
    "        batch_first=True,\n",
    "    ),\n",
    "    num_layers=1,\n",
    ").to(device)\n",
    "xy_offset_encoder = nn.Linear(d_token, 2).to(device)\n",
    "q_offset_encoder = nn.Linear(d_token, d_token).to(device)\n",
    "# xy_fc_list = nn.ModuleList()\n",
    "# for i in range(boundary_num):\n",
    "#     xy_fc_list.append(nn.Linear(d_token, 2))\n",
    "# xy_fc_list = xy_fc_list.to(device)\n",
    "# q_fc_list = nn.ModuleList()\n",
    "# for i in range(boundary_num):\n",
    "#     q_fc_list.append(nn.Linear(d_token, d_token))\n",
    "# q_fc_list = q_fc_list.to(device)"
   ]
  },
  {
   "cell_type": "code",
   "execution_count": 4,
   "metadata": {},
   "outputs": [
    {
     "data": {
      "text/plain": [
       "torch.Size([3, 80, 2])"
      ]
     },
     "execution_count": 4,
     "metadata": {},
     "output_type": "execute_result"
    }
   ],
   "source": [
    "first_img = torch.rand(3, 3, 224, 224).to(device)\n",
    "previous_img = torch.rand(3, 3, 224, 224).to(device)\n",
    "current_img = torch.rand(3, 3, 224, 224).to(device)\n",
    "boundary = torch.randint(0, 224, (3, boundary_num, 2)).to(device)\n",
    "boundary.shape"
   ]
  },
  {
   "cell_type": "code",
   "execution_count": 5,
   "metadata": {},
   "outputs": [
    {
     "data": {
      "text/plain": [
       "torch.Size([3, 1024, 224, 224])"
      ]
     },
     "execution_count": 5,
     "metadata": {},
     "output_type": "execute_result"
    }
   ],
   "source": [
    "first_img_feature = res50_bone(first_img)\n",
    "first_img_feature = F.interpolate(\n",
    "    first_img_feature,\n",
    "    size=(224, 224),\n",
    "    mode=\"bilinear\",\n",
    ")\n",
    "pre_img_feature = res50_bone(previous_img)\n",
    "pre_img_feature = F.interpolate(\n",
    "    pre_img_feature,\n",
    "    size=(224, 224),\n",
    "    mode=\"bilinear\",\n",
    ")\n",
    "cur_img_feature = res50_bone(current_img)\n",
    "cur_img_feature = F.interpolate(\n",
    "    cur_img_feature,\n",
    "    size=(224, 224),\n",
    "    mode=\"bilinear\",\n",
    ")\n",
    "first_img_feature.shape"
   ]
  },
  {
   "cell_type": "code",
   "execution_count": 16,
   "metadata": {},
   "outputs": [
    {
     "data": {
      "text/plain": [
       "torch.Size([3, 18432, 80])"
      ]
     },
     "execution_count": 16,
     "metadata": {},
     "output_type": "execute_result"
    }
   ],
   "source": [
    "def get_neighbor_features_with_scales(\n",
    "    img_features: torch.Tensor, \n",
    "    boundary: torch.Tensor,\n",
    "    scale_levels: list[int]\n",
    "):\n",
    "    def get_neighbor_features(\n",
    "        img_features: torch.Tensor, \n",
    "        boundary: torch.Tensor,\n",
    "        scale_level: int\n",
    "    ): \n",
    "        device = img_features.device\n",
    "        if scale_level > 0:\n",
    "            img_features = F.avg_pool2d(\n",
    "                img_features, \n",
    "                2 ** scale_level,\n",
    "                2 ** scale_level,\n",
    "            )\n",
    "            boundary = boundary // (2 ** scale_level)\n",
    "        img_features = F.pad(img_features, (1, 1, 1, 1), \"constant\", 0)\n",
    "        neighor_features = []\n",
    "        for x_offset in range(-1, 2):\n",
    "            for y_offset in range(-1, 2):\n",
    "                neighor_features.append(\n",
    "                    get_bou_features(\n",
    "                        img_features,\n",
    "                        boundary + torch.tensor([x_offset, y_offset]).to(device),\n",
    "                    )\n",
    "                )\n",
    "        return torch.cat(neighor_features, dim=1)\n",
    "    neighbor_features = get_neighbor_features(img_features, boundary, scale_levels[0])\n",
    "    for scale_level in scale_levels[1:]:\n",
    "        neighbor_features = torch.cat(\n",
    "            (\n",
    "                neighbor_features,\n",
    "                get_neighbor_features(img_features, boundary, scale_level),\n",
    "            ),\n",
    "            dim=1,\n",
    "        )\n",
    "    return neighbor_features\n",
    "get_neighbor_features_with_scales(first_img_feature, boundary, [0, 2]).shape"
   ]
  },
  {
   "cell_type": "code",
   "execution_count": 6,
   "metadata": {},
   "outputs": [],
   "source": [
    "from model import IterativeModelWithFirst_Nei"
   ]
  },
  {
   "cell_type": "code",
   "execution_count": 7,
   "metadata": {},
   "outputs": [
    {
     "name": "stderr",
     "output_type": "stream",
     "text": [
      "/work3/s232248/miniconda3/envs/vos/lib/python3.12/site-packages/torch/nn/modules/transformer.py:286: UserWarning: enable_nested_tensor is True, but self.use_nested_tensor is False because encoder_layer.self_attn.num_heads is odd\n",
      "  warnings.warn(f\"enable_nested_tensor is True, but self.use_nested_tensor is False because {why_not_sparsity_fast_path}\")\n"
     ]
    }
   ],
   "source": [
    "model = IterativeModelWithFirst_Nei()"
   ]
  },
  {
   "cell_type": "code",
   "execution_count": 8,
   "metadata": {},
   "outputs": [],
   "source": [
    "results = model(first_img, boundary, previous_img, current_img, boundary)"
   ]
  },
  {
   "cell_type": "code",
   "execution_count": 10,
   "metadata": {},
   "outputs": [
    {
     "data": {
      "text/plain": [
       "tensor([[[ 42.2256, 165.7563],\n",
       "         [ 30.3417, 147.9166],\n",
       "         [194.1908,   4.9164],\n",
       "         [ 67.5906, 178.9071],\n",
       "         [ 57.9775,  83.1121],\n",
       "         [123.8685, 118.2254],\n",
       "         [ 46.0993, 180.5788],\n",
       "         [ 55.9677, 172.7694],\n",
       "         [ 80.7329,  35.2132],\n",
       "         [ 45.4163,  93.8259],\n",
       "         [141.8510, 173.9008],\n",
       "         [184.8552,  12.3862],\n",
       "         [189.8811,  58.5549],\n",
       "         [ 60.6427,  18.2008],\n",
       "         [ 68.3529, 201.3015],\n",
       "         [208.7160,  86.0565],\n",
       "         [  3.0360, 120.2385],\n",
       "         [151.7688,  97.6674],\n",
       "         [144.8080,  49.2164],\n",
       "         [ 30.8734, 135.4001],\n",
       "         [ 59.4820, 216.6907],\n",
       "         [152.3877,  94.4178],\n",
       "         [ 89.3746,  78.8800],\n",
       "         [ 31.9979,  33.2265],\n",
       "         [ 64.9854,  51.4689],\n",
       "         [208.8034, 163.4709],\n",
       "         [112.3681, 136.3162],\n",
       "         [204.9798, 175.9070],\n",
       "         [ 72.3631,   6.8063],\n",
       "         [208.5574, 155.5518],\n",
       "         [ 60.4339,  48.9750],\n",
       "         [ 12.2287,  35.9830],\n",
       "         [ 90.0066,  11.6288],\n",
       "         [206.5051,  71.6058],\n",
       "         [ 71.3481, 178.0530],\n",
       "         [ 24.8538, 209.7911],\n",
       "         [ 73.3953,  80.6757],\n",
       "         [  8.6726,  75.0175],\n",
       "         [112.5170, 155.4676],\n",
       "         [185.3156, 135.4040],\n",
       "         [171.6812, 170.8415],\n",
       "         [  5.3404, 187.3778],\n",
       "         [  4.4142, 185.2590],\n",
       "         [131.1904,  20.4004],\n",
       "         [ 30.3536,  69.0580],\n",
       "         [221.2388,   5.2072],\n",
       "         [184.0013, 184.7529],\n",
       "         [174.9887, 210.2019],\n",
       "         [178.4392,  71.9145],\n",
       "         [117.1000, 127.2246],\n",
       "         [209.5232, 123.6128],\n",
       "         [163.7027, 194.3601],\n",
       "         [162.1975,   0.0000],\n",
       "         [  2.3179, 148.5935],\n",
       "         [209.4097, 214.7575],\n",
       "         [ 49.8963,  63.4543],\n",
       "         [ 51.0141, 104.5393],\n",
       "         [115.7876, 167.6224],\n",
       "         [  8.3570, 175.7251],\n",
       "         [ 22.1879,  46.6304],\n",
       "         [ 91.8682,  82.9566],\n",
       "         [140.9725, 134.5630],\n",
       "         [132.0042, 138.9975],\n",
       "         [103.6966, 175.7643],\n",
       "         [155.3940,  51.0111],\n",
       "         [199.5345, 182.5457],\n",
       "         [ 95.4657, 170.5837],\n",
       "         [172.8492, 173.8746],\n",
       "         [ 26.6459,  14.0094],\n",
       "         [193.9053, 175.6561],\n",
       "         [120.6657, 192.7557],\n",
       "         [ 78.4197,  81.8198],\n",
       "         [221.1587, 105.5112],\n",
       "         [221.2109, 192.6600],\n",
       "         [206.0042,  26.2136],\n",
       "         [118.2216, 184.9617],\n",
       "         [ 97.1385, 138.0679],\n",
       "         [ 56.1355, 127.7086],\n",
       "         [ 83.1039,  50.7702],\n",
       "         [  0.8857,  53.4418]],\n",
       "\n",
       "        [[216.2401,   4.7269],\n",
       "         [180.4521,  11.5094],\n",
       "         [223.0000,  30.1212],\n",
       "         [125.1198, 123.3420],\n",
       "         [ 52.1854,  73.7286],\n",
       "         [203.6248, 115.2290],\n",
       "         [ 16.7922, 183.2899],\n",
       "         [ 92.2763, 163.9017],\n",
       "         [ 67.9296,  73.3001],\n",
       "         [154.8183,   1.8667],\n",
       "         [223.0000,  45.9175],\n",
       "         [ 72.5907, 189.6795],\n",
       "         [ 54.7772, 196.2564],\n",
       "         [107.2308, 212.2722],\n",
       "         [ 87.8157, 165.7184],\n",
       "         [133.0015, 171.1696],\n",
       "         [121.7671, 156.1902],\n",
       "         [  2.5710, 212.3696],\n",
       "         [222.9101, 198.8244],\n",
       "         [ 38.9470,  35.8371],\n",
       "         [ 62.4931,  77.1981],\n",
       "         [  8.9213, 198.7552],\n",
       "         [199.5679,  93.4445],\n",
       "         [216.7013, 113.6143],\n",
       "         [102.4084,  64.4697],\n",
       "         [ 15.6651,  63.3949],\n",
       "         [144.4797,  77.2066],\n",
       "         [ 92.0651,   0.0000],\n",
       "         [ 17.0004, 207.3173],\n",
       "         [114.5837,  85.9509],\n",
       "         [ 70.0896, 150.4853],\n",
       "         [168.3862, 109.0275],\n",
       "         [ 33.1926,  90.2712],\n",
       "         [106.0980, 180.8712],\n",
       "         [159.7809, 157.9939],\n",
       "         [162.5111, 140.0401],\n",
       "         [114.4115,  36.3700],\n",
       "         [ 18.0193,  75.8876],\n",
       "         [  2.2203, 125.3883],\n",
       "         [146.4727, 210.1292],\n",
       "         [148.2142, 204.2329],\n",
       "         [128.4315, 218.6743],\n",
       "         [ 85.8024, 159.2409],\n",
       "         [159.5164, 192.4017],\n",
       "         [106.1137, 172.1563],\n",
       "         [156.6958, 206.8730],\n",
       "         [ 29.0289, 136.4465],\n",
       "         [113.5730, 208.7471],\n",
       "         [ 64.7070,  80.8213],\n",
       "         [112.3855, 185.2317],\n",
       "         [103.1660, 116.4934],\n",
       "         [163.0768, 165.7720],\n",
       "         [150.2975, 207.7273],\n",
       "         [172.7612,  85.2142],\n",
       "         [199.7346,  43.5374],\n",
       "         [108.5115, 127.1185],\n",
       "         [165.7973,  57.0971],\n",
       "         [113.4060, 149.9366],\n",
       "         [187.4703,   0.0000],\n",
       "         [190.6656, 117.8956],\n",
       "         [195.4480,  59.2114],\n",
       "         [201.1086,  10.4621],\n",
       "         [205.9461,  30.8954],\n",
       "         [155.3273, 127.4754],\n",
       "         [166.3322, 198.8218],\n",
       "         [ 30.1193, 217.1020],\n",
       "         [178.6662, 158.4763],\n",
       "         [148.7533, 205.0306],\n",
       "         [136.3999,  44.6223],\n",
       "         [ 52.9961,  48.8534],\n",
       "         [114.2933, 219.2557],\n",
       "         [ 10.8017, 200.9492],\n",
       "         [109.5519, 167.7026],\n",
       "         [ 58.5622, 123.4837],\n",
       "         [ 64.4516,  44.9599],\n",
       "         [ 95.3473,  47.2082],\n",
       "         [119.1198,  61.2873],\n",
       "         [185.5688,  91.5707],\n",
       "         [200.3780, 143.7857],\n",
       "         [126.9605,  53.8630]],\n",
       "\n",
       "        [[216.9199,   1.9113],\n",
       "         [158.3153, 154.5062],\n",
       "         [160.6731, 175.9218],\n",
       "         [ 25.8310,  98.6605],\n",
       "         [ 50.4609,   3.7680],\n",
       "         [170.6633, 119.3732],\n",
       "         [ 56.1145,  46.2969],\n",
       "         [ 10.4996, 137.2054],\n",
       "         [186.1334,   9.2435],\n",
       "         [161.7101, 217.4212],\n",
       "         [143.2593,  54.1516],\n",
       "         [123.9736, 188.6938],\n",
       "         [ 55.5986, 148.9531],\n",
       "         [ 43.4844, 172.2476],\n",
       "         [187.4754, 163.0301],\n",
       "         [103.3569,  73.9474],\n",
       "         [ 93.5701, 104.2051],\n",
       "         [186.6059, 214.7599],\n",
       "         [202.2218, 134.3080],\n",
       "         [148.7241, 123.6899],\n",
       "         [194.8050, 139.7587],\n",
       "         [185.8006, 174.8564],\n",
       "         [ 94.9605, 110.9159],\n",
       "         [ 71.2945, 167.1228],\n",
       "         [186.1074,  98.2839],\n",
       "         [114.3236, 113.1002],\n",
       "         [136.0086, 157.6857],\n",
       "         [ 28.1924, 123.6574],\n",
       "         [ 59.5130,  65.1819],\n",
       "         [ 40.7379,  36.1802],\n",
       "         [178.9377, 143.2164],\n",
       "         [195.6089,  37.9619],\n",
       "         [143.8814, 144.8460],\n",
       "         [208.8424, 134.2547],\n",
       "         [ 83.3614, 193.3910],\n",
       "         [150.3824,  46.0947],\n",
       "         [ 44.1628,  11.7101],\n",
       "         [ 79.5964,  85.0663],\n",
       "         [171.4548, 210.3301],\n",
       "         [125.9241, 147.7665],\n",
       "         [121.5380, 158.5069],\n",
       "         [138.0635,   8.2086],\n",
       "         [ 12.0325, 203.5090],\n",
       "         [184.6190,  32.8834],\n",
       "         [ 89.6604, 157.0139],\n",
       "         [155.4664, 159.5262],\n",
       "         [146.0004, 167.9473],\n",
       "         [ 80.1091, 121.0364],\n",
       "         [ 66.3586, 129.3260],\n",
       "         [ 83.9014,  81.2865],\n",
       "         [190.5323, 184.7459],\n",
       "         [ 14.5524,  40.6844],\n",
       "         [195.7125,  98.8738],\n",
       "         [220.0601,  60.9583],\n",
       "         [101.8230, 199.5843],\n",
       "         [139.5367,  80.2505],\n",
       "         [ 39.6738,  19.0157],\n",
       "         [ 93.9575,   9.6577],\n",
       "         [  3.4031, 108.6010],\n",
       "         [ 24.2855,  42.4712],\n",
       "         [119.4463,   0.3394],\n",
       "         [134.4979, 196.5703],\n",
       "         [ 46.5857,  54.2385],\n",
       "         [101.6857,  70.5920],\n",
       "         [131.9504,  41.5223],\n",
       "         [156.4565,  34.8582],\n",
       "         [ 93.8553,  11.5581],\n",
       "         [ 16.4122, 188.4852],\n",
       "         [101.4705, 210.7214],\n",
       "         [ 14.6676,  32.9347],\n",
       "         [176.4199, 133.4092],\n",
       "         [180.3045, 220.2981],\n",
       "         [ 20.6548, 187.5097],\n",
       "         [  4.1043, 144.7016],\n",
       "         [164.3068, 112.7531],\n",
       "         [221.0667, 201.0395],\n",
       "         [149.6617,  72.5149],\n",
       "         [ 15.3647,  74.7759],\n",
       "         [ 12.0837, 150.3950],\n",
       "         [176.6172, 189.6904]]], grad_fn=<ClampBackward1>)"
      ]
     },
     "execution_count": 10,
     "metadata": {},
     "output_type": "execute_result"
    },
    {
     "ename": "",
     "evalue": "",
     "output_type": "error",
     "traceback": [
      "\u001b[1;31mThe Kernel crashed while executing code in the current cell or a previous cell. \n",
      "\u001b[1;31mPlease review the code in the cell(s) to identify a possible cause of the failure. \n",
      "\u001b[1;31mClick <a href='https://aka.ms/vscodeJupyterKernelCrash'>here</a> for more info. \n",
      "\u001b[1;31mView Jupyter <a href='command:jupyter.viewOutput'>log</a> for further details."
     ]
    },
    {
     "ename": "",
     "evalue": "",
     "output_type": "error",
     "traceback": [
      "\u001b[1;31mThe Kernel crashed while executing code in the current cell or a previous cell. \n",
      "\u001b[1;31mPlease review the code in the cell(s) to identify a possible cause of the failure. \n",
      "\u001b[1;31mClick <a href='https://aka.ms/vscodeJupyterKernelCrash'>here</a> for more info. \n",
      "\u001b[1;31mView Jupyter <a href='command:jupyter.viewOutput'>log</a> for further details."
     ]
    },
    {
     "ename": "",
     "evalue": "",
     "output_type": "error",
     "traceback": [
      "\u001b[1;31mThe Kernel crashed while executing code in the current cell or a previous cell. \n",
      "\u001b[1;31mPlease review the code in the cell(s) to identify a possible cause of the failure. \n",
      "\u001b[1;31mClick <a href='https://aka.ms/vscodeJupyterKernelCrash'>here</a> for more info. \n",
      "\u001b[1;31mView Jupyter <a href='command:jupyter.viewOutput'>log</a> for further details."
     ]
    },
    {
     "ename": "",
     "evalue": "",
     "output_type": "error",
     "traceback": [
      "\u001b[1;31mThe Kernel crashed while executing code in the current cell or a previous cell. \n",
      "\u001b[1;31mPlease review the code in the cell(s) to identify a possible cause of the failure. \n",
      "\u001b[1;31mClick <a href='https://aka.ms/vscodeJupyterKernelCrash'>here</a> for more info. \n",
      "\u001b[1;31mView Jupyter <a href='command:jupyter.viewOutput'>log</a> for further details."
     ]
    },
    {
     "ename": "",
     "evalue": "",
     "output_type": "error",
     "traceback": [
      "\u001b[1;31mThe Kernel crashed while executing code in the current cell or a previous cell. \n",
      "\u001b[1;31mPlease review the code in the cell(s) to identify a possible cause of the failure. \n",
      "\u001b[1;31mClick <a href='https://aka.ms/vscodeJupyterKernelCrash'>here</a> for more info. \n",
      "\u001b[1;31mView Jupyter <a href='command:jupyter.viewOutput'>log</a> for further details."
     ]
    }
   ],
   "source": [
    "results[-1]"
   ]
  },
  {
   "cell_type": "code",
   "execution_count": 39,
   "metadata": {},
   "outputs": [
    {
     "data": {
      "text/plain": [
       "torch.Size([3, 80, 1024])"
      ]
     },
     "execution_count": 39,
     "metadata": {},
     "output_type": "execute_result"
    }
   ],
   "source": [
    "first_query = get_bou_features(first_img_feature, boundary)\n",
    "first_query = first_query.permute(0, 2, 1)\n",
    "pre_query = get_bou_features(pre_img_feature, boundary)\n",
    "pre_query = pre_query.permute(0, 2, 1)\n",
    "first_query.shape\n"
   ]
  },
  {
   "cell_type": "code",
   "execution_count": 41,
   "metadata": {},
   "outputs": [
    {
     "name": "stdout",
     "output_type": "stream",
     "text": [
      "tensor(98915.5312, grad_fn=<SumBackward0>)\n",
      "tensor(98915.5312, grad_fn=<SumBackward0>)\n",
      "tensor(90949.9922, grad_fn=<SumBackward0>)\n",
      "tensor(90598.2734, grad_fn=<SumBackward0>)\n",
      "tensor(90960.5625, grad_fn=<SumBackward0>)\n",
      "tensor(90725.2656, grad_fn=<SumBackward0>)\n",
      "tensor(90631.5469, grad_fn=<SumBackward0>)\n",
      "tensor(90929.3281, grad_fn=<SumBackward0>)\n",
      "tensor(91280.0703, grad_fn=<SumBackward0>)\n",
      "tensor(90991.5234, grad_fn=<SumBackward0>)\n",
      "tensor(91189.1953, grad_fn=<SumBackward0>)\n",
      "tensor(90458.0156, grad_fn=<SumBackward0>)\n",
      "tensor(90843.2188, grad_fn=<SumBackward0>)\n",
      "tensor(90949.4531, grad_fn=<SumBackward0>)\n",
      "tensor(91146.4219, grad_fn=<SumBackward0>)\n",
      "tensor(90479.8516, grad_fn=<SumBackward0>)\n",
      "tensor(90386.1484, grad_fn=<SumBackward0>)\n",
      "tensor(91073.7031, grad_fn=<SumBackward0>)\n",
      "tensor(90640.0312, grad_fn=<SumBackward0>)\n",
      "tensor(91199.4062, grad_fn=<SumBackward0>)\n",
      "tensor(90161.0078, grad_fn=<SumBackward0>)\n",
      "tensor(91157.1016, grad_fn=<SumBackward0>)\n",
      "tensor(90881.9062, grad_fn=<SumBackward0>)\n",
      "tensor(91196.6406, grad_fn=<SumBackward0>)\n",
      "tensor(90550.5938, grad_fn=<SumBackward0>)\n",
      "tensor(90540.7109, grad_fn=<SumBackward0>)\n",
      "tensor(90562.4844, grad_fn=<SumBackward0>)\n",
      "tensor(90940.2500, grad_fn=<SumBackward0>)\n",
      "tensor(90900.7422, grad_fn=<SumBackward0>)\n",
      "tensor(90908.5312, grad_fn=<SumBackward0>)\n",
      "tensor(90345.2812, grad_fn=<SumBackward0>)\n",
      "tensor(90117.3516, grad_fn=<SumBackward0>)\n",
      "tensor(90741.4688, grad_fn=<SumBackward0>)\n",
      "tensor(90903.4141, grad_fn=<SumBackward0>)\n",
      "tensor(90495.4219, grad_fn=<SumBackward0>)\n",
      "tensor(91684.0703, grad_fn=<SumBackward0>)\n",
      "tensor(90702.6797, grad_fn=<SumBackward0>)\n",
      "tensor(91064.9688, grad_fn=<SumBackward0>)\n",
      "tensor(90558.3828, grad_fn=<SumBackward0>)\n",
      "tensor(90516.2656, grad_fn=<SumBackward0>)\n",
      "tensor(91690.7422, grad_fn=<SumBackward0>)\n",
      "tensor(90636.0078, grad_fn=<SumBackward0>)\n",
      "tensor(91351.7812, grad_fn=<SumBackward0>)\n",
      "tensor(91423.9609, grad_fn=<SumBackward0>)\n",
      "tensor(90809.3281, grad_fn=<SumBackward0>)\n",
      "tensor(91526.1797, grad_fn=<SumBackward0>)\n",
      "tensor(90765.9375, grad_fn=<SumBackward0>)\n",
      "tensor(91179.4375, grad_fn=<SumBackward0>)\n",
      "tensor(90587.5703, grad_fn=<SumBackward0>)\n",
      "tensor(90471.9844, grad_fn=<SumBackward0>)\n",
      "tensor(91100.6328, grad_fn=<SumBackward0>)\n",
      "tensor(90785.9062, grad_fn=<SumBackward0>)\n",
      "tensor(91163.8594, grad_fn=<SumBackward0>)\n",
      "tensor(91602.6406, grad_fn=<SumBackward0>)\n",
      "tensor(90559.7656, grad_fn=<SumBackward0>)\n",
      "tensor(90456.9062, grad_fn=<SumBackward0>)\n",
      "tensor(90624.8828, grad_fn=<SumBackward0>)\n",
      "tensor(91396.3047, grad_fn=<SumBackward0>)\n",
      "tensor(91033.8594, grad_fn=<SumBackward0>)\n",
      "tensor(90778.2422, grad_fn=<SumBackward0>)\n",
      "tensor(90697.0312, grad_fn=<SumBackward0>)\n",
      "tensor(90430.8828, grad_fn=<SumBackward0>)\n",
      "tensor(90857.7969, grad_fn=<SumBackward0>)\n",
      "tensor(90965.0078, grad_fn=<SumBackward0>)\n",
      "tensor(90778.2578, grad_fn=<SumBackward0>)\n",
      "tensor(91174.3906, grad_fn=<SumBackward0>)\n",
      "tensor(90149.6484, grad_fn=<SumBackward0>)\n",
      "tensor(90990.2344, grad_fn=<SumBackward0>)\n",
      "tensor(91160.4766, grad_fn=<SumBackward0>)\n",
      "tensor(90664.7500, grad_fn=<SumBackward0>)\n",
      "tensor(90687.3750, grad_fn=<SumBackward0>)\n",
      "tensor(91108.8672, grad_fn=<SumBackward0>)\n",
      "tensor(90837.3984, grad_fn=<SumBackward0>)\n",
      "tensor(90976.4766, grad_fn=<SumBackward0>)\n",
      "tensor(91086.8047, grad_fn=<SumBackward0>)\n",
      "tensor(91010.6406, grad_fn=<SumBackward0>)\n",
      "tensor(90727.6875, grad_fn=<SumBackward0>)\n",
      "tensor(90875.3594, grad_fn=<SumBackward0>)\n",
      "tensor(90352.5625, grad_fn=<SumBackward0>)\n",
      "tensor(90715.4531, grad_fn=<SumBackward0>)\n",
      "tensor(90876.9531, grad_fn=<SumBackward0>)\n",
      "tensor(98915.5312, grad_fn=<SumBackward0>) 0\n"
     ]
    }
   ],
   "source": [
    "def get_best_match(feature0: torch.Tensor, feature1: torch.Tensor):\n",
    "    best_shift = 0\n",
    "    best_similarity = (feature0 * feature1).sum() \n",
    "    for shift in range(feature0.shape[1]):\n",
    "        similarity = (feature0 * feature1.roll(shift, dims=1)).sum()\n",
    "        if similarity > best_similarity:\n",
    "            best_similarity = similarity\n",
    "            best_shift = shift\n",
    "    return feature0, feature1.roll(best_shift, dims=1)\n",
    "    \n",
    "get_best_match(first_query, pre_query)"
   ]
  },
  {
   "cell_type": "code",
   "execution_count": 11,
   "metadata": {},
   "outputs": [
    {
     "data": {
      "text/plain": [
       "torch.Size([3, 1024, 80])"
      ]
     },
     "execution_count": 11,
     "metadata": {},
     "output_type": "execute_result"
    }
   ],
   "source": [
    "raw_query_features = get_bou_features(pre_img_feature, boundary)\n",
    "raw_query_features.shape"
   ]
  },
  {
   "cell_type": "code",
   "execution_count": 12,
   "metadata": {},
   "outputs": [
    {
     "data": {
      "text/plain": [
       "torch.Size([3, 80, 1026])"
      ]
     },
     "execution_count": 12,
     "metadata": {},
     "output_type": "execute_result"
    }
   ],
   "source": [
    "query_features = query_encoder(raw_query_features.permute(0, 2, 1))\n",
    "query_features.shape"
   ]
  },
  {
   "cell_type": "code",
   "execution_count": 14,
   "metadata": {},
   "outputs": [
    {
     "data": {
      "text/plain": [
       "torch.Size([3, 80, 1024])"
      ]
     },
     "execution_count": 14,
     "metadata": {},
     "output_type": "execute_result"
    }
   ],
   "source": [
    "boundary_features = get_bou_features(cur_img_feature, boundary)\n",
    "boundary_features = boundary_features.permute(0, 2, 1)\n",
    "boundary_features.shape"
   ]
  },
  {
   "cell_type": "code",
   "execution_count": 15,
   "metadata": {},
   "outputs": [
    {
     "data": {
      "text/plain": [
       "torch.Size([3, 80, 1026])"
      ]
     },
     "execution_count": 15,
     "metadata": {},
     "output_type": "execute_result"
    }
   ],
   "source": [
    "boundary_tokens = torch.cat([boundary_features, boundary], dim=2)\n",
    "boundary_tokens.shape"
   ]
  },
  {
   "cell_type": "code",
   "execution_count": 16,
   "metadata": {},
   "outputs": [
    {
     "data": {
      "text/plain": [
       "torch.Size([3, 160, 1026])"
      ]
     },
     "execution_count": 16,
     "metadata": {},
     "output_type": "execute_result"
    }
   ],
   "source": [
    "tokens = torch.cat([query_features, boundary_tokens], dim=1)\n",
    "tokens.shape"
   ]
  },
  {
   "cell_type": "code",
   "execution_count": 17,
   "metadata": {},
   "outputs": [],
   "source": [
    "tokens = layernorm(tokens)\n",
    "tokens = positional_encoding(tokens)"
   ]
  },
  {
   "cell_type": "code",
   "execution_count": 18,
   "metadata": {},
   "outputs": [
    {
     "data": {
      "text/plain": [
       "torch.Size([3, 160, 1026])"
      ]
     },
     "execution_count": 18,
     "metadata": {},
     "output_type": "execute_result"
    }
   ],
   "source": [
    "out_tokens = tranformer_encoder(tokens)\n",
    "out_tokens.shape"
   ]
  },
  {
   "cell_type": "code",
   "execution_count": 23,
   "metadata": {},
   "outputs": [
    {
     "data": {
      "text/plain": [
       "torch.Size([3, 80, 1026])"
      ]
     },
     "execution_count": 23,
     "metadata": {},
     "output_type": "execute_result"
    }
   ],
   "source": [
    "query_offsets = tokens[:, :boundary_num, :]\n",
    "query_offsets = q_offset_encoder(query_offsets)\n",
    "query_offsets.shape"
   ]
  },
  {
   "cell_type": "code",
   "execution_count": 14,
   "metadata": {},
   "outputs": [
    {
     "ename": "NameError",
     "evalue": "name 'tokens' is not defined",
     "output_type": "error",
     "traceback": [
      "\u001b[0;31m---------------------------------------------------------------------------\u001b[0m",
      "\u001b[0;31mNameError\u001b[0m                                 Traceback (most recent call last)",
      "Cell \u001b[0;32mIn[14], line 1\u001b[0m\n\u001b[0;32m----> 1\u001b[0m xy_offsets \u001b[38;5;241m=\u001b[39m \u001b[43mtokens\u001b[49m[:, boundary_num:, :]\n\u001b[1;32m      2\u001b[0m xy_offsets \u001b[38;5;241m=\u001b[39m xy_offset_encoder(xy_offsets)\n\u001b[1;32m      3\u001b[0m xy_offsets\n",
      "\u001b[0;31mNameError\u001b[0m: name 'tokens' is not defined"
     ]
    }
   ],
   "source": [
    "xy_offsets = tokens[:, boundary_num:, :]\n",
    "xy_offsets = xy_offset_encoder(xy_offsets)\n",
    "xy_offsets"
   ]
  }
 ],
 "metadata": {
  "kernelspec": {
   "display_name": "Python 3 (ipykernel)",
   "language": "python",
   "name": "python3"
  },
  "language_info": {
   "codemirror_mode": {
    "name": "ipython",
    "version": 3
   },
   "file_extension": ".py",
   "mimetype": "text/x-python",
   "name": "python",
   "nbconvert_exporter": "python",
   "pygments_lexer": "ipython3",
   "version": "3.12.2"
  }
 },
 "nbformat": 4,
 "nbformat_minor": 2
}
